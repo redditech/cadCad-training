{
 "cells": [
  {
   "cell_type": "markdown",
   "metadata": {},
   "source": [
    "<span style=\"display:block;text-align:center;margin-right:105px\"><img src=\"../../media/logos/logo-vertical.png\" width=\"200\"/></span>"
   ]
  },
  {
   "cell_type": "markdown",
   "metadata": {
    "slideshow": {
     "slide_type": "slide"
    }
   },
   "source": [
    "# Section 7: Capstone Project\n",
    "\n",
    "---"
   ]
  },
  {
   "cell_type": "markdown",
   "metadata": {},
   "source": [
    "# Table of Contents\n",
    "\n",
    "* [System Requirements (Part 1)](#System-Requirements)\n",
    "  * [Model Introduction](#Model-Introduction)\n",
    "  * [Requirements Analysis](#Requirements-Analysis)\n",
    "  * [Visual System Mapping: Causal Loop Diagram](#Visual-System-Mapping:-Causal-Loop-Diagram)\n",
    "  * [Visual System Mapping: Stock & Flow Diagram](#Visual-System-Mapping:-Stock-&-Flow-Diagram)\n",
    "  * [Mathematical Specification](#Mathematical-Specification)\n",
    "* [System Design (Part 2)](#System-Design)\n",
    "  * [Differential Specification](#Differential-Specification)\n",
    "  * [cadCAD Standard Notebook Layout](#cadCAD-Standard-Notebook-Layout)\n",
    "    0. [Dependencies](#0.-Dependencies)\n",
    "    1. [State Variables](#1.-State-Variables)\n",
    "    2. [System Parameters](#2.-System-Parameters)\n",
    "    3. [Policy Functions](#3.-Policy-Functions)\n",
    "    4. [State Update Functions](#4.-State-Update-Functions)\n",
    "    5. [Partial State Update Blocks](#5.-Partial-State-Update-Blocks)\n",
    "    6. [Configuration](#6.-Configuration)\n",
    "    7. [Execution](#7.-Execution)\n",
    "    8. [Simulation Output Preparation](#8.-Simulation-Output-Preparation)\n",
    "* [System Validation (Part 3)](#System-Validation)\n",
    "  * [What-if Matrix](#What-if-Matrix)\n",
    "  * [System Analysis](#System-Analysis)"
   ]
  },
  {
   "cell_type": "markdown",
   "metadata": {},
   "source": [
    "---"
   ]
  },
  {
   "cell_type": "markdown",
   "metadata": {},
   "source": [
    "# System Requirements"
   ]
  },
  {
   "cell_type": "markdown",
   "metadata": {},
   "source": [
    "<center><img src=\"images/edp-phase-1.png\" alt=\"Engineering Design Process, phase 1 - System requirements\" width=\"60%\"/>"
   ]
  },
  {
   "cell_type": "markdown",
   "metadata": {},
   "source": [
    "## Model Introduction"
   ]
  },
  {
   "cell_type": "markdown",
   "metadata": {},
   "source": [
    "<center>\n",
    "<img src=\"images/globe.png\" alt=\"Earth globe\" width=\"200px\"/>"
   ]
  },
  {
   "cell_type": "markdown",
   "metadata": {},
   "source": [
    "Project Anthropocene is a model that enables the insightful analysis of the impact of carbon dioxide (CO2) on the Earth's temperature."
   ]
  },
  {
   "cell_type": "markdown",
   "metadata": {},
   "source": [
    "## Requirements Analysis\n",
    "\n",
    "[Link to System Analysis](#System-Analysis)"
   ]
  },
  {
   "cell_type": "markdown",
   "metadata": {},
   "source": [
    "### Questions\n",
    "       \n",
    "**Planned analysis:** How does the Earth's temperature evolve over the next 100 years under various assumptions regarding CO2 emissions?\n",
    "\n",
    "1. How will the __Earth's average temperature__ and the __rate of annual temperature change__ develop over the next 100 years, if we keep CO2 emissions __unchanged__ at today’s annual emission levels vs. a __doubling__ of today’s emission levels.\n",
    "2. How will the __Earth's average temperature__ and the __rate of annual temperature change__ develop over the next 100 years if we are able to reduce annual CO2 emissions to __zero__ after a given number of years?"
   ]
  },
  {
   "cell_type": "markdown",
   "metadata": {},
   "source": [
    "## Visual System Mapping: Causal Loop Diagram"
   ]
  },
  {
   "cell_type": "markdown",
   "metadata": {},
   "source": [
    "The overall __relationships__ in the model are the following:\n",
    "* The __Earth's temperature is determined by what's called radiation balance__, i.e. how much radiation comes in via the Sun, minus how much is dissipating into space. If this balance is positive, heat accumulates, and the Earth warms up; if it is negative, the Earth cools down.\n",
    "* The __radiation balance__ is driven by the Sun's radiation, which tends to make the Earth hotter, and the Earth's radiation, which makes heat dissipate and the planet colder.\n",
    "* The __radiation balance is influenced by the well-known greenhouse effect__, i.e. the stronger the greenhouse effect, the more radiation from Earth gets trapped in the atmosphere unable to dissipate into space and the higher the radiation balance. Quick primer on the greenhouse effect: https://en.wikipedia.org/wiki/Greenhouse_effect\n",
    "* __CO2__ contributes strongly to the greenhouse effect."
   ]
  },
  {
   "cell_type": "markdown",
   "metadata": {},
   "source": [
    "<center>\n",
    "<img src=\"images/s7-climate-cld-diagram.png\" alt=\"Model for Project Anthropocene\" width=\"60%\"/>"
   ]
  },
  {
   "cell_type": "markdown",
   "metadata": {},
   "source": [
    "## Visual System Mapping: Stock & Flow Diagram"
   ]
  },
  {
   "cell_type": "markdown",
   "metadata": {},
   "source": [
    "<center>\n",
    "<img src=\"images/s7-anthropocene-stock-and-flow.png\" alt=\"Stock & Flow diagram for Project Anthropocene\" width=\"60%\"/>"
   ]
  },
  {
   "cell_type": "markdown",
   "metadata": {},
   "source": [
    "## Mathematical Specification"
   ]
  },
  {
   "cell_type": "markdown",
   "metadata": {},
   "source": [
    "\n",
    "The Anthropocene system is an IVP (initial value problem) which is described by the following equations:\n",
    "\n",
    "\\begin{align}\n",
    "\\tag{1}\n",
    "dCO_2(t) = \\begin{cases}\n",
    "    \\mathcal{N}(\\mu,  \\sigma) & \\forall t \\in [0, t_w] \\\\\n",
    "     \\mathcal{N}(0,  \\sigma) & \\forall t \\in [t_w, \\infty]\n",
    "            \\end{cases}\n",
    "\\end{align}\n",
    "\n",
    "\\begin{align}\n",
    "\\tag{2}\n",
    "\\alpha(t) = 1 - e^{-\\beta * CO_2(t)}\n",
    "\\end{align}\n",
    "\n",
    "\\begin{align}\n",
    "\\tag{3}\n",
    "Y(t) = \\alpha(t) Z(t)\n",
    "\\end{align}\n",
    "\n",
    "\\begin{align}\n",
    "\\tag{4}\n",
    "Z(t) = K T(t)^4\n",
    "\\end{align}\n",
    "\n",
    "\\begin{align}\n",
    "\\tag{5}\n",
    "dT(t) = \\gamma(a + Y(t) - Z(t))\n",
    "\\end{align}\n",
    "\n",
    "\n",
    "Where $\\mathcal{N}$ represents the normal distribution with mean $\\mu$ and standard deviation $\\sigma$. For each timestep $t$ we have the $CO_2(t)$, $\\alpha(t)$, $Y(t)$, $T(t)$ and $Z(t)$ being the atmospheric $CO_2$ concentration, the atmosphere reflectance, the reflected radiation, the surface temperature and the outgoing radiation respectively. Also, we have the $\\beta$, $\\gamma$, $a$, $K$, $t_w$ constants as being a $CO_2$ to reflectance conversion factor, a radiation to temperature conversion factor, the Sun's yearly radiance, a constant for the blackbody effect and the year where emissions are stopped.\n",
    "\n",
    "The system is tightly coupled and is both non-linear and stochastic, which can make mathematical treatment difficult, and as such, the characterization of it will be made easier through an experimental approach and computational simulations, which is exactly what **cadCAD** enables us to do."
   ]
  },
  {
   "cell_type": "markdown",
   "metadata": {},
   "source": [
    "# System Design"
   ]
  },
  {
   "cell_type": "markdown",
   "metadata": {},
   "source": [
    "<center><img src=\"images/edp-phase-2.png\" alt=\"Engineering Design Process, phase 1 - System design\" width=\"60%\"/>"
   ]
  },
  {
   "cell_type": "markdown",
   "metadata": {},
   "source": [
    "## Differential Specification"
   ]
  },
  {
   "cell_type": "markdown",
   "metadata": {},
   "source": [
    "<center><img src=\"images/s7-differential-spec-anthropocene.png\" alt=\"Model for Project Anthropocene\" width=\"60%\"/>"
   ]
  },
  {
   "cell_type": "markdown",
   "metadata": {},
   "source": [
    "## cadCAD Standard Notebook Layout"
   ]
  },
  {
   "cell_type": "markdown",
   "metadata": {},
   "source": [
    "### 0. Dependencies"
   ]
  },
  {
   "cell_type": "code",
   "execution_count": null,
   "metadata": {},
   "outputs": [],
   "source": [
    "import pandas as pd\n",
    "import numpy as np\n",
    "from random import normalvariate\n",
    "import plotly.express as px\n",
    "\n",
    "from cadCAD.configuration.utils import config_sim\n",
    "from cadCAD.configuration import Experiment\n",
    "from cadCAD.engine import ExecutionContext, Executor"
   ]
  },
  {
   "cell_type": "markdown",
   "metadata": {},
   "source": [
    "### 1. State Variables"
   ]
  },
  {
   "cell_type": "markdown",
   "metadata": {},
   "source": [
    "The states we are interested in, their state variables and their initial values are:\n",
    "\n",
    "* The __atmosphere's CO2 concentration__ in parts per million (ppm): `co2`, initial value 400\n",
    "* The __earth's surface temperature__ in Kelvin (K): `temperature`, initial value 290\n",
    "    \n",
    "<!--**Create a dictionary and define the above state variables and their initial values:**-->"
   ]
  },
  {
   "cell_type": "code",
   "execution_count": null,
   "metadata": {},
   "outputs": [],
   "source": [
    "initial_state = {\n",
    "    'co2': 400,\n",
    "    'temperature': 290\n",
    "}"
   ]
  },
  {
   "cell_type": "markdown",
   "metadata": {},
   "source": [
    "### 2. System Parameters"
   ]
  },
  {
   "cell_type": "markdown",
   "metadata": {},
   "source": [
    "**The system parameters we need to define are:**\n",
    "\n",
    "* The sun radiation: `sun_radiation` with value `1361`\n",
    "* A constant representing the relationship between temperature and radiation: `temperature_constant` with value `1e-4`\n",
    "* A constant representing CO2 impact on the radiation balance via the greenhouse effect: `co2_reflectance_factor` with value `1e-3`\n",
    "* A unit conversion constant that relates how much gigatons of CO2 we need to have an additional part per million unit in the atmosphere's concentration: `co2_gigatons_to_ppm` with value `1.2e-1`\n",
    "* The standard deviation for the stochastic process generating the yearly CO2 concentration: `co2_stdev` with value `40` ppm\n",
    "* A constant representing how much heat dissipitates into space: `heat_dissipation_constant` with value `2075`\n",
    "\n",
    "**There are two parameters which we want to sweep, which are:**\n",
    "\n",
    "* A parameter which represents the annual CO2 emissions in units of billion tons, which is the `co2_annual_emissions`. Let's sweep three values for it: `0`, `40` and `80`. The first value simulates a scenario where we stop all emissions at once, while using `40` means no additional emissions beyond what we already emmit every year, and `80` means that we are going to double our emissions.\n",
    "* The `year_of_the_wakening`, which is the number of years that must pass before we set the `co2_annual_emissions` to zero. Let's sweep four values for it: `0`, `10`, `50` and `100`.\n",
    "\n",
    "<!--**Create a dictionary and define the above parameters and their initial values:**-->"
   ]
  },
  {
   "cell_type": "code",
   "execution_count": null,
   "metadata": {},
   "outputs": [],
   "source": [
    "system_params = {\n",
    "    'sun_radiation': [1361],\n",
    "    'temperature_constant': [1e-4],\n",
    "    'co2_reflectance_factor': [1e-3],\n",
    "    'co2_gigatons_to_ppm': [1.2e-1],\n",
    "    'co2_stdev': [40],\n",
    "    'heat_dissipation_constant': [2075],\n",
    "    'co2_annual_emissions': [40, 80, 40, 80, 40, 80, 40, 80],\n",
    "    'year_of_the_wakening': [0, 0, 10, 10, 50, 50, 100, 100]\n",
    "}"
   ]
  },
  {
   "cell_type": "code",
   "execution_count": null,
   "metadata": {},
   "outputs": [],
   "source": [
    "assert 1e10 == 1*10**10"
   ]
  },
  {
   "cell_type": "markdown",
   "metadata": {},
   "source": [
    "### 3. Policy Functions"
   ]
  },
  {
   "cell_type": "code",
   "execution_count": null,
   "metadata": {},
   "outputs": [],
   "source": [
    "def p_co2_emissions(params, \n",
    "                    subbstep, \n",
    "                    state_history, \n",
    "                    previous_state):\n",
    "    # Parameters & variables\n",
    "    mean = params['co2_annual_emissions']\n",
    "    std = params['co2_stdev']\n",
    "    conversion_factor = params['co2_gigatons_to_ppm']\n",
    "    t_w = params['year_of_the_wakening']\n",
    "    t = previous_state['timestep']\n",
    "    \n",
    "    # Logic\n",
    "    if t > t_w:\n",
    "        mean = 0\n",
    "    else:\n",
    "        mean = mean\n",
    "    value = normalvariate(mean, std) * conversion_factor\n",
    "\n",
    "    # Output\n",
    "    return {'add_co2': value}"
   ]
  },
  {
   "cell_type": "code",
   "execution_count": null,
   "metadata": {},
   "outputs": [],
   "source": [
    "def p_sun_radiation(params, \n",
    "                    substep, \n",
    "                    state_history, \n",
    "                    previous_state):\n",
    "    # Parameters & variables\n",
    "    g = params['temperature_constant']\n",
    "    a = params['sun_radiation']\n",
    "    \n",
    "    # Logic\n",
    "    temp_change = g * a\n",
    "    \n",
    "    # Output\n",
    "    return {'add_temperature': temp_change}"
   ]
  },
  {
   "cell_type": "code",
   "execution_count": null,
   "metadata": {},
   "outputs": [],
   "source": [
    "def p_earth_cooling(params, \n",
    "                    substep, \n",
    "                    state_history, \n",
    "                    previous_state):\n",
    "    # Parameters & variables\n",
    "    g = params['temperature_constant']\n",
    "    K = params['heat_dissipation_constant']\n",
    "    T = previous_state['temperature']\n",
    "    \n",
    "    # Logic\n",
    "    temp_change = -(g * K * (T / 300) ** 4)\n",
    "    \n",
    "    # Output\n",
    "    return {'add_temperature': temp_change}"
   ]
  },
  {
   "cell_type": "code",
   "execution_count": null,
   "metadata": {},
   "outputs": [],
   "source": [
    "def p_greenhouse_effect(params, \n",
    "                        substep, \n",
    "                        state_history, \n",
    "                        previous_state):\n",
    "    # Parameters & variables\n",
    "    g = params['temperature_constant']\n",
    "    K = params['heat_dissipation_constant']\n",
    "    beta = params['co2_reflectance_factor']\n",
    "    T = previous_state['temperature']\n",
    "    CO2 = previous_state['co2']\n",
    "    \n",
    "    # Logic\n",
    "    alpha = (1 - np.exp(-beta * CO2))\n",
    "    temp_change = g * alpha * K * (T / 300) ** 4\n",
    "    \n",
    "    # Output\n",
    "    return {'add_temperature': temp_change}"
   ]
  },
  {
   "cell_type": "markdown",
   "metadata": {},
   "source": [
    "### 4. State Update Functions"
   ]
  },
  {
   "cell_type": "code",
   "execution_count": null,
   "metadata": {},
   "outputs": [],
   "source": [
    "def s_co2(params, \n",
    "          substep, \n",
    "          state_history, \n",
    "          previous_state,\n",
    "          policy_input):\n",
    "    # Parameters & variables\n",
    "    current_co2 = previous_state['co2']\n",
    "    co2_change = policy_input['add_co2']\n",
    "    \n",
    "    # Logic\n",
    "    new_co2 = max(current_co2 + co2_change, 0)\n",
    "    \n",
    "    # Output\n",
    "    return ('co2', new_co2)"
   ]
  },
  {
   "cell_type": "code",
   "execution_count": null,
   "metadata": {},
   "outputs": [],
   "source": [
    "def s_temperature(params, \n",
    "                  substep, \n",
    "                  state_history, \n",
    "                  previous_state,\n",
    "                  policy_input):\n",
    "    # Parameters & variables\n",
    "    current_temp = previous_state['temperature']\n",
    "    temp_change = policy_input['add_temperature']\n",
    "    \n",
    "    # Logic\n",
    "    new_temp = max(current_temp + temp_change, 0)\n",
    "    \n",
    "    # Output\n",
    "    return ('temperature', new_temp)"
   ]
  },
  {
   "cell_type": "markdown",
   "metadata": {},
   "source": [
    "### 5. Partial State Update Blocks"
   ]
  },
  {
   "cell_type": "code",
   "execution_count": null,
   "metadata": {},
   "outputs": [],
   "source": [
    "partial_state_update_blocks = [\n",
    "    {\n",
    "        'label': 'Temperature dynamics', # Useful metadata to describe our partial state update blocks\n",
    "        'policies': {\n",
    "            'sun_radiation': p_sun_radiation,\n",
    "            'earth_cooling': p_earth_cooling,\n",
    "            'greenhouse_effect': p_greenhouse_effect\n",
    "        },\n",
    "        'variables': {\n",
    "            'temperature': s_temperature\n",
    "            \n",
    "        }\n",
    "    },\n",
    "    {\n",
    "        'label': 'CO2 dynamics', # Useful metadata to describe our partial state update blocks\n",
    "        'policies': {\n",
    "            'co2_emissions': p_co2_emissions\n",
    "        },\n",
    "        'variables': {\n",
    "            'co2': s_co2\n",
    "        }\n",
    "        \n",
    "    }\n",
    "]\n"
   ]
  },
  {
   "cell_type": "markdown",
   "metadata": {},
   "source": [
    "### 6. Configuration"
   ]
  },
  {
   "cell_type": "code",
   "execution_count": null,
   "metadata": {},
   "outputs": [],
   "source": [
    "MONTE_CARLO_RUNS = 50\n",
    "SIMULATION_TIMESTEPS = 100\n",
    "\n",
    "sim_config = config_sim(\n",
    "    {\n",
    "        'N': MONTE_CARLO_RUNS,\n",
    "        'T': range(SIMULATION_TIMESTEPS),\n",
    "        'M': system_params,\n",
    "    }\n",
    ")\n",
    "\n",
    "from cadCAD import configs\n",
    "del configs[:] # Clear any prior configs\n",
    "\n",
    "experiment = Experiment()\n",
    "experiment.append_configs(\n",
    "    sim_configs=sim_config,\n",
    "    initial_state=initial_state,\n",
    "    partial_state_update_blocks=partial_state_update_blocks\n",
    ")"
   ]
  },
  {
   "cell_type": "markdown",
   "metadata": {},
   "source": [
    "### 7. Execution"
   ]
  },
  {
   "cell_type": "code",
   "execution_count": null,
   "metadata": {},
   "outputs": [],
   "source": [
    "exec_context = ExecutionContext()\n",
    "run = Executor(exec_context=exec_context, configs=configs)\n",
    "\n",
    "(system_events, tensor_field, sessions) = run.execute()"
   ]
  },
  {
   "cell_type": "markdown",
   "metadata": {},
   "source": [
    "### 8. Simulation Output Preparation"
   ]
  },
  {
   "cell_type": "code",
   "execution_count": null,
   "metadata": {},
   "outputs": [],
   "source": [
    "# Get system events and attribute index\n",
    "df = (pd.DataFrame(system_events)\n",
    "        .assign(years=lambda df: df.timestep)\n",
    "        .assign(temperature_celsius=lambda df: df.temperature - 273)\n",
    "        .query('timestep > 0')\n",
    "     )\n",
    "\n",
    "# Clean substeps\n",
    "first_ind = (df.substep == 0) & (df.timestep == 0)\n",
    "last_ind = df.substep == max(df.substep)\n",
    "inds_to_drop = (first_ind | last_ind)\n",
    "df = df.loc[inds_to_drop].drop(columns=['substep'])\n",
    "\n",
    "# Attribute parameters to each row\n",
    "df = df.assign(**configs[0].sim_config['M'])\n",
    "for i, (_, n_df) in enumerate(df.groupby(['simulation', 'subset', 'run'])):\n",
    "    df.loc[n_df.index] = n_df.assign(**configs[i].sim_config['M'])"
   ]
  },
  {
   "cell_type": "markdown",
   "metadata": {},
   "source": [
    "# System Validation"
   ]
  },
  {
   "cell_type": "markdown",
   "metadata": {},
   "source": [
    "<center><img src=\"images/edp-phase-3.png\" alt=\"Engineering Design Process, phase 1 - validation\" width=\"60%\"/>"
   ]
  },
  {
   "cell_type": "markdown",
   "metadata": {},
   "source": [
    "[Link to Requirements Analysis](#Requirements-Analysis)"
   ]
  },
  {
   "cell_type": "markdown",
   "metadata": {},
   "source": [
    "## What-if Matrix"
   ]
  },
  {
   "cell_type": "markdown",
   "metadata": {},
   "source": [
    "What-if-question | Type of experiment | Variables / parameters | Values / Ranges to be tested\n",
    "- | - | - | -\n",
    "How will the __Earth's average temperature__ develop over the next 100 years, if we keep CO2 emissions __unchanged__ at today’s annual emission levels vs. a __doubling__ of today’s emission levels? | Parameter Sweep + Monte Carlo runs | co2_annual_emissions | 40 and 80 Gigatons\n",
    "How will the __rate of annual temperature change__ develop over the next 100 years if we keep CO2 emissions __unchanged__ at today’s annual emission levels vs. a __doubling__ of today’s emission levels? | Parameter Sweep + Monte Carlo runs | co2_annual_emissions | 40 and 80 Gigatons\n",
    "How will the __rate of annual temperature change__ develop over the next 100 years if we are able to reduce annual CO2 emissions to __zero__ after a given number of years? | Parameter Sweep + Monte Carlo runs | year_of_the_wakening | 0, 10, 50 and 100 years\n",
    "How will the __Earth's average temperature__ develop over the next 100 years if we are able to reduce annual CO2 emissions to __zero__ after a given number of years? | Parameter Sweep + Monte Carlo runs | year_of_the_wakening | 0, 10, 50 and 100 years"
   ]
  },
  {
   "cell_type": "markdown",
   "metadata": {},
   "source": [
    "## System Analysis"
   ]
  },
  {
   "cell_type": "markdown",
   "metadata": {},
   "source": [
    "### Analysis 1: How will the Earth's average temperature develop over the next 100 years, if we keep CO2 emissions unchanged at today’s annual emission levels vs. a doubling of today’s emission levels?"
   ]
  },
  {
   "cell_type": "code",
   "execution_count": null,
   "metadata": {},
   "outputs": [],
   "source": [
    "fig_df = df.query('year_of_the_wakening == 100')\n",
    "\n",
    "fig = px.scatter(\n",
    "    fig_df,\n",
    "    x=fig_df.years,\n",
    "    y=fig_df.temperature_celsius,\n",
    "    color=fig_df.co2_annual_emissions.astype(str),\n",
    "    opacity=0.1,\n",
    "    trendline=\"lowess\",\n",
    "    labels={'color': 'Yearly CO2 emissions (Gt)'}\n",
    ")\n",
    "\n",
    "fig.show()"
   ]
  },
  {
   "cell_type": "code",
   "execution_count": null,
   "metadata": {},
   "outputs": [],
   "source": [
    "fig_df = df.query('year_of_the_wakening == 100')\n",
    "\n",
    "fig = px.box(\n",
    "    fig_df,\n",
    "    x=fig_df.years,\n",
    "    y=fig_df.temperature_celsius,\n",
    "    color=fig_df.co2_annual_emissions.astype(str),\n",
    "    points=False,\n",
    "    labels={'color': 'Yearly CO2 emissions (Gt)'}\n",
    ")\n",
    "\n",
    "fig.show()"
   ]
  },
  {
   "cell_type": "markdown",
   "metadata": {},
   "source": [
    "### Analysis 2: How will the rate of annual temperature change develop over the next 100 years if we keep CO2 emissions unchanged at today’s annual emission levels vs. a doubling of today’s emission levels?"
   ]
  },
  {
   "cell_type": "code",
   "execution_count": null,
   "metadata": {},
   "outputs": [],
   "source": [
    "fig_df = (df.query('year_of_the_wakening == 100')\n",
    "            .assign(annual_temperature_increase=lambda df: df.temperature.diff())\n",
    "            .query('years > 1'))\n",
    "\n",
    "fig = px.scatter(\n",
    "    fig_df,\n",
    "    x=fig_df.years,\n",
    "    y=fig_df.annual_temperature_increase,\n",
    "    opacity=0.1,\n",
    "    trendline=\"lowess\",\n",
    "    color=fig_df.co2_annual_emissions.astype(str),\n",
    "    labels={'color': 'Yearly CO2 emissions (Gt)'}\n",
    ")\n",
    "\n",
    "fig.show()"
   ]
  },
  {
   "cell_type": "markdown",
   "metadata": {},
   "source": [
    "### Analysis 3: How will the rate of annual temperature change develop over the next 100 years if we are able to reduce annual CO2 emissions to zero after a given number of years?"
   ]
  },
  {
   "cell_type": "code",
   "execution_count": null,
   "metadata": {},
   "outputs": [],
   "source": [
    "fig_df = (df.query('co2_annual_emissions == 40')\n",
    "            .assign(annual_temperature_increase=lambda df: df.temperature.diff())\n",
    "            .query('years > 1'))\n",
    "\n",
    "fig = px.scatter(\n",
    "    fig_df,\n",
    "    x=fig_df.years,\n",
    "    y=fig_df.annual_temperature_increase,\n",
    "    opacity=0.1,\n",
    "    trendline=\"lowess\",\n",
    "    color=fig_df.year_of_the_wakening.astype(str),\n",
    "    labels={'color': 'Year of the wakening (years)'}\n",
    ")\n",
    "\n",
    "fig.show()"
   ]
  },
  {
   "cell_type": "markdown",
   "metadata": {},
   "source": [
    "### Analysis 4: How will the Earth's average temperature develop over the next 100 years if we are able to reduce annual CO2 emissions to zero after a given number of years?"
   ]
  },
  {
   "cell_type": "code",
   "execution_count": null,
   "metadata": {},
   "outputs": [],
   "source": [
    "fig_df = (df.query('co2_annual_emissions == 40')\n",
    "            .assign(temperature_increase=lambda df: df.temperature - df.temperature.iloc[0]))\n",
    "\n",
    "fig = px.scatter(\n",
    "    fig_df,\n",
    "    x=fig_df.years,\n",
    "    y=fig_df.temperature_increase,\n",
    "    opacity=0.1,\n",
    "    trendline=\"lowess\",\n",
    "    color=fig_df.year_of_the_wakening.astype(str),\n",
    "    labels={'color': 'Year of the wakening (years)'}\n",
    ")\n",
    "\n",
    "fig.show()"
   ]
  },
  {
   "cell_type": "markdown",
   "metadata": {},
   "source": [
    "# Congratulations!"
   ]
  },
  {
   "cell_type": "markdown",
   "metadata": {},
   "source": [
    "![](./images/climate-model.png)"
   ]
  }
 ],
 "metadata": {
  "kernelspec": {
   "display_name": "Python 3",
   "language": "python",
   "name": "python3"
  },
  "language_info": {
   "codemirror_mode": {
    "name": "ipython",
    "version": 3
   },
   "file_extension": ".py",
   "mimetype": "text/x-python",
   "name": "python",
   "nbconvert_exporter": "python",
   "pygments_lexer": "ipython3",
   "version": "3.8.6"
  }
 },
 "nbformat": 4,
 "nbformat_minor": 4
}
