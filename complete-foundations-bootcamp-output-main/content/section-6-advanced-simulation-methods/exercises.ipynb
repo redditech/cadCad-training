{
 "cells": [
  {
   "cell_type": "markdown",
   "metadata": {},
   "source": [
    "<span style=\"display:block;text-align:center;margin-right:105px\"><img src=\"../../media/logos/logo-vertical.png\" width=\"200\"/></span>\n",
    "\n",
    "# Section 6: Advanced Simulation Methods Exercises\n",
    "\n",
    "---"
   ]
  },
  {
   "cell_type": "markdown",
   "metadata": {},
   "source": [
    "## Exercise 1: Monte Carlo Method"
   ]
  },
  {
   "cell_type": "markdown",
   "metadata": {},
   "source": [
    "Given the following simulation configuration, how many runs would you expect cadCAD to create?\n",
    "\n",
    "```python\n",
    "system_params = {\n",
    "    'parameter_1': [i * 0.1 for i in range(10)]\n",
    "}\n",
    "\n",
    "SIMULATION_TIMESTEPS = 500\n",
    "MONTE_CARLO_RUNS = 10\n",
    "\n",
    "sim_config = config_sim({\n",
    "    'N': MONTE_CARLO_RUNS,\n",
    "    'T': range(SIMULATION_TIMESTEPS),\n",
    "    'M': system_params\n",
    "})\n",
    "\n",
    "experiment.append_configs(\n",
    "    initial_state = initial_state,\n",
    "    partial_state_update_blocks = partial_state_update_blocks,\n",
    "    sim_configs = sim_config,\n",
    ")\n",
    "```"
   ]
  },
  {
   "cell_type": "markdown",
   "metadata": {},
   "source": [
    "*Answer here in the markdown cell:*"
   ]
  },
  {
   "cell_type": "markdown",
   "metadata": {},
   "source": [
    "## Exercise 2: Parameter Sweeps"
   ]
  },
  {
   "cell_type": "markdown",
   "metadata": {},
   "source": [
    "Given the following two parameter lists, configure a parameter sweep for all possible combinations of the two parameters.\n",
    "\n",
    "```python\n",
    "parameter_1 = [1, 2]\n",
    "parameter_2 = [0, 10, 20, 30]\n",
    "```"
   ]
  },
  {
   "cell_type": "code",
   "execution_count": null,
   "metadata": {},
   "outputs": [],
   "source": [
    "# The following statement is incomplete - fill in the gaps and run the cell\n",
    "\n",
    "system_params = {\n",
    "    '': [],\n",
    "    '': []\n",
    "}\n",
    "system_params"
   ]
  },
  {
   "cell_type": "markdown",
   "metadata": {},
   "source": [
    "## Exercise 3: A/B Testing"
   ]
  },
  {
   "cell_type": "markdown",
   "metadata": {},
   "source": [
    "Given the following function (a failure rate calculation for a manufacturing process), and the two models `a` and `b`, fill in the gaps and run an A/B test."
   ]
  },
  {
   "cell_type": "code",
   "execution_count": null,
   "metadata": {},
   "outputs": [],
   "source": [
    "import pandas as pd\n",
    "import plotly\n",
    "import plotly.express as px\n",
    "\n",
    "pd.options.plotting.backend = \"plotly\"\n",
    "\n",
    "from cadCAD.configuration.utils import config_sim\n",
    "from cadCAD.engine import ExecutionMode, ExecutionContext\n",
    "from cadCAD.engine import Executor\n",
    "from cadCAD.configuration import Experiment"
   ]
  },
  {
   "cell_type": "code",
   "execution_count": null,
   "metadata": {},
   "outputs": [],
   "source": [
    "# Run this cell: failure rate calculation\n",
    "\n",
    "def failure_rate(speed, limit=100, alpha=0):\n",
    "    # If the speed is greater than the limit, return a 100% failure rate\n",
    "    if speed >= limit:\n",
    "        return 1\n",
    "    # Else if the speed is less than 1, return a 0% failure rate to bound the system\n",
    "    elif speed <= 1:\n",
    "        return 0\n",
    "    # Else calculate a sigmoid like function of the failure rate\n",
    "    else:\n",
    "        return 2 * limit / (2 * limit + (speed / (2 * limit - speed))**(-alpha))"
   ]
  },
  {
   "cell_type": "code",
   "execution_count": null,
   "metadata": {},
   "outputs": [],
   "source": [
    "# Run this cell: model A initial state and parameterization\n",
    "\n",
    "initial_state_a = {\n",
    "    'failure_rate': 0\n",
    "}\n",
    "\n",
    "alpha_start = 0\n",
    "alpha_end = 5\n",
    "\n",
    "system_params_a = {\n",
    "    'alpha': list(range(alpha_start, alpha_end + 1)),\n",
    "    'limit': [100]\n",
    "}"
   ]
  },
  {
   "cell_type": "code",
   "execution_count": null,
   "metadata": {},
   "outputs": [],
   "source": [
    "# Run this cell: model B initial state and parameterization\n",
    "\n",
    "initial_state_b = {\n",
    "    'failure_rate': 0\n",
    "}\n",
    "\n",
    "alpha_start = 5\n",
    "alpha_end = 10\n",
    "\n",
    "system_params_b = {\n",
    "    'alpha': list(range(alpha_start, alpha_end + 1)),\n",
    "    'limit': [100]\n",
    "}"
   ]
  },
  {
   "cell_type": "code",
   "execution_count": null,
   "metadata": {},
   "outputs": [],
   "source": [
    "# Run this cell: shared policy and state update functions\n",
    "\n",
    "def p_assembly_process(params, substep, state_history, previous_state):\n",
    "    speed = previous_state['timestep']\n",
    "    limit = params['limit']\n",
    "    alpha = params['alpha']\n",
    "    \n",
    "    delta_failure_rate = failure_rate(speed, limit, alpha)\n",
    "    return {'delta_failure_rate': delta_failure_rate}\n",
    "    \n",
    "def s_failure_rate(params, substep, state_history, previous_state, policy_input):\n",
    "    delta_failure_rate = policy_input['delta_failure_rate']\n",
    "    return 'failure_rate', delta_failure_rate"
   ]
  },
  {
   "cell_type": "code",
   "execution_count": null,
   "metadata": {},
   "outputs": [],
   "source": [
    "# Run this cell: shared partial state update blocks\n",
    "\n",
    "partial_state_update_blocks = [\n",
    "    {\n",
    "        'policies': {\n",
    "            'manufacture': p_assembly_process\n",
    "        },\n",
    "        'variables': {\n",
    "            'failure_rate': s_failure_rate\n",
    "        }\n",
    "    }\n",
    "]"
   ]
  },
  {
   "cell_type": "code",
   "execution_count": null,
   "metadata": {},
   "outputs": [],
   "source": [
    "# Run this cell: shared configuration\n",
    "\n",
    "SIMULATION_TIMESTEPS = 100\n",
    "MONTE_CARLO_RUNS = 1\n",
    "\n",
    "experiment = Experiment()\n",
    "\n",
    "from cadCAD import configs\n",
    "del configs[:] # Clear any prior configs"
   ]
  },
  {
   "cell_type": "markdown",
   "metadata": {},
   "source": [
    "Update the following two cells:"
   ]
  },
  {
   "cell_type": "code",
   "execution_count": null,
   "metadata": {},
   "outputs": [],
   "source": [
    "# The following statements are incomplete - fill in the gaps and run the cell\n",
    "\n",
    "# Model A simulation configuration\n",
    "sim_config = config_sim({})\n",
    "\n",
    "experiment.append_configs()"
   ]
  },
  {
   "cell_type": "code",
   "execution_count": null,
   "metadata": {},
   "outputs": [],
   "source": [
    "# The following statements are incomplete - fill in the gaps and run the cell\n",
    "\n",
    "# Model B simulation configuration\n",
    "sim_config = config_sim({})\n",
    "\n",
    "experiment.append_configs()"
   ]
  },
  {
   "cell_type": "code",
   "execution_count": null,
   "metadata": {},
   "outputs": [],
   "source": [
    "# Run this cell\n",
    "\n",
    "exec_context = ExecutionContext()\n",
    "simulation = Executor(exec_context=exec_context, configs=configs)\n",
    "raw_result, tensor_field, sessions = simulation.execute()\n",
    "simulation_result = pd.DataFrame(raw_result)"
   ]
  },
  {
   "cell_type": "code",
   "execution_count": null,
   "metadata": {},
   "outputs": [],
   "source": [
    "# Run this cell\n",
    "\n",
    "fig = px.line(\n",
    "    simulation_result,\n",
    "    x='timestep',\n",
    "    y=['failure_rate'],\n",
    "    facet_row='simulation',\n",
    "    facet_col='run',\n",
    "    height=800,\n",
    "    template='seaborn',\n",
    ")\n",
    "\n",
    "fig.show()"
   ]
  },
  {
   "cell_type": "markdown",
   "metadata": {},
   "source": [
    "<br/><br/><br/>\n",
    "# Well done!\n",
    "<br/><br/><br/><br/>"
   ]
  }
 ],
 "metadata": {
  "kernelspec": {
   "display_name": "Python 3",
   "language": "python",
   "name": "python3"
  },
  "language_info": {
   "codemirror_mode": {
    "name": "ipython",
    "version": 3
   },
   "file_extension": ".py",
   "mimetype": "text/x-python",
   "name": "python",
   "nbconvert_exporter": "python",
   "pygments_lexer": "ipython3",
   "version": "3.8.6"
  }
 },
 "nbformat": 4,
 "nbformat_minor": 4
}
