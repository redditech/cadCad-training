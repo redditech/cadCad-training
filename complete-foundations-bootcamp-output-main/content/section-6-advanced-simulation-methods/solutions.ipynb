{
 "cells": [
  {
   "cell_type": "markdown",
   "metadata": {},
   "source": [
    "<span style=\"display:block;text-align:center;margin-right:105px\"><img src=\"../../media/logos/logo-vertical.png\" width=\"200\"/></span>\n",
    "\n",
    "# Section 6: Advanced Simulation Methods Solutions\n",
    "\n",
    "---"
   ]
  },
  {
   "cell_type": "markdown",
   "metadata": {},
   "source": [
    "## Exercise 1: Monte Carlo Method"
   ]
  },
  {
   "cell_type": "markdown",
   "metadata": {},
   "source": [
    "Given the following simulation configuration, how many runs would you expect cadCAD to create?\n",
    "\n",
    "```python\n",
    "system_params = {\n",
    "    'parameter_1': [i * 0.1 for i in range(10)]\n",
    "}\n",
    "\n",
    "SIMULATION_TIMESTEPS = 500\n",
    "MONTE_CARLO_RUNS = 10\n",
    "\n",
    "sim_config = config_sim({\n",
    "    'N': MONTE_CARLO_RUNS,\n",
    "    'T': range(SIMULATION_TIMESTEPS),\n",
    "    'M': system_params\n",
    "})\n",
    "\n",
    "experiment.append_configs(\n",
    "    initial_state = initial_state,\n",
    "    partial_state_update_blocks = partial_state_update_blocks,\n",
    "    sim_configs = sim_config,\n",
    ")\n",
    "```"
   ]
  },
  {
   "cell_type": "markdown",
   "metadata": {},
   "source": [
    "*Answer here in the markdown cell:*"
   ]
  },
  {
   "cell_type": "markdown",
   "metadata": {},
   "source": [
    "**Solution:**"
   ]
  },
  {
   "cell_type": "markdown",
   "metadata": {},
   "source": [
    "We'd expect 100 runs, 10 Monte Carlo Runs for each parameter set, and we have 10 parameters!"
   ]
  },
  {
   "cell_type": "code",
   "execution_count": 3,
   "metadata": {},
   "outputs": [
    {
     "data": {
      "text/plain": [
       "100"
      ]
     },
     "execution_count": 3,
     "metadata": {},
     "output_type": "execute_result"
    }
   ],
   "source": [
    "len([i * 0.1 for i in range(10)]) * 10"
   ]
  },
  {
   "cell_type": "markdown",
   "metadata": {},
   "source": [
    "## Exercise 2: Parameter Sweeps"
   ]
  },
  {
   "cell_type": "markdown",
   "metadata": {},
   "source": [
    "Given the following two parameter lists, configure a parameter sweep for all possible combinations of the two parameters.\n",
    "\n",
    "```python\n",
    "parameter_1 = [1, 2]\n",
    "parameter_2 = [0, 10, 20, 30]\n",
    "```"
   ]
  },
  {
   "cell_type": "code",
   "execution_count": null,
   "metadata": {},
   "outputs": [],
   "source": [
    "# The following statement is incomplete - fill in the gaps and run the cell\n",
    "\n",
    "system_params = {\n",
    "    '': [],\n",
    "    '': []\n",
    "}"
   ]
  },
  {
   "cell_type": "markdown",
   "metadata": {},
   "source": [
    "**Solution:**"
   ]
  },
  {
   "cell_type": "code",
   "execution_count": 7,
   "metadata": {},
   "outputs": [
    {
     "data": {
      "text/plain": [
       "{'parameter_1': [1, 1, 1, 1, 2, 2, 2, 2],\n",
       " 'parameter_2': [0, 10, 20, 30, 0, 10, 20, 30]}"
      ]
     },
     "execution_count": 7,
     "metadata": {},
     "output_type": "execute_result"
    }
   ],
   "source": [
    "system_params = {\n",
    "    'parameter_1': [1, 1, 1, 1, 2, 2, 2, 2],\n",
    "    'parameter_2': [0, 10, 20, 30, 0, 10, 20, 30]\n",
    "}\n",
    "system_params"
   ]
  },
  {
   "cell_type": "markdown",
   "metadata": {},
   "source": [
    "**or**"
   ]
  },
  {
   "cell_type": "code",
   "execution_count": 8,
   "metadata": {},
   "outputs": [
    {
     "name": "stdout",
     "output_type": "stream",
     "text": [
      "[(1, 0), (1, 10), (1, 20), (1, 30), (2, 0), (2, 10), (2, 20), (2, 30)]\n"
     ]
    },
    {
     "data": {
      "text/plain": [
       "{'parameter_1': [1, 1, 1, 1, 2, 2, 2, 2],\n",
       " 'parameter_2': [0, 10, 20, 30, 0, 10, 20, 30]}"
      ]
     },
     "execution_count": 8,
     "metadata": {},
     "output_type": "execute_result"
    }
   ],
   "source": [
    "# See https://stackoverflow.com/a/34032549\n",
    "import itertools\n",
    "\n",
    "parameter_1 = [1, 2]\n",
    "parameter_2 = [0, 10, 20, 30]\n",
    "    \n",
    "parameter_sweep = list(itertools.product(parameter_1, parameter_2))\n",
    "print(parameter_sweep)\n",
    "\n",
    "parameter_1_sweep = [x[0] for x in parameter_sweep]\n",
    "parameter_2_sweep = [x[1] for x in parameter_sweep]\n",
    "\n",
    "system_params = {\n",
    "    'parameter_1': parameter_1_sweep,\n",
    "    'parameter_2': parameter_2_sweep\n",
    "}\n",
    "system_params"
   ]
  },
  {
   "cell_type": "markdown",
   "metadata": {},
   "source": [
    "## Exercise 3: A/B Testing"
   ]
  },
  {
   "cell_type": "markdown",
   "metadata": {},
   "source": [
    "Given the following function (a failure rate calculation for a manufacturing process), and the two models `a` and `b`, fill in the gaps and run an A/B test."
   ]
  },
  {
   "cell_type": "code",
   "execution_count": 1,
   "metadata": {},
   "outputs": [],
   "source": [
    "import pandas as pd\n",
    "import plotly\n",
    "import plotly.express as px\n",
    "\n",
    "pd.options.plotting.backend = \"plotly\"\n",
    "\n",
    "from cadCAD.configuration.utils import config_sim\n",
    "from cadCAD.engine import ExecutionMode, ExecutionContext\n",
    "from cadCAD.engine import Executor\n",
    "from cadCAD.configuration import Experiment"
   ]
  },
  {
   "cell_type": "code",
   "execution_count": 2,
   "metadata": {},
   "outputs": [],
   "source": [
    "# Run this cell: failure rate calculation\n",
    "\n",
    "def failure_rate(speed, limit=100, alpha=0):\n",
    "    # If the speed is greater than the limit, return a 100% failure rate\n",
    "    if speed >= limit:\n",
    "        return 1\n",
    "    # Else if the speed is less than 1, return a 0% failure rate to bound the system\n",
    "    elif speed <= 1:\n",
    "        return 0\n",
    "    # Else calculate a sigmoid like function of the failure rate\n",
    "    else:\n",
    "        return 2 * limit / (2 * limit + (speed / (2 * limit - speed))**(-alpha))"
   ]
  },
  {
   "cell_type": "code",
   "execution_count": 58,
   "metadata": {},
   "outputs": [],
   "source": [
    "# Run this cell: model A initial state and parameterization\n",
    "\n",
    "initial_state_a = {\n",
    "    'failure_rate': 0\n",
    "}\n",
    "\n",
    "alpha_start = 0\n",
    "alpha_end = 5\n",
    "\n",
    "system_params_a = {\n",
    "    'alpha': list(range(alpha_start, alpha_end + 1)),\n",
    "    'limit': [100]\n",
    "}"
   ]
  },
  {
   "cell_type": "code",
   "execution_count": 59,
   "metadata": {},
   "outputs": [],
   "source": [
    "# Run this cell: model B initial state and parameterization\n",
    "\n",
    "initial_state_b = {\n",
    "    'failure_rate': 0\n",
    "}\n",
    "\n",
    "alpha_start = 5\n",
    "alpha_end = 10\n",
    "\n",
    "system_params_b = {\n",
    "    'alpha': list(range(alpha_start, alpha_end + 1)),\n",
    "    'limit': [100]\n",
    "}"
   ]
  },
  {
   "cell_type": "code",
   "execution_count": 60,
   "metadata": {},
   "outputs": [],
   "source": [
    "# Run this cell: shared policy and state update functions\n",
    "\n",
    "def p_assembly_process(params, substep, state_history, previous_state):\n",
    "    speed = previous_state['timestep']\n",
    "    limit = params['limit']\n",
    "    alpha = params['alpha']\n",
    "    \n",
    "    delta_failure_rate = failure_rate(speed, limit, alpha)\n",
    "    return {'delta_failure_rate': delta_failure_rate}\n",
    "    \n",
    "def s_failure_rate(params, substep, state_history, previous_state, policy_input):\n",
    "    delta_failure_rate = policy_input['delta_failure_rate']\n",
    "    return 'failure_rate', delta_failure_rate"
   ]
  },
  {
   "cell_type": "code",
   "execution_count": 61,
   "metadata": {},
   "outputs": [],
   "source": [
    "# Run this cell: shared partial state update blocks\n",
    "\n",
    "partial_state_update_blocks = [\n",
    "    {\n",
    "        'policies': {\n",
    "            'manufacture': p_assembly_process\n",
    "        },\n",
    "        'variables': {\n",
    "            'failure_rate': s_failure_rate\n",
    "        }\n",
    "    }\n",
    "]"
   ]
  },
  {
   "cell_type": "code",
   "execution_count": 62,
   "metadata": {},
   "outputs": [],
   "source": [
    "# Run this cell: shared configuration\n",
    "\n",
    "SIMULATION_TIMESTEPS = 100\n",
    "MONTE_CARLO_RUNS = 1\n",
    "\n",
    "experiment = Experiment()\n",
    "\n",
    "from cadCAD import configs\n",
    "del configs[:] # Clear any prior configs"
   ]
  },
  {
   "cell_type": "markdown",
   "metadata": {},
   "source": [
    "Update the following two cells:"
   ]
  },
  {
   "cell_type": "code",
   "execution_count": 112,
   "metadata": {},
   "outputs": [],
   "source": [
    "# The following statements are incomplete - fill in the gaps and run the cell\n",
    "\n",
    "# Model A simulation configuration\n",
    "sim_config = config_sim({})\n",
    "\n",
    "experiment.append_configs()"
   ]
  },
  {
   "cell_type": "code",
   "execution_count": 113,
   "metadata": {},
   "outputs": [],
   "source": [
    "# The following statements are incomplete - fill in the gaps and run the cell\n",
    "\n",
    "# Model B simulation configuration\n",
    "sim_config = config_sim({})\n",
    "\n",
    "experiment.append_configs()"
   ]
  },
  {
   "cell_type": "markdown",
   "metadata": {},
   "source": [
    "**Solution:**"
   ]
  },
  {
   "cell_type": "code",
   "execution_count": 63,
   "metadata": {},
   "outputs": [],
   "source": [
    "# The following statements are incomplete - fill in the gaps and run the cell\n",
    "\n",
    "# Model A simulation configuration\n",
    "sim_config = config_sim({\n",
    "    'N': MONTE_CARLO_RUNS,\n",
    "    'T': range(SIMULATION_TIMESTEPS),\n",
    "    'M': system_params_a\n",
    "})\n",
    "\n",
    "experiment.append_configs(\n",
    "    initial_state = initial_state_a,\n",
    "    partial_state_update_blocks = partial_state_update_blocks,\n",
    "    sim_configs = sim_config,\n",
    ")"
   ]
  },
  {
   "cell_type": "code",
   "execution_count": 64,
   "metadata": {},
   "outputs": [],
   "source": [
    "# The following statements are incomplete - fill in the gaps and run the cell\n",
    "\n",
    "# Model B simulation configuration\n",
    "sim_config = config_sim({\n",
    "    'N': MONTE_CARLO_RUNS,\n",
    "    'T': range(SIMULATION_TIMESTEPS),\n",
    "    'M': system_params_b\n",
    "})\n",
    "\n",
    "experiment.append_configs(\n",
    "    initial_state = initial_state_b,\n",
    "    partial_state_update_blocks = partial_state_update_blocks,\n",
    "    sim_configs = sim_config,\n",
    ")"
   ]
  },
  {
   "cell_type": "code",
   "execution_count": 65,
   "metadata": {},
   "outputs": [
    {
     "name": "stdout",
     "output_type": "stream",
     "text": [
      "\n",
      "                  ___________    ____\n",
      "  ________ __ ___/ / ____/   |  / __ \\\n",
      " / ___/ __` / __  / /   / /| | / / / /\n",
      "/ /__/ /_/ / /_/ / /___/ ___ |/ /_/ /\n",
      "\\___/\\__,_/\\__,_/\\____/_/  |_/_____/\n",
      "by cadCAD\n",
      "\n",
      "Execution Mode: local_proc\n",
      "Configuration Count: 2\n",
      "Dimensions of the first simulation: (Timesteps, Params, Runs, Vars) = (100, 2, 6, 1)\n",
      "Execution Method: local_simulations\n",
      "SimIDs   : [0, 0, 0, 0, 0, 0, 1, 1, 1, 1, 1, 1]\n",
      "SubsetIDs: [0, 1, 2, 3, 4, 5, 0, 1, 2, 3, 4, 5]\n",
      "Ns       : [0, 1, 2, 3, 4, 5, 0, 1, 2, 3, 4, 5]\n",
      "ExpIDs   : [0, 0, 0, 0, 0, 0, 1, 1, 1, 1, 1, 1]\n",
      "Execution Mode: parallelized\n",
      "Total execution time: 0.14s\n"
     ]
    }
   ],
   "source": [
    "# Run this cell\n",
    "\n",
    "exec_context = ExecutionContext()\n",
    "simulation = Executor(exec_context=exec_context, configs=configs)\n",
    "raw_result, tensor_field, sessions = simulation.execute()\n",
    "simulation_result = pd.DataFrame(raw_result)"
   ]
  },
  {
   "cell_type": "code",
   "execution_count": 66,
   "metadata": {},
   "outputs": [
    {
     "data": {
      "application/vnd.plotly.v1+json": {
       "config": {
        "plotlyServerURL": "https://plot.ly"
       },
       "data": [
        {
         "hovertemplate": "variable=failure_rate<br>simulation=0<br>run=1<br>timestep=%{x}<br>value=%{y}<extra></extra>",
         "legendgroup": "failure_rate",
         "line": {
          "color": "rgb(76,114,176)",
          "dash": "solid"
         },
         "mode": "lines",
         "name": "failure_rate",
         "showlegend": true,
         "type": "scattergl",
         "x": [
          0,
          1,
          2,
          3,
          4,
          5,
          6,
          7,
          8,
          9,
          10,
          11,
          12,
          13,
          14,
          15,
          16,
          17,
          18,
          19,
          20,
          21,
          22,
          23,
          24,
          25,
          26,
          27,
          28,
          29,
          30,
          31,
          32,
          33,
          34,
          35,
          36,
          37,
          38,
          39,
          40,
          41,
          42,
          43,
          44,
          45,
          46,
          47,
          48,
          49,
          50,
          51,
          52,
          53,
          54,
          55,
          56,
          57,
          58,
          59,
          60,
          61,
          62,
          63,
          64,
          65,
          66,
          67,
          68,
          69,
          70,
          71,
          72,
          73,
          74,
          75,
          76,
          77,
          78,
          79,
          80,
          81,
          82,
          83,
          84,
          85,
          86,
          87,
          88,
          89,
          90,
          91,
          92,
          93,
          94,
          95,
          96,
          97,
          98,
          99,
          100
         ],
         "xaxis": "x7",
         "y": [
          0,
          0,
          0,
          0.9950248756218906,
          0.9950248756218906,
          0.9950248756218906,
          0.9950248756218906,
          0.9950248756218906,
          0.9950248756218906,
          0.9950248756218906,
          0.9950248756218906,
          0.9950248756218906,
          0.9950248756218906,
          0.9950248756218906,
          0.9950248756218906,
          0.9950248756218906,
          0.9950248756218906,
          0.9950248756218906,
          0.9950248756218906,
          0.9950248756218906,
          0.9950248756218906,
          0.9950248756218906,
          0.9950248756218906,
          0.9950248756218906,
          0.9950248756218906,
          0.9950248756218906,
          0.9950248756218906,
          0.9950248756218906,
          0.9950248756218906,
          0.9950248756218906,
          0.9950248756218906,
          0.9950248756218906,
          0.9950248756218906,
          0.9950248756218906,
          0.9950248756218906,
          0.9950248756218906,
          0.9950248756218906,
          0.9950248756218906,
          0.9950248756218906,
          0.9950248756218906,
          0.9950248756218906,
          0.9950248756218906,
          0.9950248756218906,
          0.9950248756218906,
          0.9950248756218906,
          0.9950248756218906,
          0.9950248756218906,
          0.9950248756218906,
          0.9950248756218906,
          0.9950248756218906,
          0.9950248756218906,
          0.9950248756218906,
          0.9950248756218906,
          0.9950248756218906,
          0.9950248756218906,
          0.9950248756218906,
          0.9950248756218906,
          0.9950248756218906,
          0.9950248756218906,
          0.9950248756218906,
          0.9950248756218906,
          0.9950248756218906,
          0.9950248756218906,
          0.9950248756218906,
          0.9950248756218906,
          0.9950248756218906,
          0.9950248756218906,
          0.9950248756218906,
          0.9950248756218906,
          0.9950248756218906,
          0.9950248756218906,
          0.9950248756218906,
          0.9950248756218906,
          0.9950248756218906,
          0.9950248756218906,
          0.9950248756218906,
          0.9950248756218906,
          0.9950248756218906,
          0.9950248756218906,
          0.9950248756218906,
          0.9950248756218906,
          0.9950248756218906,
          0.9950248756218906,
          0.9950248756218906,
          0.9950248756218906,
          0.9950248756218906,
          0.9950248756218906,
          0.9950248756218906,
          0.9950248756218906,
          0.9950248756218906,
          0.9950248756218906,
          0.9950248756218906,
          0.9950248756218906,
          0.9950248756218906,
          0.9950248756218906,
          0.9950248756218906,
          0.9950248756218906,
          0.9950248756218906,
          0.9950248756218906,
          0.9950248756218906,
          0.9950248756218906
         ],
         "yaxis": "y7"
        },
        {
         "hovertemplate": "variable=failure_rate<br>simulation=0<br>run=2<br>timestep=%{x}<br>value=%{y}<extra></extra>",
         "legendgroup": "failure_rate",
         "line": {
          "color": "rgb(76,114,176)",
          "dash": "solid"
         },
         "mode": "lines",
         "name": "failure_rate",
         "showlegend": false,
         "type": "scattergl",
         "x": [
          0,
          1,
          2,
          3,
          4,
          5,
          6,
          7,
          8,
          9,
          10,
          11,
          12,
          13,
          14,
          15,
          16,
          17,
          18,
          19,
          20,
          21,
          22,
          23,
          24,
          25,
          26,
          27,
          28,
          29,
          30,
          31,
          32,
          33,
          34,
          35,
          36,
          37,
          38,
          39,
          40,
          41,
          42,
          43,
          44,
          45,
          46,
          47,
          48,
          49,
          50,
          51,
          52,
          53,
          54,
          55,
          56,
          57,
          58,
          59,
          60,
          61,
          62,
          63,
          64,
          65,
          66,
          67,
          68,
          69,
          70,
          71,
          72,
          73,
          74,
          75,
          76,
          77,
          78,
          79,
          80,
          81,
          82,
          83,
          84,
          85,
          86,
          87,
          88,
          89,
          90,
          91,
          92,
          93,
          94,
          95,
          96,
          97,
          98,
          99,
          100
         ],
         "xaxis": "x8",
         "y": [
          0,
          0,
          0,
          0.6688963210702341,
          0.7528230865746549,
          0.8032128514056225,
          0.8368200836820083,
          0.8608321377331422,
          0.8788449466415568,
          0.8928571428571429,
          0.9040683073832245,
          0.91324200913242,
          0.9208874005860193,
          0.9273570324574961,
          0.932902762827413,
          0.9377093101138647,
          0.9419152276295133,
          0.9456264775413712,
          0.948925481440134,
          0.9518773135906927,
          0.9545340366742024,
          0.9569377990430622,
          0.9591230874628911,
          0.9611183923110529,
          0.9629474565626963,
          0.9646302250803858,
          0.966183574879227,
          0.9676218831410496,
          0.968957473533106,
          0.9702009702009702,
          0.971361580974711,
          0.9724473257698542,
          0.9734652221698854,
          0.97442143727162,
          0.9753214127382888,
          0.9761699684180305,
          0.9769713886950453,
          0.977729494839761,
          0.9784477059367975,
          0.979129090440608,
          0.9797764099987438,
          0.9803921568627451,
          0.9809785859552578,
          0.9815377424631924,
          0.982071485668608,
          0.9825815096025011,
          0.9830693610049153,
          0.9835364549925165,
          0.9839840887679263,
          0.9844134536505332,
          0.9848256456637523,
          0.9852216748768473,
          0.9856024736689536,
          0.9859689040576413,
          0.9863217642132688,
          0.9866617942627445,
          0.9869896814715119,
          0.9873060648801127,
          0.9876115394611453,
          0.9879066598535173,
          0.9881919437233062,
          0.9884678747940692,
          0.9887349055839209,
          0.9889934598819589,
          0.9892439349925415,
          0.9894867037724181,
          0.9897221164826799,
          0.9899505024748763,
          0.9901721717283677,
          0.9903874162540053,
          0.9905965113775034,
          0.9907997169143665,
          0.9909972782469118,
          0.9911894273127754,
          0.991376383513275,
          0.9915583545491089,
          0.9917355371900827,
          0.9919081179848604,
          0.9920762739161244,
          0.9922401730059789,
          0.99239997487595,
          0.9925558312655087,
          0.992707886512654,
          0.9928562779997578,
          0.9930011365675661,
          0.9931425868999764,
          0.993280747881975,
          0.9934157329328867,
          0.9935476503169074,
          0.9936766034327009,
          0.9938026910836917,
          0.9939260077305356,
          0.9940466437271288,
          0.9941646855413876,
          0.9942802159619394,
          0.9943933142917593,
          0.9945040565297043,
          0.9946125155408205,
          0.9947187612162232,
          0.9948228606232871,
          0.9949248781468268
         ],
         "yaxis": "y8"
        },
        {
         "hovertemplate": "variable=failure_rate<br>simulation=0<br>run=3<br>timestep=%{x}<br>value=%{y}<extra></extra>",
         "legendgroup": "failure_rate",
         "line": {
          "color": "rgb(76,114,176)",
          "dash": "solid"
         },
         "mode": "lines",
         "name": "failure_rate",
         "showlegend": false,
         "type": "scattergl",
         "x": [
          0,
          1,
          2,
          3,
          4,
          5,
          6,
          7,
          8,
          9,
          10,
          11,
          12,
          13,
          14,
          15,
          16,
          17,
          18,
          19,
          20,
          21,
          22,
          23,
          24,
          25,
          26,
          27,
          28,
          29,
          30,
          31,
          32,
          33,
          34,
          35,
          36,
          37,
          38,
          39,
          40,
          41,
          42,
          43,
          44,
          45,
          46,
          47,
          48,
          49,
          50,
          51,
          52,
          53,
          54,
          55,
          56,
          57,
          58,
          59,
          60,
          61,
          62,
          63,
          64,
          65,
          66,
          67,
          68,
          69,
          70,
          71,
          72,
          73,
          74,
          75,
          76,
          77,
          78,
          79,
          80,
          81,
          82,
          83,
          84,
          85,
          86,
          87,
          88,
          89,
          90,
          91,
          92,
          93,
          94,
          95,
          96,
          97,
          98,
          99,
          100
         ],
         "xaxis": "x9",
         "y": [
          0,
          0,
          0,
          0.019998000199980007,
          0.0443251495973799,
          0.07689350249903881,
          0.11621150493898896,
          0.16058524400035687,
          0.20829348126421388,
          0.25773195876288657,
          0.3075112469391242,
          0.35650623885918004,
          0.4038650890338946,
          0.44898977301072585,
          0.49150053076240746,
          0.5311941026613909,
          0.5680025244556642,
          0.6019563581640331,
          0.6331540492282751,
          0.6617376741146195,
          0.6878745438782025,
          0.7117437722419929,
          0.7335268336091684,
          0.7534012017060491,
          0.771536290646034,
          0.788091068301226,
          0.8032128514056225,
          0.8170369116971645,
          0.8296866197383472,
          0.841273929092626,
          0.8519000612841304,
          0.861656294877932,
          0.8706247933285317,
          0.8788794287283713,
          0.8864865744905145,
          0.8935058510720524,
          0.8999908164202406,
          0.9059895978972093,
          0.9115454657438018,
          0.916697350211399,
          0.9214803057060896,
          0.9259259259259259,
          0.9300627142228776,
          0.9339164134221366,
          0.9375102991768264,
          0.9408654406904864,
          0.9440009323465999,
          0.9469340994728316,
          0.9496806811562115,
          0.9522549927258299,
          0.954670070238429,
          0.9569377990430622,
          0.9590690282650659,
          0.9610736728368734,
          0.9629608045127861,
          0.9647387331352685,
          0.9664150792699973,
          0.9679968391939945,
          0.9694904431039807,
          0.9709018073088934,
          0.972236381079794,
          0.973499188750676,
          0.9746948675936876,
          0.9758277019308391,
          0.9769016538903158,
          0.9779203911681564,
          0.9788873121144546,
          0.9798055684266878,
          0.9806780857006474,
          0.9815075820611658,
          0.9822965850699584,
          0.9830474470859665,
          0.9837623592342617,
          0.9844433641225084,
          0.9850923674289164,
          0.9857111484722917,
          0.9863013698630138,
          0.9868645863233143,
          0.9874022527559915,
          0.9879157316324642,
          0.9884062997637866,
          0.9888751545117429,
          0.9893234194913753,
          0.9897521498111465,
          0.9901623368923506,
          0.9905549129052909,
          0.990930754856075,
          0.9912906883546129,
          0.9916354910914607,
          0.9919658960485326,
          0.9922825944663427,
          0.9925862385883218,
          0.9928774442008512,
          0.9931567929859475,
          0.9934248347019868,
          0.9936820892064713,
          0.9939290483335858,
          0.994166177638165,
          0.9943939180166655,
          0.9946126872148152,
          0.9948228812307749
         ],
         "yaxis": "y9"
        },
        {
         "hovertemplate": "variable=failure_rate<br>simulation=0<br>run=4<br>timestep=%{x}<br>value=%{y}<extra></extra>",
         "legendgroup": "failure_rate",
         "line": {
          "color": "rgb(76,114,176)",
          "dash": "solid"
         },
         "mode": "lines",
         "name": "failure_rate",
         "showlegend": false,
         "type": "scattergl",
         "x": [
          0,
          1,
          2,
          3,
          4,
          5,
          6,
          7,
          8,
          9,
          10,
          11,
          12,
          13,
          14,
          15,
          16,
          17,
          18,
          19,
          20,
          21,
          22,
          23,
          24,
          25,
          26,
          27,
          28,
          29,
          30,
          31,
          32,
          33,
          34,
          35,
          36,
          37,
          38,
          39,
          40,
          41,
          42,
          43,
          44,
          45,
          46,
          47,
          48,
          49,
          50,
          51,
          52,
          53,
          54,
          55,
          56,
          57,
          58,
          59,
          60,
          61,
          62,
          63,
          64,
          65,
          66,
          67,
          68,
          69,
          70,
          71,
          72,
          73,
          74,
          75,
          76,
          77,
          78,
          79,
          80,
          81,
          82,
          83,
          84,
          85,
          86,
          87,
          88,
          89,
          90,
          91,
          92,
          93,
          94,
          95,
          96,
          97,
          98,
          99,
          100
         ],
         "xaxis": "x10",
         "y": [
          0,
          0,
          0,
          0.0002060795528898021,
          0.0007058110337347613,
          0.0016970869502498957,
          0.0033602715099380026,
          0.005881885209563946,
          0.009452086258692025,
          0.014261266400456359,
          0.020495746851379552,
          0.028332625017707887,
          0.03793390465992795,
          0.049440136235042065,
          0.06296389119713501,
          0.078583481202396,
          0.09633739496547912,
          0.11621994624827485,
          0.13817859351179365,
          0.16211329918354048,
          0.18787814791425533,
          0.2152852529601722,
          0.24411077162173403,
          0.27410265360611796,
          0.3049895890687038,
          0.3364905284147557,
          0.3683241252302026,
          0.4002175055537694,
          0.4319138779131777,
          0.46317864786944574,
          0.493803863956013,
          0.5236109764375061,
          0.5524520192797243,
          0.5802094193372921,
          0.6067946923489111,
          0.6321463059070875,
          0.6562269818341832,
          0.6790206826533036,
          0.7005294873292232,
          0.7207705172387521,
          0.739773029767699,
          0.7575757575757576,
          0.774224538371666,
          0.7897702536926939,
          0.80426707550184,
          0.817771005686304,
          0.8303386847845277,
          0.8420264414434521,
          0.8528895522282616,
          0.8629816816156936,
          0.8723544735944806,
          0.8810572687224669,
          0.889136923339313,
          0.8966377106149743,
          0.9036012860311673,
          0.9100667026230015,
          0.9160704637821804,
          0.92164660361135,
          0.9268267867169591,
          0.9316404209476039,
          0.9361147779482135,
          0.9402751175343897,
          0.9441448128241572,
          0.9477454738242218,
          0.9510970677806763,
          0.9542180350936047,
          0.9571253999821383,
          0.9598348753893312,
          0.9623609618502847,
          0.9647170402253428,
          0.9669154583338477,
          0.9689676116219613,
          0.9708840180678702,
          0.9726743875753856,
          0.9743476861374529,
          0.9759121950683806,
          0.9773755656108598,
          0.978744869223618,
          0.9800266438498323,
          0.981226936456793,
          0.9823513421250012,
          0.9834050399508297,
          0.9843928260118313,
          0.9853191436282679,
          0.98618811113889,
          0.9870035473937021,
          0.9877689951516284,
          0.9884877425567987,
          0.9891628428536768,
          0.9897971324885478,
          0.9903932477329481,
          0.9909536399535108,
          0.9914805896423565,
          0.9919762193125956,
          0.992442505354667,
          0.9928812889410976,
          0.9932942860597759,
          0.9936830967489656,
          0.99404921360098,
          0.9943940295956661,
          0.9947188453195788
         ],
         "yaxis": "y10"
        },
        {
         "hovertemplate": "variable=failure_rate<br>simulation=0<br>run=5<br>timestep=%{x}<br>value=%{y}<extra></extra>",
         "legendgroup": "failure_rate",
         "line": {
          "color": "rgb(76,114,176)",
          "dash": "solid"
         },
         "mode": "lines",
         "name": "failure_rate",
         "showlegend": false,
         "type": "scattergl",
         "x": [
          0,
          1,
          2,
          3,
          4,
          5,
          6,
          7,
          8,
          9,
          10,
          11,
          12,
          13,
          14,
          15,
          16,
          17,
          18,
          19,
          20,
          21,
          22,
          23,
          24,
          25,
          26,
          27,
          28,
          29,
          30,
          31,
          32,
          33,
          34,
          35,
          36,
          37,
          38,
          39,
          40,
          41,
          42,
          43,
          44,
          45,
          46,
          47,
          48,
          49,
          50,
          51,
          52,
          53,
          54,
          55,
          56,
          57,
          58,
          59,
          60,
          61,
          62,
          63,
          64,
          65,
          66,
          67,
          68,
          69,
          70,
          71,
          72,
          73,
          74,
          75,
          76,
          77,
          78,
          79,
          80,
          81,
          82,
          83,
          84,
          85,
          86,
          87,
          88,
          89,
          90,
          91,
          92,
          93,
          94,
          95,
          96,
          97,
          98,
          99,
          100
         ],
         "xaxis": "x11",
         "y": [
          0,
          0,
          0,
          2.0820363764859356e-06,
          1.0755867378272286e-05,
          3.4692101527822796e-05,
          8.644383463121546e-05,
          0.00018295682418846424,
          0.0003459733440968075,
          0.0006024531893871845,
          0.0009850053089211417,
          0.0015323204695029916,
          0.002289591597058407,
          0.0033089039541606496,
          0.004649572095904574,
          0.006378394663794114,
          0.00856979169587185,
          0.011305782554470905,
          0.01467575628292517,
          0.018775980898694682,
          0.0237087947567755,
          0.029581422866439867,
          0.0365043653195518,
          0.044589315305496424,
          0.05394658199584504,
          0.06468201999552814,
          0.07689350249903881,
          0.09066701907897758,
          0.10607252898509383,
          0.12315975297262045,
          0.14195413521723002,
          0.16245324455230098,
          0.18462390318740185,
          0.20840032399737868,
          0.23368349942944372,
          0.2603420149279982,
          0.2882143613819165,
          0.317112703575505,
          0.3468279384630306,
          0.377135764114618,
          0.4078033927429951,
          0.43859649122807015,
          0.4692859261625533,
          0.4996539269486746,
          0.5294993527391924,
          0.5586418451778745,
          0.5869247549224613,
          0.6142168322751442,
          0.6404127599872319,
          0.6654326724361458,
          0.689220847080334,
          0.7117437722419929,
          0.7329877933622058,
          0.7529565228968145,
          0.7716681723360015,
          0.789152933367658,
          0.8054505029733341,
          0.8206078171353576,
          0.8346770316390969,
          0.8477137670370489,
          0.859775618354179,
          0.8709209182302027,
          0.8812077343098487,
          0.8906930770817629,
          0.8994322922961346,
          0.9074786118856214,
          0.9148828383950968,
          0.9216931398235845,
          0.927954934133473,
          0.9337108452201077,
          0.939000714671754,
          0.9438616560624733,
          0.9483281407346464,
          0.9524321060057951,
          0.9562030784635576,
          0.9596683064976961,
          0.962852897473997,
          0.9657799560029541,
          0.968470720619939,
          0.9709446968973199,
          0.9732197855759129,
          0.975312404754648,
          0.9772376055325908,
          0.9790091807733475,
          0.9806397668729102,
          0.9821409385705262,
          0.9835232969585979,
          0.9847965509305464,
          0.9859695923621591,
          0.9870505653579702,
          0.9880469299144536,
          0.988965520360013,
          0.989812598930991,
          0.9905939048356077,
          0.9913146991457547,
          0.9919798058414316,
          0.9925936493154397,
          0.9931602886276297,
          0.9936834487792113,
          0.9941665492588447,
          0.9946127300938263
         ],
         "yaxis": "y11"
        },
        {
         "hovertemplate": "variable=failure_rate<br>simulation=0<br>run=6<br>timestep=%{x}<br>value=%{y}<extra></extra>",
         "legendgroup": "failure_rate",
         "line": {
          "color": "rgb(76,114,176)",
          "dash": "solid"
         },
         "mode": "lines",
         "name": "failure_rate",
         "showlegend": false,
         "type": "scattergl",
         "x": [
          0,
          1,
          2,
          3,
          4,
          5,
          6,
          7,
          8,
          9,
          10,
          11,
          12,
          13,
          14,
          15,
          16,
          17,
          18,
          19,
          20,
          21,
          22,
          23,
          24,
          25,
          26,
          27,
          28,
          29,
          30,
          31,
          32,
          33,
          34,
          35,
          36,
          37,
          38,
          39,
          40,
          41,
          42,
          43,
          44,
          45,
          46,
          47,
          48,
          49,
          50,
          51,
          52,
          53,
          54,
          55,
          56,
          57,
          58,
          59,
          60,
          61,
          62,
          63,
          64,
          65,
          66,
          67,
          68,
          69,
          70,
          71,
          72,
          73,
          74,
          75,
          76,
          77,
          78,
          79,
          80,
          81,
          82,
          83,
          84,
          85,
          86,
          87,
          88,
          89,
          90,
          91,
          92,
          93,
          94,
          95,
          96,
          97,
          98,
          99,
          100
         ],
         "xaxis": "x12",
         "y": [
          0,
          0,
          0,
          2.103071381397608e-08,
          1.637966696406927e-07,
          7.08026133626926e-07,
          2.2166952866042364e-06,
          5.6594618934000845e-06,
          1.2552441302358176e-05,
          2.5116717385691302e-05,
          4.6457467305457736e-05,
          8.076569105750152e-05,
          0.00013354462072921313,
          0.00021186292257918058,
          0.0003246367737404298,
          0.00048294276352144554,
          0.0007003632968878783,
          0.00099336571395134,
          0.0013817156208335301,
          0.0018889238766558322,
          0.00254272520598819,
          0.0033755843980489116,
          0.004425223392066353,
          0.005735159102578907,
          0.007355237479429439,
          0.009342143910536858,
          0.011759863585582404,
          0.014680057842265917,
          0.01818231392889222,
          0.022354216330464624,
          0.02729117836150749,
          0.033095963994859916,
          0.03987782313758452,
          0.04775116049542761,
          0.05683366093916695,
          0.06724380539494472,
          0.07909773332778312,
          0.09250544316806791,
          0.10756637192681684,
          0.12436445945376838,
          0.14296287848999145,
          0.16339869281045752,
          0.18567778279246666,
          0.20977043807956577,
          0.23560804642944078,
          0.26308129302778704,
          0.29204021637455435,
          0.3222963436684519,
          0.35362695870889893,
          0.38578135732427676,
          0.4184887459768333,
          0.4514672686230248,
          0.48443353235382597,
          0.5171119620105372,
          0.5492433529229896,
          0.5805921001624252,
          0.6109517417697335,
          0.6401486354515968,
          0.668043765998294,
          0.6945328317906792,
          0.7195448689644929,
          0.7430397358080939,
          0.7650048003322408,
          0.7854511586417511,
          0.804409671401422,
          0.8219270512150502,
          0.8380621745739895,
          0.8528827352965719,
          0.8664623066564691,
          0.8788778390060032,
          0.8902075891997557,
          0.9005294568827384,
          0.9099196894137809,
          0.9184519102567852,
          0.9261964234949854,
          0.9332197482733948,
          0.9395843402609957,
          0.9453484617171639,
          0.9505661667616426,
          0.9552873735095095,
          0.9595579995359549,
          0.9634201415023332,
          0.9669122836193216,
          0.970069522922781,
          0.9729238021113655,
          0.9755041429841413,
          0.977836875375599,
          0.9799458579725209,
          0.9818526885692356,
          0.9835769022277496,
          0.9851361565043968,
          0.9865464034261223,
          0.9878220482822887,
          0.9889760955712161,
          0.9900202826286568,
          0.9909652015876718,
          0.9918204103917064,
          0.9925945336176517,
          0.9932953538732251,
          0.9939298945208918,
          0.994504494454745
         ],
         "yaxis": "y12"
        },
        {
         "hovertemplate": "variable=failure_rate<br>simulation=1<br>run=1<br>timestep=%{x}<br>value=%{y}<extra></extra>",
         "legendgroup": "failure_rate",
         "line": {
          "color": "rgb(76,114,176)",
          "dash": "solid"
         },
         "mode": "lines",
         "name": "failure_rate",
         "showlegend": false,
         "type": "scattergl",
         "x": [
          0,
          1,
          2,
          3,
          4,
          5,
          6,
          7,
          8,
          9,
          10,
          11,
          12,
          13,
          14,
          15,
          16,
          17,
          18,
          19,
          20,
          21,
          22,
          23,
          24,
          25,
          26,
          27,
          28,
          29,
          30,
          31,
          32,
          33,
          34,
          35,
          36,
          37,
          38,
          39,
          40,
          41,
          42,
          43,
          44,
          45,
          46,
          47,
          48,
          49,
          50,
          51,
          52,
          53,
          54,
          55,
          56,
          57,
          58,
          59,
          60,
          61,
          62,
          63,
          64,
          65,
          66,
          67,
          68,
          69,
          70,
          71,
          72,
          73,
          74,
          75,
          76,
          77,
          78,
          79,
          80,
          81,
          82,
          83,
          84,
          85,
          86,
          87,
          88,
          89,
          90,
          91,
          92,
          93,
          94,
          95,
          96,
          97,
          98,
          99,
          100
         ],
         "xaxis": "x",
         "y": [
          0,
          0,
          0,
          2.103071381397608e-08,
          1.637966696406927e-07,
          7.08026133626926e-07,
          2.2166952866042364e-06,
          5.6594618934000845e-06,
          1.2552441302358176e-05,
          2.5116717385691302e-05,
          4.6457467305457736e-05,
          8.076569105750152e-05,
          0.00013354462072921313,
          0.00021186292257918058,
          0.0003246367737404298,
          0.00048294276352144554,
          0.0007003632968878783,
          0.00099336571395134,
          0.0013817156208335301,
          0.0018889238766558322,
          0.00254272520598819,
          0.0033755843980489116,
          0.004425223392066353,
          0.005735159102578907,
          0.007355237479429439,
          0.009342143910536858,
          0.011759863585582404,
          0.014680057842265917,
          0.01818231392889222,
          0.022354216330464624,
          0.02729117836150749,
          0.033095963994859916,
          0.03987782313758452,
          0.04775116049542761,
          0.05683366093916695,
          0.06724380539494472,
          0.07909773332778312,
          0.09250544316806791,
          0.10756637192681684,
          0.12436445945376838,
          0.14296287848999145,
          0.16339869281045752,
          0.18567778279246666,
          0.20977043807956577,
          0.23560804642944078,
          0.26308129302778704,
          0.29204021637455435,
          0.3222963436684519,
          0.35362695870889893,
          0.38578135732427676,
          0.4184887459768333,
          0.4514672686230248,
          0.48443353235382597,
          0.5171119620105372,
          0.5492433529229896,
          0.5805921001624252,
          0.6109517417697335,
          0.6401486354515968,
          0.668043765998294,
          0.6945328317906792,
          0.7195448689644929,
          0.7430397358080939,
          0.7650048003322408,
          0.7854511586417511,
          0.804409671401422,
          0.8219270512150502,
          0.8380621745739895,
          0.8528827352965719,
          0.8664623066564691,
          0.8788778390060032,
          0.8902075891997557,
          0.9005294568827384,
          0.9099196894137809,
          0.9184519102567852,
          0.9261964234949854,
          0.9332197482733948,
          0.9395843402609957,
          0.9453484617171639,
          0.9505661667616426,
          0.9552873735095095,
          0.9595579995359549,
          0.9634201415023332,
          0.9669122836193216,
          0.970069522922781,
          0.9729238021113655,
          0.9755041429841413,
          0.977836875375599,
          0.9799458579725209,
          0.9818526885692356,
          0.9835769022277496,
          0.9851361565043968,
          0.9865464034261223,
          0.9878220482822887,
          0.9889760955712161,
          0.9900202826286568,
          0.9909652015876718,
          0.9918204103917064,
          0.9925945336176517,
          0.9932953538732251,
          0.9939298945208918,
          0.994504494454745
         ],
         "yaxis": "y"
        },
        {
         "hovertemplate": "variable=failure_rate<br>simulation=1<br>run=2<br>timestep=%{x}<br>value=%{y}<extra></extra>",
         "legendgroup": "failure_rate",
         "line": {
          "color": "rgb(76,114,176)",
          "dash": "solid"
         },
         "mode": "lines",
         "name": "failure_rate",
         "showlegend": false,
         "type": "scattergl",
         "x": [
          0,
          1,
          2,
          3,
          4,
          5,
          6,
          7,
          8,
          9,
          10,
          11,
          12,
          13,
          14,
          15,
          16,
          17,
          18,
          19,
          20,
          21,
          22,
          23,
          24,
          25,
          26,
          27,
          28,
          29,
          30,
          31,
          32,
          33,
          34,
          35,
          36,
          37,
          38,
          39,
          40,
          41,
          42,
          43,
          44,
          45,
          46,
          47,
          48,
          49,
          50,
          51,
          52,
          53,
          54,
          55,
          56,
          57,
          58,
          59,
          60,
          61,
          62,
          63,
          64,
          65,
          66,
          67,
          68,
          69,
          70,
          71,
          72,
          73,
          74,
          75,
          76,
          77,
          78,
          79,
          80,
          81,
          82,
          83,
          84,
          85,
          86,
          87,
          88,
          89,
          90,
          91,
          92,
          93,
          94,
          95,
          96,
          97,
          98,
          99,
          100
         ],
         "xaxis": "x2",
         "y": [
          0,
          0,
          0,
          2.1243145708888313e-10,
          2.4943659298702106e-09,
          1.4449522953013055e-08,
          5.6838463445109965e-08,
          1.750358638910063e-07,
          4.55275399339919e-07,
          1.0465550818475143e-06,
          2.189192230034209e-06,
          4.251151121386709e-06,
          7.773415922985179e-06,
          1.3525847984418143e-05,
          2.2575151105027365e-05,
          3.63667717054162e-05,
          5.682278310221179e-05,
          8.645804354268883e-05,
          0.00012851717414876009,
          0.0001871351712697001,
          0.0002675247408943813,
          0.0003761937096649805,
          0.0005211961111206338,
          0.0007124207431521853,
          0.0009619211095437362,
          0.0012842906483980043,
          0.0016970869502498955,
          0.002221308195125432,
          0.0028819241815465847,
          0.003708462941767168,
          0.004735651861211987,
          0.006004109232125083,
          0.007561078018181269,
          0.009461187999753443,
          0.011767225098853685,
          0.014550877244912195,
          0.017893414387990497,
          0.02188624607489788,
          0.02663128349711777,
          0.03224101461235844,
          0.038838181937184676,
          0.04655493482309125,
          0.05553131441623496,
          0.0659129242145759,
          0.07784764752826684,
          0.09148130147557143,
          0.10695217180990436,
          0.1243844590670822,
          0.14388078623304046,
          0.1655140676758344,
          0.18931920666388694,
          0.21528525296017217,
          0.24334878217487937,
          0.2733893187769981,
          0.30522758076158096,
          0.33862715369710583,
          0.37329990518814427,
          0.40891505658542704,
          0.44511139430909635,
          0.4815117041278437,
          0.5177382246546093,
          0.5534277981696646,
          0.5882454692375474,
          0.6218955249534732,
          0.6541293310821763,
          0.6847497234719332,
          0.713612092536791,
          0.7406225959934326,
          0.7657341227888663,
          0.7889407065170813,
          0.8102710666468793,
          0.8297818684878717,
          0.8475511682389197,
          0.8636723740486116,
          0.878248927037958,
          0.8913897992286786,
          0.9032058231376799,
          0.913806810422681,
          0.9232993814124001,
          0.9317854092678328,
          0.9393609772911496,
          0.9461157513489541,
          0.9521326780841303,
          0.9574879309654505,
          0.9622510384462153,
          0.9664851403910099,
          0.9702473297920671,
          0.9735890462945892,
          0.9765564960811077,
          0.9791910792733982,
          0.9815298113241786,
          0.9836057290557954,
          0.9854482752351451,
          0.9870836580217819,
          0.9885351834416325,
          0.9898235603538543,
          0.9909671783039365,
          0.9919823592831889,
          0.9928835848166511,
          0.9936837000363166,
          0.9943940965098654
         ],
         "yaxis": "y2"
        },
        {
         "hovertemplate": "variable=failure_rate<br>simulation=1<br>run=3<br>timestep=%{x}<br>value=%{y}<extra></extra>",
         "legendgroup": "failure_rate",
         "line": {
          "color": "rgb(76,114,176)",
          "dash": "solid"
         },
         "mode": "lines",
         "name": "failure_rate",
         "showlegend": false,
         "type": "scattergl",
         "x": [
          0,
          1,
          2,
          3,
          4,
          5,
          6,
          7,
          8,
          9,
          10,
          11,
          12,
          13,
          14,
          15,
          16,
          17,
          18,
          19,
          20,
          21,
          22,
          23,
          24,
          25,
          26,
          27,
          28,
          29,
          30,
          31,
          32,
          33,
          34,
          35,
          36,
          37,
          38,
          39,
          40,
          41,
          42,
          43,
          44,
          45,
          46,
          47,
          48,
          49,
          50,
          51,
          52,
          53,
          54,
          55,
          56,
          57,
          58,
          59,
          60,
          61,
          62,
          63,
          64,
          65,
          66,
          67,
          68,
          69,
          70,
          71,
          72,
          73,
          74,
          75,
          76,
          77,
          78,
          79,
          80,
          81,
          82,
          83,
          84,
          85,
          86,
          87,
          88,
          89,
          90,
          91,
          92,
          93,
          94,
          95,
          96,
          97,
          98,
          99,
          100
         ],
         "xaxis": "x3",
         "y": [
          0,
          0,
          0,
          2.145772294278328e-12,
          3.798526806087294e-11,
          2.948882277049138e-10,
          1.4573965793047409e-09,
          5.41348124477356e-09,
          1.6512586495779658e-08,
          4.3606505478730924e-08,
          1.0315587000528365e-07,
          2.2374569697729365e-07,
          4.5242434475100917e-07,
          8.633629313350653e-07,
          1.5694284983969666e-06,
          2.7373759483566172e-06,
          4.607493266667936e-06,
          7.5186842674236955e-06,
          1.1940145846012177e-05,
          1.851099554076499e-05,
          2.8089433398744354e-05,
          4.181328320199431e-05,
          6.117405561427686e-05,
          8.81070132275685e-05,
          0.00012510009790368804,
          0.0001753250064660214,
          0.00024279417245427266,
          0.0003325479276202394,
          0.0004508766716164769,
          0.0006055834606969135,
          0.0008062930166355858,
          0.001064813723948328,
          0.0013955596785657689,
          0.0018160402029136508,
          0.002347424348125142,
          0.0030151876193761705,
          0.0038498472863449946,
          0.0048877909097986595,
          0.006172199774508127,
          0.007754064314679567,
          0.009693281785207205,
          0.0120598166907863,
          0.014934891060066858,
          0.018412153725413292,
          0.022598754587448703,
          0.02761622091001177,
          0.03360099806747308,
          0.040704477919402404,
          0.049092296787508385,
          0.05894264685127101,
          0.0704433177155483,
          0.08378718056137407,
          0.09916586075766104,
          0.11676143333365736,
          0.1367361355587527,
          0.15922033190024573,
          0.18429928469349824,
          0.21199965249832628,
          0.2422770024600229,
          0.2750059004132688,
          0.30997423448513856,
          0.34688324531719505,
          0.385354233025384,
          0.4249421177883705,
          0.4651550677711041,
          0.5054784682243755,
          0.5454008052445988,
          0.584438748120574,
          0.622158903584967,
          0.6581943259052835,
          0.6922547378461288,
          0.7241303423361335,
          0.7536898955986343,
          0.7808742487697778,
          0.8056868091199727,
          0.8281823572176124,
          0.8484554580282236,
          0.8666294085863265,
          0.8828463475817894,
          0.8972588652171871,
          0.9100232229488335,
          0.9212941303487242,
          0.9312209253830928,
          0.9399449532737314,
          0.947597924244225,
          0.9543010393026511,
          0.9601646956037383,
          0.9652886114201684,
          0.9697622403691003,
          0.9736653723061556,
          0.9770688426812689,
          0.9800352925843485,
          0.9826199382240361,
          0.9848713215359561,
          0.9868320235090694,
          0.9885393291851784,
          0.990025838632898,
          0.9913200219688948,
          0.9924467190702435,
          0.993427586296429,
          0.994281493558453
         ],
         "yaxis": "y3"
        },
        {
         "hovertemplate": "variable=failure_rate<br>simulation=1<br>run=4<br>timestep=%{x}<br>value=%{y}<extra></extra>",
         "legendgroup": "failure_rate",
         "line": {
          "color": "rgb(76,114,176)",
          "dash": "solid"
         },
         "mode": "lines",
         "name": "failure_rate",
         "showlegend": false,
         "type": "scattergl",
         "x": [
          0,
          1,
          2,
          3,
          4,
          5,
          6,
          7,
          8,
          9,
          10,
          11,
          12,
          13,
          14,
          15,
          16,
          17,
          18,
          19,
          20,
          21,
          22,
          23,
          24,
          25,
          26,
          27,
          28,
          29,
          30,
          31,
          32,
          33,
          34,
          35,
          36,
          37,
          38,
          39,
          40,
          41,
          42,
          43,
          44,
          45,
          46,
          47,
          48,
          49,
          50,
          51,
          52,
          53,
          54,
          55,
          56,
          57,
          58,
          59,
          60,
          61,
          62,
          63,
          64,
          65,
          66,
          67,
          68,
          69,
          70,
          71,
          72,
          73,
          74,
          75,
          76,
          77,
          78,
          79,
          80,
          81,
          82,
          83,
          84,
          85,
          86,
          87,
          88,
          89,
          90,
          91,
          92,
          93,
          94,
          95,
          96,
          97,
          98,
          99,
          100
         ],
         "xaxis": "x4",
         "y": [
          0,
          0,
          0,
          2.167446761901905e-14,
          5.784558588166576e-13,
          6.018127097757106e-12,
          3.736914311216112e-11,
          1.6742725587132914e-10,
          5.989021104139391e-10,
          1.8169378042095007e-09,
          4.860748279083935e-09,
          1.1776091810767963e-08,
          2.6331586840127856e-08,
          5.510831675443028e-08,
          1.0910481429713481e-07,
          2.0603957143187424e-07,
          3.735821168493189e-07,
          6.53803120233535e-07,
          1.1092058901612235e-06,
          1.8307883387197404e-06,
          2.948688688117429e-06,
          4.646093038802935e-06,
          7.177232063921657e-06,
          1.0890471782075052e-05,
          1.6257714482500206e-05,
          2.391157604751554e-05,
          3.469210152782279e-05,
          4.9705129081040743e-05,
          7.039482129203737e-05,
          9.863336119158081e-05,
          0.00013683136724798448,
          0.0001880732266579365,
          0.0002562822883609366,
          0.0003464217037740603,
          0.0004647376585537951,
          0.0006190528013492919,
          0.0008191188347702746,
          0.0010770384641525551,
          0.0014077681531765509,
          0.0018297143306164367,
          0.0023654366996835006,
          0.0030424729219909945,
          0.0038942988878038656,
          0.004961437618445717,
          0.006292726978503298,
          0.007946750986445341,
          0.009993430512010668,
          0.012515755132222892,
          0.01561161715110784,
          0.019395679255472198,
          0.02400116684688229,
          0.029581422866439864,
          0.03631099592550995,
          0.044385952770434854,
          0.054023018131145434,
          0.06545705913139617,
          0.07893636607204704,
          0.09471516501390236,
          0.11304286895080551,
          0.13414977891721594,
          0.15822932628567593,
          0.18541752360922367,
          0.21577103795814065,
          0.24924611974657987,
          0.28568132826907394,
          0.3247873424008163,
          0.3661468775644441,
          0.40922669482965557,
          0.45340194082509067,
          0.49799091762923103,
          0.5422963789831401,
          0.5856481521306309,
          0.6274416825387767,
          0.6671680393540308,
          0.7044326930306352,
          0.7389624529950257,
          0.7706017940774889,
          0.7993010387413785,
          0.8250993779238476,
          0.848105601084767,
          0.8684788801143136,
          0.886411246342688,
          0.9021127016886777,
          0.9157993268211858,
          0.9276843352838671,
          0.9379717688269013,
          0.9468524060229419,
          0.9545014258734487,
          0.9610773954378535,
          0.9667222079164688,
          0.9715616658844667,
          0.9757064716443624,
          0.9792534466071742,
          0.9822868516337259,
          0.9848797200467084,
          0.9870951454585815,
          0.988987489074364,
          0.9906034872599822,
          0.9919832513480757,
          0.9931611591122655,
          0.9941666420767017
         ],
         "yaxis": "y4"
        },
        {
         "hovertemplate": "variable=failure_rate<br>simulation=1<br>run=5<br>timestep=%{x}<br>value=%{y}<extra></extra>",
         "legendgroup": "failure_rate",
         "line": {
          "color": "rgb(76,114,176)",
          "dash": "solid"
         },
         "mode": "lines",
         "name": "failure_rate",
         "showlegend": false,
         "type": "scattergl",
         "x": [
          0,
          1,
          2,
          3,
          4,
          5,
          6,
          7,
          8,
          9,
          10,
          11,
          12,
          13,
          14,
          15,
          16,
          17,
          18,
          19,
          20,
          21,
          22,
          23,
          24,
          25,
          26,
          27,
          28,
          29,
          30,
          31,
          32,
          33,
          34,
          35,
          36,
          37,
          38,
          39,
          40,
          41,
          42,
          43,
          44,
          45,
          46,
          47,
          48,
          49,
          50,
          51,
          52,
          53,
          54,
          55,
          56,
          57,
          58,
          59,
          60,
          61,
          62,
          63,
          64,
          65,
          66,
          67,
          68,
          69,
          70,
          71,
          72,
          73,
          74,
          75,
          76,
          77,
          78,
          79,
          80,
          81,
          82,
          83,
          84,
          85,
          86,
          87,
          88,
          89,
          90,
          91,
          92,
          93,
          94,
          95,
          96,
          97,
          98,
          99,
          100
         ],
         "xaxis": "x5",
         "y": [
          0,
          0,
          0,
          2.1893401635373245e-16,
          8.80897246929422e-15,
          1.2281892036311393e-13,
          9.581831567569685e-13,
          5.178162553561672e-12,
          2.1721838214079246e-11,
          7.570574197388378e-11,
          2.290404958867932e-10,
          6.197943127445025e-10,
          1.532526256213711e-09,
          3.51755231473472e-09,
          7.584827432379248e-09,
          1.5508357793784552e-08,
          3.029045230516164e-08,
          5.6852479175824514e-08,
          1.0304108800824355e-07,
          1.8106727726525452e-07,
          3.095316736666486e-07,
          5.162346918442446e-07,
          8.42026973202164e-07,
          1.3460262134151031e-06,
          2.112614250985975e-06,
          3.2607367981958694e-06,
          4.956161880835677e-06,
          7.427517216039952e-06,
          1.0987127726424045e-05,
          1.6057919693451575e-05,
          2.3207956620148377e-05,
          3.3194534236356875e-05,
          4.7020200594940195e-05,
          6.600359625842139e-05,
          9.186864573690628e-05,
          0.00012685639344718443,
          0.00017386468652173145,
          0.0002366219855788009,
          0.00031990285673812565,
          0.00042979418663985125,
          0.000574022886294807,
          0.0007623578202665203,
          0.0010071009102554387,
          0.0013236847847792124,
          0.001731396903107948,
          0.0022542526259154375,
          0.002922041984699874,
          0.003771576505891905,
          0.004848162732757496,
          0.006207327092739617,
          0.007916811067796299,
          0.010058844238796957,
          0.012732682948111935,
          0.016057370445534097,
          0.020174625946817862,
          0.025251699849559696,
          0.03148393519313111,
          0.0390966474829756,
          0.04834577638397478,
          0.05951658187641858,
          0.07291947677190126,
          0.08888195081138361,
          0.107735520192557,
          0.129796829647135,
          0.15534255704718433,
          0.18457871904804632,
          0.21760636630284488,
          0.2543873441712971,
          0.2947154106955602,
          0.3381989634596857,
          0.38426127501874396,
          0.43216203428600813,
          0.48104025034908104,
          0.5299740313867698,
          0.578048783443702,
          0.624423358720027,
          0.6683843473167252,
          0.7093817650294512,
          0.747043705163417,
          0.7811716719954859,
          0.8117212061066139,
          0.8387736212249043,
          0.8625043984404225,
          0.8831525768968503,
          0.9009939357355617,
          0.9163193243026266,
          0.9294183995289517,
          0.9405683270710166,
          0.9500266448976897,
          0.9580273799274985,
          0.9647795545022985,
          0.9704673436596036,
          0.9752512943555712,
          0.9792701633391359,
          0.9826430562460163,
          0.985471651630626,
          0.9878423706638647,
          0.9898284093217634,
          0.9914915891505055,
          0.9928840090813235,
          0.9940494977026901
         ],
         "yaxis": "y5"
        },
        {
         "hovertemplate": "variable=failure_rate<br>simulation=1<br>run=6<br>timestep=%{x}<br>value=%{y}<extra></extra>",
         "legendgroup": "failure_rate",
         "line": {
          "color": "rgb(76,114,176)",
          "dash": "solid"
         },
         "mode": "lines",
         "name": "failure_rate",
         "showlegend": false,
         "type": "scattergl",
         "x": [
          0,
          1,
          2,
          3,
          4,
          5,
          6,
          7,
          8,
          9,
          10,
          11,
          12,
          13,
          14,
          15,
          16,
          17,
          18,
          19,
          20,
          21,
          22,
          23,
          24,
          25,
          26,
          27,
          28,
          29,
          30,
          31,
          32,
          33,
          34,
          35,
          36,
          37,
          38,
          39,
          40,
          41,
          42,
          43,
          44,
          45,
          46,
          47,
          48,
          49,
          50,
          51,
          52,
          53,
          54,
          55,
          56,
          57,
          58,
          59,
          60,
          61,
          62,
          63,
          64,
          65,
          66,
          67,
          68,
          69,
          70,
          71,
          72,
          73,
          74,
          75,
          76,
          77,
          78,
          79,
          80,
          81,
          82,
          83,
          84,
          85,
          86,
          87,
          88,
          89,
          90,
          91,
          92,
          93,
          94,
          95,
          96,
          97,
          98,
          99,
          100
         ],
         "xaxis": "x6",
         "y": [
          0,
          0,
          0,
          2.211454710643763e-18,
          1.3414678887250197e-16,
          2.5065085788393616e-15,
          2.4568798891227256e-14,
          1.6014935732745332e-13,
          7.878386917188487e-13,
          3.1544059158073473e-12,
          1.079248410173313e-11,
          3.2620753321496283e-11,
          8.919464996128149e-11,
          2.2452461657349685e-10,
          5.272874722824766e-10,
          1.1672957646595287e-09,
          2.455982687698406e-09,
          4.943694097997201e-09,
          9.572123824424052e-09,
          1.7907755618384528e-08,
          3.249228413792089e-08,
          5.735943652574365e-08,
          9.878536078031117e-08,
          1.663629866744217e-07,
          2.745210004861695e-07,
          4.4464717919357163e-07,
          7.080261336269258e-07,
          1.1098659061043754e-06,
          1.7147699382156864e-06,
          2.61411509384116e-06,
          3.9359281459237206e-06,
          5.858019121652866e-06,
          8.625338381257918e-06,
          1.257278535559568e-05,
          1.8155022783734577e-05,
          2.5985256032880748e-05,
          3.68854407762928e-05,
          5.195100581009589e-05,
          7.26339473068886e-05,
          0.00010084909748417805,
          0.00013910953115625402,
          0.00019069849043074975,
          0.00025988692917798577,
          0.00035220785806285715,
          0.00047480116388421816,
          0.0006368455380875085,
          0.0008500976233264788,
          0.0011295624951873794,
          0.001494324114029503,
          0.001968569302779459,
          0.0025828438861095412,
          0.0033755843980489107,
          0.004394972414801331,
          0.005701159757093924,
          0.007368909417330791,
          0.009490685886315417,
          0.012180204868179341,
          0.015576409538976857,
          0.019847769618262137,
          0.025196689425972297,
          0.03186364922824889,
          0.04013047907167039,
          0.050321870944771176,
          0.06280388453544575,
          0.07797783614604092,
          0.09626767204145359,
          0.11809887815953006,
          0.1438674019676329,
          0.1738982313444924,
          0.20839539677880062,
          0.24738819529746492,
          0.29068186419792297,
          0.3378236477115205,
          0.38809566593467965,
          0.44054288341059017,
          0.49403758991374824,
          0.5473727632248263,
          0.5993686355760859,
          0.6489730140264688,
          0.6953380197467358,
          0.737862909594708,
          0.7762015395169206,
          0.8102405531792016,
          0.840058524942774,
          0.8658768280949183,
          0.8880109965989696,
          0.9068282618557203,
          0.9227139532507261,
          0.9360471865121004,
          0.9471848805287214,
          0.9564525091502463,
          0.9641398744206396,
          0.9705003570155204,
          0.9757523915654664,
          0.9800822256126901,
          0.9836472979348401,
          0.9865797947212605,
          0.9889901091072083,
          0.9909700481004778,
          0.9925957110378271,
          0.9939300152210954
         ],
         "yaxis": "y6"
        }
       ],
       "layout": {
        "annotations": [
         {
          "font": {},
          "showarrow": false,
          "text": "run=1",
          "x": 0.07333333333333333,
          "xanchor": "center",
          "xref": "paper",
          "y": 1,
          "yanchor": "bottom",
          "yref": "paper"
         },
         {
          "font": {},
          "showarrow": false,
          "text": "run=2",
          "x": 0.24,
          "xanchor": "center",
          "xref": "paper",
          "y": 1,
          "yanchor": "bottom",
          "yref": "paper"
         },
         {
          "font": {},
          "showarrow": false,
          "text": "run=3",
          "x": 0.4066666666666666,
          "xanchor": "center",
          "xref": "paper",
          "y": 1,
          "yanchor": "bottom",
          "yref": "paper"
         },
         {
          "font": {},
          "showarrow": false,
          "text": "run=4",
          "x": 0.5733333333333334,
          "xanchor": "center",
          "xref": "paper",
          "y": 1,
          "yanchor": "bottom",
          "yref": "paper"
         },
         {
          "font": {},
          "showarrow": false,
          "text": "run=5",
          "x": 0.74,
          "xanchor": "center",
          "xref": "paper",
          "y": 1,
          "yanchor": "bottom",
          "yref": "paper"
         },
         {
          "font": {},
          "showarrow": false,
          "text": "run=6",
          "x": 0.9066666666666667,
          "xanchor": "center",
          "xref": "paper",
          "y": 1,
          "yanchor": "bottom",
          "yref": "paper"
         },
         {
          "font": {},
          "showarrow": false,
          "text": "simulation=1",
          "textangle": 90,
          "x": 0.98,
          "xanchor": "left",
          "xref": "paper",
          "y": 0.2425,
          "yanchor": "middle",
          "yref": "paper"
         },
         {
          "font": {},
          "showarrow": false,
          "text": "simulation=0",
          "textangle": 90,
          "x": 0.98,
          "xanchor": "left",
          "xref": "paper",
          "y": 0.7575000000000001,
          "yanchor": "middle",
          "yref": "paper"
         }
        ],
        "autosize": true,
        "legend": {
         "title": {
          "text": "variable"
         },
         "tracegroupgap": 0
        },
        "margin": {
         "t": 60
        },
        "template": {
         "data": {
          "bar": [
           {
            "error_x": {
             "color": "rgb(36,36,36)"
            },
            "error_y": {
             "color": "rgb(36,36,36)"
            },
            "marker": {
             "line": {
              "color": "rgb(234,234,242)",
              "width": 0.5
             }
            },
            "type": "bar"
           }
          ],
          "barpolar": [
           {
            "marker": {
             "line": {
              "color": "rgb(234,234,242)",
              "width": 0.5
             }
            },
            "type": "barpolar"
           }
          ],
          "carpet": [
           {
            "aaxis": {
             "endlinecolor": "rgb(36,36,36)",
             "gridcolor": "white",
             "linecolor": "white",
             "minorgridcolor": "white",
             "startlinecolor": "rgb(36,36,36)"
            },
            "baxis": {
             "endlinecolor": "rgb(36,36,36)",
             "gridcolor": "white",
             "linecolor": "white",
             "minorgridcolor": "white",
             "startlinecolor": "rgb(36,36,36)"
            },
            "type": "carpet"
           }
          ],
          "choropleth": [
           {
            "colorbar": {
             "outlinewidth": 0,
             "tickcolor": "rgb(36,36,36)",
             "ticklen": 8,
             "ticks": "outside",
             "tickwidth": 2
            },
            "type": "choropleth"
           }
          ],
          "contour": [
           {
            "colorbar": {
             "outlinewidth": 0,
             "tickcolor": "rgb(36,36,36)",
             "ticklen": 8,
             "ticks": "outside",
             "tickwidth": 2
            },
            "colorscale": [
             [
              0,
              "rgb(2,4,25)"
             ],
             [
              0.06274509803921569,
              "rgb(24,15,41)"
             ],
             [
              0.12549019607843137,
              "rgb(47,23,57)"
             ],
             [
              0.18823529411764706,
              "rgb(71,28,72)"
             ],
             [
              0.25098039215686274,
              "rgb(97,30,82)"
             ],
             [
              0.3137254901960784,
              "rgb(123,30,89)"
             ],
             [
              0.3764705882352941,
              "rgb(150,27,91)"
             ],
             [
              0.4392156862745098,
              "rgb(177,22,88)"
             ],
             [
              0.5019607843137255,
              "rgb(203,26,79)"
             ],
             [
              0.5647058823529412,
              "rgb(223,47,67)"
             ],
             [
              0.6274509803921569,
              "rgb(236,76,61)"
             ],
             [
              0.6901960784313725,
              "rgb(242,107,73)"
             ],
             [
              0.7529411764705882,
              "rgb(244,135,95)"
             ],
             [
              0.8156862745098039,
              "rgb(245,162,122)"
             ],
             [
              0.8784313725490196,
              "rgb(246,188,153)"
             ],
             [
              0.9411764705882353,
              "rgb(247,212,187)"
             ],
             [
              1,
              "rgb(250,234,220)"
             ]
            ],
            "type": "contour"
           }
          ],
          "contourcarpet": [
           {
            "colorbar": {
             "outlinewidth": 0,
             "tickcolor": "rgb(36,36,36)",
             "ticklen": 8,
             "ticks": "outside",
             "tickwidth": 2
            },
            "type": "contourcarpet"
           }
          ],
          "heatmap": [
           {
            "colorbar": {
             "outlinewidth": 0,
             "tickcolor": "rgb(36,36,36)",
             "ticklen": 8,
             "ticks": "outside",
             "tickwidth": 2
            },
            "colorscale": [
             [
              0,
              "rgb(2,4,25)"
             ],
             [
              0.06274509803921569,
              "rgb(24,15,41)"
             ],
             [
              0.12549019607843137,
              "rgb(47,23,57)"
             ],
             [
              0.18823529411764706,
              "rgb(71,28,72)"
             ],
             [
              0.25098039215686274,
              "rgb(97,30,82)"
             ],
             [
              0.3137254901960784,
              "rgb(123,30,89)"
             ],
             [
              0.3764705882352941,
              "rgb(150,27,91)"
             ],
             [
              0.4392156862745098,
              "rgb(177,22,88)"
             ],
             [
              0.5019607843137255,
              "rgb(203,26,79)"
             ],
             [
              0.5647058823529412,
              "rgb(223,47,67)"
             ],
             [
              0.6274509803921569,
              "rgb(236,76,61)"
             ],
             [
              0.6901960784313725,
              "rgb(242,107,73)"
             ],
             [
              0.7529411764705882,
              "rgb(244,135,95)"
             ],
             [
              0.8156862745098039,
              "rgb(245,162,122)"
             ],
             [
              0.8784313725490196,
              "rgb(246,188,153)"
             ],
             [
              0.9411764705882353,
              "rgb(247,212,187)"
             ],
             [
              1,
              "rgb(250,234,220)"
             ]
            ],
            "type": "heatmap"
           }
          ],
          "heatmapgl": [
           {
            "colorbar": {
             "outlinewidth": 0,
             "tickcolor": "rgb(36,36,36)",
             "ticklen": 8,
             "ticks": "outside",
             "tickwidth": 2
            },
            "colorscale": [
             [
              0,
              "rgb(2,4,25)"
             ],
             [
              0.06274509803921569,
              "rgb(24,15,41)"
             ],
             [
              0.12549019607843137,
              "rgb(47,23,57)"
             ],
             [
              0.18823529411764706,
              "rgb(71,28,72)"
             ],
             [
              0.25098039215686274,
              "rgb(97,30,82)"
             ],
             [
              0.3137254901960784,
              "rgb(123,30,89)"
             ],
             [
              0.3764705882352941,
              "rgb(150,27,91)"
             ],
             [
              0.4392156862745098,
              "rgb(177,22,88)"
             ],
             [
              0.5019607843137255,
              "rgb(203,26,79)"
             ],
             [
              0.5647058823529412,
              "rgb(223,47,67)"
             ],
             [
              0.6274509803921569,
              "rgb(236,76,61)"
             ],
             [
              0.6901960784313725,
              "rgb(242,107,73)"
             ],
             [
              0.7529411764705882,
              "rgb(244,135,95)"
             ],
             [
              0.8156862745098039,
              "rgb(245,162,122)"
             ],
             [
              0.8784313725490196,
              "rgb(246,188,153)"
             ],
             [
              0.9411764705882353,
              "rgb(247,212,187)"
             ],
             [
              1,
              "rgb(250,234,220)"
             ]
            ],
            "type": "heatmapgl"
           }
          ],
          "histogram": [
           {
            "marker": {
             "colorbar": {
              "outlinewidth": 0,
              "tickcolor": "rgb(36,36,36)",
              "ticklen": 8,
              "ticks": "outside",
              "tickwidth": 2
             }
            },
            "type": "histogram"
           }
          ],
          "histogram2d": [
           {
            "colorbar": {
             "outlinewidth": 0,
             "tickcolor": "rgb(36,36,36)",
             "ticklen": 8,
             "ticks": "outside",
             "tickwidth": 2
            },
            "colorscale": [
             [
              0,
              "rgb(2,4,25)"
             ],
             [
              0.06274509803921569,
              "rgb(24,15,41)"
             ],
             [
              0.12549019607843137,
              "rgb(47,23,57)"
             ],
             [
              0.18823529411764706,
              "rgb(71,28,72)"
             ],
             [
              0.25098039215686274,
              "rgb(97,30,82)"
             ],
             [
              0.3137254901960784,
              "rgb(123,30,89)"
             ],
             [
              0.3764705882352941,
              "rgb(150,27,91)"
             ],
             [
              0.4392156862745098,
              "rgb(177,22,88)"
             ],
             [
              0.5019607843137255,
              "rgb(203,26,79)"
             ],
             [
              0.5647058823529412,
              "rgb(223,47,67)"
             ],
             [
              0.6274509803921569,
              "rgb(236,76,61)"
             ],
             [
              0.6901960784313725,
              "rgb(242,107,73)"
             ],
             [
              0.7529411764705882,
              "rgb(244,135,95)"
             ],
             [
              0.8156862745098039,
              "rgb(245,162,122)"
             ],
             [
              0.8784313725490196,
              "rgb(246,188,153)"
             ],
             [
              0.9411764705882353,
              "rgb(247,212,187)"
             ],
             [
              1,
              "rgb(250,234,220)"
             ]
            ],
            "type": "histogram2d"
           }
          ],
          "histogram2dcontour": [
           {
            "colorbar": {
             "outlinewidth": 0,
             "tickcolor": "rgb(36,36,36)",
             "ticklen": 8,
             "ticks": "outside",
             "tickwidth": 2
            },
            "colorscale": [
             [
              0,
              "rgb(2,4,25)"
             ],
             [
              0.06274509803921569,
              "rgb(24,15,41)"
             ],
             [
              0.12549019607843137,
              "rgb(47,23,57)"
             ],
             [
              0.18823529411764706,
              "rgb(71,28,72)"
             ],
             [
              0.25098039215686274,
              "rgb(97,30,82)"
             ],
             [
              0.3137254901960784,
              "rgb(123,30,89)"
             ],
             [
              0.3764705882352941,
              "rgb(150,27,91)"
             ],
             [
              0.4392156862745098,
              "rgb(177,22,88)"
             ],
             [
              0.5019607843137255,
              "rgb(203,26,79)"
             ],
             [
              0.5647058823529412,
              "rgb(223,47,67)"
             ],
             [
              0.6274509803921569,
              "rgb(236,76,61)"
             ],
             [
              0.6901960784313725,
              "rgb(242,107,73)"
             ],
             [
              0.7529411764705882,
              "rgb(244,135,95)"
             ],
             [
              0.8156862745098039,
              "rgb(245,162,122)"
             ],
             [
              0.8784313725490196,
              "rgb(246,188,153)"
             ],
             [
              0.9411764705882353,
              "rgb(247,212,187)"
             ],
             [
              1,
              "rgb(250,234,220)"
             ]
            ],
            "type": "histogram2dcontour"
           }
          ],
          "mesh3d": [
           {
            "colorbar": {
             "outlinewidth": 0,
             "tickcolor": "rgb(36,36,36)",
             "ticklen": 8,
             "ticks": "outside",
             "tickwidth": 2
            },
            "type": "mesh3d"
           }
          ],
          "parcoords": [
           {
            "line": {
             "colorbar": {
              "outlinewidth": 0,
              "tickcolor": "rgb(36,36,36)",
              "ticklen": 8,
              "ticks": "outside",
              "tickwidth": 2
             }
            },
            "type": "parcoords"
           }
          ],
          "pie": [
           {
            "automargin": true,
            "type": "pie"
           }
          ],
          "scatter": [
           {
            "marker": {
             "colorbar": {
              "outlinewidth": 0,
              "tickcolor": "rgb(36,36,36)",
              "ticklen": 8,
              "ticks": "outside",
              "tickwidth": 2
             }
            },
            "type": "scatter"
           }
          ],
          "scatter3d": [
           {
            "line": {
             "colorbar": {
              "outlinewidth": 0,
              "tickcolor": "rgb(36,36,36)",
              "ticklen": 8,
              "ticks": "outside",
              "tickwidth": 2
             }
            },
            "marker": {
             "colorbar": {
              "outlinewidth": 0,
              "tickcolor": "rgb(36,36,36)",
              "ticklen": 8,
              "ticks": "outside",
              "tickwidth": 2
             }
            },
            "type": "scatter3d"
           }
          ],
          "scattercarpet": [
           {
            "marker": {
             "colorbar": {
              "outlinewidth": 0,
              "tickcolor": "rgb(36,36,36)",
              "ticklen": 8,
              "ticks": "outside",
              "tickwidth": 2
             }
            },
            "type": "scattercarpet"
           }
          ],
          "scattergeo": [
           {
            "marker": {
             "colorbar": {
              "outlinewidth": 0,
              "tickcolor": "rgb(36,36,36)",
              "ticklen": 8,
              "ticks": "outside",
              "tickwidth": 2
             }
            },
            "type": "scattergeo"
           }
          ],
          "scattergl": [
           {
            "marker": {
             "colorbar": {
              "outlinewidth": 0,
              "tickcolor": "rgb(36,36,36)",
              "ticklen": 8,
              "ticks": "outside",
              "tickwidth": 2
             }
            },
            "type": "scattergl"
           }
          ],
          "scattermapbox": [
           {
            "marker": {
             "colorbar": {
              "outlinewidth": 0,
              "tickcolor": "rgb(36,36,36)",
              "ticklen": 8,
              "ticks": "outside",
              "tickwidth": 2
             }
            },
            "type": "scattermapbox"
           }
          ],
          "scatterpolar": [
           {
            "marker": {
             "colorbar": {
              "outlinewidth": 0,
              "tickcolor": "rgb(36,36,36)",
              "ticklen": 8,
              "ticks": "outside",
              "tickwidth": 2
             }
            },
            "type": "scatterpolar"
           }
          ],
          "scatterpolargl": [
           {
            "marker": {
             "colorbar": {
              "outlinewidth": 0,
              "tickcolor": "rgb(36,36,36)",
              "ticklen": 8,
              "ticks": "outside",
              "tickwidth": 2
             }
            },
            "type": "scatterpolargl"
           }
          ],
          "scatterternary": [
           {
            "marker": {
             "colorbar": {
              "outlinewidth": 0,
              "tickcolor": "rgb(36,36,36)",
              "ticklen": 8,
              "ticks": "outside",
              "tickwidth": 2
             }
            },
            "type": "scatterternary"
           }
          ],
          "surface": [
           {
            "colorbar": {
             "outlinewidth": 0,
             "tickcolor": "rgb(36,36,36)",
             "ticklen": 8,
             "ticks": "outside",
             "tickwidth": 2
            },
            "colorscale": [
             [
              0,
              "rgb(2,4,25)"
             ],
             [
              0.06274509803921569,
              "rgb(24,15,41)"
             ],
             [
              0.12549019607843137,
              "rgb(47,23,57)"
             ],
             [
              0.18823529411764706,
              "rgb(71,28,72)"
             ],
             [
              0.25098039215686274,
              "rgb(97,30,82)"
             ],
             [
              0.3137254901960784,
              "rgb(123,30,89)"
             ],
             [
              0.3764705882352941,
              "rgb(150,27,91)"
             ],
             [
              0.4392156862745098,
              "rgb(177,22,88)"
             ],
             [
              0.5019607843137255,
              "rgb(203,26,79)"
             ],
             [
              0.5647058823529412,
              "rgb(223,47,67)"
             ],
             [
              0.6274509803921569,
              "rgb(236,76,61)"
             ],
             [
              0.6901960784313725,
              "rgb(242,107,73)"
             ],
             [
              0.7529411764705882,
              "rgb(244,135,95)"
             ],
             [
              0.8156862745098039,
              "rgb(245,162,122)"
             ],
             [
              0.8784313725490196,
              "rgb(246,188,153)"
             ],
             [
              0.9411764705882353,
              "rgb(247,212,187)"
             ],
             [
              1,
              "rgb(250,234,220)"
             ]
            ],
            "type": "surface"
           }
          ],
          "table": [
           {
            "cells": {
             "fill": {
              "color": "rgb(231,231,240)"
             },
             "line": {
              "color": "white"
             }
            },
            "header": {
             "fill": {
              "color": "rgb(183,183,191)"
             },
             "line": {
              "color": "white"
             }
            },
            "type": "table"
           }
          ]
         },
         "layout": {
          "annotationdefaults": {
           "arrowcolor": "rgb(67,103,167)"
          },
          "coloraxis": {
           "colorbar": {
            "outlinewidth": 0,
            "tickcolor": "rgb(36,36,36)",
            "ticklen": 8,
            "ticks": "outside",
            "tickwidth": 2
           }
          },
          "colorscale": {
           "sequential": [
            [
             0,
             "rgb(2,4,25)"
            ],
            [
             0.06274509803921569,
             "rgb(24,15,41)"
            ],
            [
             0.12549019607843137,
             "rgb(47,23,57)"
            ],
            [
             0.18823529411764706,
             "rgb(71,28,72)"
            ],
            [
             0.25098039215686274,
             "rgb(97,30,82)"
            ],
            [
             0.3137254901960784,
             "rgb(123,30,89)"
            ],
            [
             0.3764705882352941,
             "rgb(150,27,91)"
            ],
            [
             0.4392156862745098,
             "rgb(177,22,88)"
            ],
            [
             0.5019607843137255,
             "rgb(203,26,79)"
            ],
            [
             0.5647058823529412,
             "rgb(223,47,67)"
            ],
            [
             0.6274509803921569,
             "rgb(236,76,61)"
            ],
            [
             0.6901960784313725,
             "rgb(242,107,73)"
            ],
            [
             0.7529411764705882,
             "rgb(244,135,95)"
            ],
            [
             0.8156862745098039,
             "rgb(245,162,122)"
            ],
            [
             0.8784313725490196,
             "rgb(246,188,153)"
            ],
            [
             0.9411764705882353,
             "rgb(247,212,187)"
            ],
            [
             1,
             "rgb(250,234,220)"
            ]
           ],
           "sequentialminus": [
            [
             0,
             "rgb(2,4,25)"
            ],
            [
             0.06274509803921569,
             "rgb(24,15,41)"
            ],
            [
             0.12549019607843137,
             "rgb(47,23,57)"
            ],
            [
             0.18823529411764706,
             "rgb(71,28,72)"
            ],
            [
             0.25098039215686274,
             "rgb(97,30,82)"
            ],
            [
             0.3137254901960784,
             "rgb(123,30,89)"
            ],
            [
             0.3764705882352941,
             "rgb(150,27,91)"
            ],
            [
             0.4392156862745098,
             "rgb(177,22,88)"
            ],
            [
             0.5019607843137255,
             "rgb(203,26,79)"
            ],
            [
             0.5647058823529412,
             "rgb(223,47,67)"
            ],
            [
             0.6274509803921569,
             "rgb(236,76,61)"
            ],
            [
             0.6901960784313725,
             "rgb(242,107,73)"
            ],
            [
             0.7529411764705882,
             "rgb(244,135,95)"
            ],
            [
             0.8156862745098039,
             "rgb(245,162,122)"
            ],
            [
             0.8784313725490196,
             "rgb(246,188,153)"
            ],
            [
             0.9411764705882353,
             "rgb(247,212,187)"
            ],
            [
             1,
             "rgb(250,234,220)"
            ]
           ]
          },
          "colorway": [
           "rgb(76,114,176)",
           "rgb(221,132,82)",
           "rgb(85,168,104)",
           "rgb(196,78,82)",
           "rgb(129,114,179)",
           "rgb(147,120,96)",
           "rgb(218,139,195)",
           "rgb(140,140,140)",
           "rgb(204,185,116)",
           "rgb(100,181,205)"
          ],
          "font": {
           "color": "rgb(36,36,36)"
          },
          "geo": {
           "bgcolor": "white",
           "lakecolor": "white",
           "landcolor": "rgb(234,234,242)",
           "showlakes": true,
           "showland": true,
           "subunitcolor": "white"
          },
          "hoverlabel": {
           "align": "left"
          },
          "hovermode": "closest",
          "paper_bgcolor": "white",
          "plot_bgcolor": "rgb(234,234,242)",
          "polar": {
           "angularaxis": {
            "gridcolor": "white",
            "linecolor": "white",
            "showgrid": true,
            "ticks": ""
           },
           "bgcolor": "rgb(234,234,242)",
           "radialaxis": {
            "gridcolor": "white",
            "linecolor": "white",
            "showgrid": true,
            "ticks": ""
           }
          },
          "scene": {
           "xaxis": {
            "backgroundcolor": "rgb(234,234,242)",
            "gridcolor": "white",
            "gridwidth": 2,
            "linecolor": "white",
            "showbackground": true,
            "showgrid": true,
            "ticks": "",
            "zerolinecolor": "white"
           },
           "yaxis": {
            "backgroundcolor": "rgb(234,234,242)",
            "gridcolor": "white",
            "gridwidth": 2,
            "linecolor": "white",
            "showbackground": true,
            "showgrid": true,
            "ticks": "",
            "zerolinecolor": "white"
           },
           "zaxis": {
            "backgroundcolor": "rgb(234,234,242)",
            "gridcolor": "white",
            "gridwidth": 2,
            "linecolor": "white",
            "showbackground": true,
            "showgrid": true,
            "ticks": "",
            "zerolinecolor": "white"
           }
          },
          "shapedefaults": {
           "fillcolor": "rgb(67,103,167)",
           "line": {
            "width": 0
           },
           "opacity": 0.5
          },
          "ternary": {
           "aaxis": {
            "gridcolor": "white",
            "linecolor": "white",
            "showgrid": true,
            "ticks": ""
           },
           "baxis": {
            "gridcolor": "white",
            "linecolor": "white",
            "showgrid": true,
            "ticks": ""
           },
           "bgcolor": "rgb(234,234,242)",
           "caxis": {
            "gridcolor": "white",
            "linecolor": "white",
            "showgrid": true,
            "ticks": ""
           }
          },
          "xaxis": {
           "automargin": true,
           "gridcolor": "white",
           "linecolor": "white",
           "showgrid": true,
           "ticks": "",
           "title": {
            "standoff": 15
           },
           "zerolinecolor": "white"
          },
          "yaxis": {
           "automargin": true,
           "gridcolor": "white",
           "linecolor": "white",
           "showgrid": true,
           "ticks": "",
           "title": {
            "standoff": 15
           },
           "zerolinecolor": "white"
          }
         }
        },
        "xaxis": {
         "anchor": "y",
         "autorange": true,
         "domain": [
          0,
          0.14666666666666667
         ],
         "range": [
          0,
          100
         ],
         "title": {
          "text": "timestep"
         },
         "type": "linear"
        },
        "xaxis10": {
         "anchor": "y10",
         "autorange": true,
         "domain": [
          0.5,
          0.6466666666666667
         ],
         "matches": "x",
         "range": [
          0,
          100
         ],
         "showticklabels": false,
         "type": "linear"
        },
        "xaxis11": {
         "anchor": "y11",
         "autorange": true,
         "domain": [
          0.6666666666666666,
          0.8133333333333332
         ],
         "matches": "x",
         "range": [
          0,
          100
         ],
         "showticklabels": false,
         "type": "linear"
        },
        "xaxis12": {
         "anchor": "y12",
         "autorange": true,
         "domain": [
          0.8333333333333334,
          0.98
         ],
         "matches": "x",
         "range": [
          0,
          100
         ],
         "showticklabels": false,
         "type": "linear"
        },
        "xaxis2": {
         "anchor": "y2",
         "autorange": true,
         "domain": [
          0.16666666666666666,
          0.31333333333333335
         ],
         "matches": "x",
         "range": [
          0,
          100
         ],
         "title": {
          "text": "timestep"
         },
         "type": "linear"
        },
        "xaxis3": {
         "anchor": "y3",
         "autorange": true,
         "domain": [
          0.3333333333333333,
          0.48
         ],
         "matches": "x",
         "range": [
          0,
          100
         ],
         "title": {
          "text": "timestep"
         },
         "type": "linear"
        },
        "xaxis4": {
         "anchor": "y4",
         "autorange": true,
         "domain": [
          0.5,
          0.6466666666666667
         ],
         "matches": "x",
         "range": [
          0,
          100
         ],
         "title": {
          "text": "timestep"
         },
         "type": "linear"
        },
        "xaxis5": {
         "anchor": "y5",
         "autorange": true,
         "domain": [
          0.6666666666666666,
          0.8133333333333332
         ],
         "matches": "x",
         "range": [
          0,
          100
         ],
         "title": {
          "text": "timestep"
         },
         "type": "linear"
        },
        "xaxis6": {
         "anchor": "y6",
         "autorange": true,
         "domain": [
          0.8333333333333334,
          0.98
         ],
         "matches": "x",
         "range": [
          0,
          100
         ],
         "title": {
          "text": "timestep"
         },
         "type": "linear"
        },
        "xaxis7": {
         "anchor": "y7",
         "autorange": true,
         "domain": [
          0,
          0.14666666666666667
         ],
         "matches": "x",
         "range": [
          0,
          100
         ],
         "showticklabels": false,
         "type": "linear"
        },
        "xaxis8": {
         "anchor": "y8",
         "autorange": true,
         "domain": [
          0.16666666666666666,
          0.31333333333333335
         ],
         "matches": "x",
         "range": [
          0,
          100
         ],
         "showticklabels": false,
         "type": "linear"
        },
        "xaxis9": {
         "anchor": "y9",
         "autorange": true,
         "domain": [
          0.3333333333333333,
          0.48
         ],
         "matches": "x",
         "range": [
          0,
          100
         ],
         "showticklabels": false,
         "type": "linear"
        },
        "yaxis": {
         "anchor": "x",
         "autorange": true,
         "domain": [
          0,
          0.485
         ],
         "range": [
          -0.0552791597567717,
          1.0503040353786623
         ],
         "title": {
          "text": "value"
         },
         "type": "linear"
        },
        "yaxis10": {
         "anchor": "x10",
         "autorange": true,
         "domain": [
          0.515,
          1
         ],
         "matches": "y",
         "range": [
          -0.0552791597567717,
          1.0503040353786623
         ],
         "showticklabels": false,
         "type": "linear"
        },
        "yaxis11": {
         "anchor": "x11",
         "autorange": true,
         "domain": [
          0.515,
          1
         ],
         "matches": "y",
         "range": [
          -0.0552791597567717,
          1.0503040353786623
         ],
         "showticklabels": false,
         "type": "linear"
        },
        "yaxis12": {
         "anchor": "x12",
         "autorange": true,
         "domain": [
          0.515,
          1
         ],
         "matches": "y",
         "range": [
          -0.0552791597567717,
          1.0503040353786623
         ],
         "showticklabels": false,
         "type": "linear"
        },
        "yaxis2": {
         "anchor": "x2",
         "autorange": true,
         "domain": [
          0,
          0.485
         ],
         "matches": "y",
         "range": [
          -0.0552791597567717,
          1.0503040353786623
         ],
         "showticklabels": false,
         "type": "linear"
        },
        "yaxis3": {
         "anchor": "x3",
         "autorange": true,
         "domain": [
          0,
          0.485
         ],
         "matches": "y",
         "range": [
          -0.0552791597567717,
          1.0503040353786623
         ],
         "showticklabels": false,
         "type": "linear"
        },
        "yaxis4": {
         "anchor": "x4",
         "autorange": true,
         "domain": [
          0,
          0.485
         ],
         "matches": "y",
         "range": [
          -0.0552791597567717,
          1.0503040353786623
         ],
         "showticklabels": false,
         "type": "linear"
        },
        "yaxis5": {
         "anchor": "x5",
         "autorange": true,
         "domain": [
          0,
          0.485
         ],
         "matches": "y",
         "range": [
          -0.0552791597567717,
          1.0503040353786623
         ],
         "showticklabels": false,
         "type": "linear"
        },
        "yaxis6": {
         "anchor": "x6",
         "autorange": true,
         "domain": [
          0,
          0.485
         ],
         "matches": "y",
         "range": [
          -0.0552791597567717,
          1.0503040353786623
         ],
         "showticklabels": false,
         "type": "linear"
        },
        "yaxis7": {
         "anchor": "x7",
         "autorange": true,
         "domain": [
          0.515,
          1
         ],
         "matches": "y",
         "range": [
          -0.0552791597567717,
          1.0503040353786623
         ],
         "title": {
          "text": "value"
         },
         "type": "linear"
        },
        "yaxis8": {
         "anchor": "x8",
         "autorange": true,
         "domain": [
          0.515,
          1
         ],
         "matches": "y",
         "range": [
          -0.0552791597567717,
          1.0503040353786623
         ],
         "showticklabels": false,
         "type": "linear"
        },
        "yaxis9": {
         "anchor": "x9",
         "autorange": true,
         "domain": [
          0.515,
          1
         ],
         "matches": "y",
         "range": [
          -0.0552791597567717,
          1.0503040353786623
         ],
         "showticklabels": false,
         "type": "linear"
        }
       }
      },
      "image/png": "[encoded data removed]",
      "text/html": [
       "<div>                            <div id=\"595dc82c-5d4a-4350-b08b-f2a20602b771\" class=\"plotly-graph-div\" style=\"height:800px; width:100%;\"></div>            <script type=\"text/javascript\">                require([\"plotly\"], function(Plotly) {                    window.PLOTLYENV=window.PLOTLYENV || {};                                    if (document.getElementById(\"595dc82c-5d4a-4350-b08b-f2a20602b771\")) {                    Plotly.newPlot(                        \"595dc82c-5d4a-4350-b08b-f2a20602b771\",                        [{\"hovertemplate\": \"variable=failure_rate<br>simulation=0<br>run=1<br>timestep=%{x}<br>value=%{y}<extra></extra>\", \"legendgroup\": \"failure_rate\", \"line\": {\"color\": \"rgb(76,114,176)\", \"dash\": \"solid\"}, \"mode\": \"lines\", \"name\": \"failure_rate\", \"showlegend\": true, \"type\": \"scattergl\", \"x\": [0, 1, 2, 3, 4, 5, 6, 7, 8, 9, 10, 11, 12, 13, 14, 15, 16, 17, 18, 19, 20, 21, 22, 23, 24, 25, 26, 27, 28, 29, 30, 31, 32, 33, 34, 35, 36, 37, 38, 39, 40, 41, 42, 43, 44, 45, 46, 47, 48, 49, 50, 51, 52, 53, 54, 55, 56, 57, 58, 59, 60, 61, 62, 63, 64, 65, 66, 67, 68, 69, 70, 71, 72, 73, 74, 75, 76, 77, 78, 79, 80, 81, 82, 83, 84, 85, 86, 87, 88, 89, 90, 91, 92, 93, 94, 95, 96, 97, 98, 99, 100], \"xaxis\": \"x7\", \"y\": [0.0, 0.0, 0.0, 0.9950248756218906, 0.9950248756218906, 0.9950248756218906, 0.9950248756218906, 0.9950248756218906, 0.9950248756218906, 0.9950248756218906, 0.9950248756218906, 0.9950248756218906, 0.9950248756218906, 0.9950248756218906, 0.9950248756218906, 0.9950248756218906, 0.9950248756218906, 0.9950248756218906, 0.9950248756218906, 0.9950248756218906, 0.9950248756218906, 0.9950248756218906, 0.9950248756218906, 0.9950248756218906, 0.9950248756218906, 0.9950248756218906, 0.9950248756218906, 0.9950248756218906, 0.9950248756218906, 0.9950248756218906, 0.9950248756218906, 0.9950248756218906, 0.9950248756218906, 0.9950248756218906, 0.9950248756218906, 0.9950248756218906, 0.9950248756218906, 0.9950248756218906, 0.9950248756218906, 0.9950248756218906, 0.9950248756218906, 0.9950248756218906, 0.9950248756218906, 0.9950248756218906, 0.9950248756218906, 0.9950248756218906, 0.9950248756218906, 0.9950248756218906, 0.9950248756218906, 0.9950248756218906, 0.9950248756218906, 0.9950248756218906, 0.9950248756218906, 0.9950248756218906, 0.9950248756218906, 0.9950248756218906, 0.9950248756218906, 0.9950248756218906, 0.9950248756218906, 0.9950248756218906, 0.9950248756218906, 0.9950248756218906, 0.9950248756218906, 0.9950248756218906, 0.9950248756218906, 0.9950248756218906, 0.9950248756218906, 0.9950248756218906, 0.9950248756218906, 0.9950248756218906, 0.9950248756218906, 0.9950248756218906, 0.9950248756218906, 0.9950248756218906, 0.9950248756218906, 0.9950248756218906, 0.9950248756218906, 0.9950248756218906, 0.9950248756218906, 0.9950248756218906, 0.9950248756218906, 0.9950248756218906, 0.9950248756218906, 0.9950248756218906, 0.9950248756218906, 0.9950248756218906, 0.9950248756218906, 0.9950248756218906, 0.9950248756218906, 0.9950248756218906, 0.9950248756218906, 0.9950248756218906, 0.9950248756218906, 0.9950248756218906, 0.9950248756218906, 0.9950248756218906, 0.9950248756218906, 0.9950248756218906, 0.9950248756218906, 0.9950248756218906, 0.9950248756218906], \"yaxis\": \"y7\"}, {\"hovertemplate\": \"variable=failure_rate<br>simulation=0<br>run=2<br>timestep=%{x}<br>value=%{y}<extra></extra>\", \"legendgroup\": \"failure_rate\", \"line\": {\"color\": \"rgb(76,114,176)\", \"dash\": \"solid\"}, \"mode\": \"lines\", \"name\": \"failure_rate\", \"showlegend\": false, \"type\": \"scattergl\", \"x\": [0, 1, 2, 3, 4, 5, 6, 7, 8, 9, 10, 11, 12, 13, 14, 15, 16, 17, 18, 19, 20, 21, 22, 23, 24, 25, 26, 27, 28, 29, 30, 31, 32, 33, 34, 35, 36, 37, 38, 39, 40, 41, 42, 43, 44, 45, 46, 47, 48, 49, 50, 51, 52, 53, 54, 55, 56, 57, 58, 59, 60, 61, 62, 63, 64, 65, 66, 67, 68, 69, 70, 71, 72, 73, 74, 75, 76, 77, 78, 79, 80, 81, 82, 83, 84, 85, 86, 87, 88, 89, 90, 91, 92, 93, 94, 95, 96, 97, 98, 99, 100], \"xaxis\": \"x8\", \"y\": [0.0, 0.0, 0.0, 0.6688963210702341, 0.7528230865746549, 0.8032128514056225, 0.8368200836820083, 0.8608321377331422, 0.8788449466415568, 0.8928571428571429, 0.9040683073832245, 0.91324200913242, 0.9208874005860193, 0.9273570324574961, 0.932902762827413, 0.9377093101138647, 0.9419152276295133, 0.9456264775413712, 0.948925481440134, 0.9518773135906927, 0.9545340366742024, 0.9569377990430622, 0.9591230874628911, 0.9611183923110529, 0.9629474565626963, 0.9646302250803858, 0.966183574879227, 0.9676218831410496, 0.968957473533106, 0.9702009702009702, 0.971361580974711, 0.9724473257698542, 0.9734652221698854, 0.97442143727162, 0.9753214127382888, 0.9761699684180305, 0.9769713886950453, 0.977729494839761, 0.9784477059367975, 0.979129090440608, 0.9797764099987438, 0.9803921568627451, 0.9809785859552578, 0.9815377424631924, 0.982071485668608, 0.9825815096025011, 0.9830693610049153, 0.9835364549925165, 0.9839840887679263, 0.9844134536505332, 0.9848256456637523, 0.9852216748768473, 0.9856024736689536, 0.9859689040576413, 0.9863217642132688, 0.9866617942627445, 0.9869896814715119, 0.9873060648801127, 0.9876115394611453, 0.9879066598535173, 0.9881919437233062, 0.9884678747940692, 0.9887349055839209, 0.9889934598819589, 0.9892439349925415, 0.9894867037724181, 0.9897221164826799, 0.9899505024748763, 0.9901721717283677, 0.9903874162540053, 0.9905965113775034, 0.9907997169143665, 0.9909972782469118, 0.9911894273127754, 0.991376383513275, 0.9915583545491089, 0.9917355371900827, 0.9919081179848604, 0.9920762739161244, 0.9922401730059789, 0.99239997487595, 0.9925558312655087, 0.992707886512654, 0.9928562779997578, 0.9930011365675661, 0.9931425868999764, 0.993280747881975, 0.9934157329328867, 0.9935476503169074, 0.9936766034327009, 0.9938026910836917, 0.9939260077305356, 0.9940466437271288, 0.9941646855413876, 0.9942802159619394, 0.9943933142917593, 0.9945040565297043, 0.9946125155408205, 0.9947187612162232, 0.9948228606232871, 0.9949248781468268], \"yaxis\": \"y8\"}, {\"hovertemplate\": \"variable=failure_rate<br>simulation=0<br>run=3<br>timestep=%{x}<br>value=%{y}<extra></extra>\", \"legendgroup\": \"failure_rate\", \"line\": {\"color\": \"rgb(76,114,176)\", \"dash\": \"solid\"}, \"mode\": \"lines\", \"name\": \"failure_rate\", \"showlegend\": false, \"type\": \"scattergl\", \"x\": [0, 1, 2, 3, 4, 5, 6, 7, 8, 9, 10, 11, 12, 13, 14, 15, 16, 17, 18, 19, 20, 21, 22, 23, 24, 25, 26, 27, 28, 29, 30, 31, 32, 33, 34, 35, 36, 37, 38, 39, 40, 41, 42, 43, 44, 45, 46, 47, 48, 49, 50, 51, 52, 53, 54, 55, 56, 57, 58, 59, 60, 61, 62, 63, 64, 65, 66, 67, 68, 69, 70, 71, 72, 73, 74, 75, 76, 77, 78, 79, 80, 81, 82, 83, 84, 85, 86, 87, 88, 89, 90, 91, 92, 93, 94, 95, 96, 97, 98, 99, 100], \"xaxis\": \"x9\", \"y\": [0.0, 0.0, 0.0, 0.019998000199980007, 0.0443251495973799, 0.07689350249903881, 0.11621150493898896, 0.16058524400035687, 0.20829348126421388, 0.25773195876288657, 0.3075112469391242, 0.35650623885918004, 0.4038650890338946, 0.44898977301072585, 0.49150053076240746, 0.5311941026613909, 0.5680025244556642, 0.6019563581640331, 0.6331540492282751, 0.6617376741146195, 0.6878745438782025, 0.7117437722419929, 0.7335268336091684, 0.7534012017060491, 0.771536290646034, 0.788091068301226, 0.8032128514056225, 0.8170369116971645, 0.8296866197383472, 0.841273929092626, 0.8519000612841304, 0.861656294877932, 0.8706247933285317, 0.8788794287283713, 0.8864865744905145, 0.8935058510720524, 0.8999908164202406, 0.9059895978972093, 0.9115454657438018, 0.916697350211399, 0.9214803057060896, 0.9259259259259259, 0.9300627142228776, 0.9339164134221366, 0.9375102991768264, 0.9408654406904864, 0.9440009323465999, 0.9469340994728316, 0.9496806811562115, 0.9522549927258299, 0.954670070238429, 0.9569377990430622, 0.9590690282650659, 0.9610736728368734, 0.9629608045127861, 0.9647387331352685, 0.9664150792699973, 0.9679968391939945, 0.9694904431039807, 0.9709018073088934, 0.972236381079794, 0.973499188750676, 0.9746948675936876, 0.9758277019308391, 0.9769016538903158, 0.9779203911681564, 0.9788873121144546, 0.9798055684266878, 0.9806780857006474, 0.9815075820611658, 0.9822965850699584, 0.9830474470859665, 0.9837623592342617, 0.9844433641225084, 0.9850923674289164, 0.9857111484722917, 0.9863013698630138, 0.9868645863233143, 0.9874022527559915, 0.9879157316324642, 0.9884062997637866, 0.9888751545117429, 0.9893234194913753, 0.9897521498111465, 0.9901623368923506, 0.9905549129052909, 0.990930754856075, 0.9912906883546129, 0.9916354910914607, 0.9919658960485326, 0.9922825944663427, 0.9925862385883218, 0.9928774442008512, 0.9931567929859475, 0.9934248347019868, 0.9936820892064713, 0.9939290483335858, 0.994166177638165, 0.9943939180166655, 0.9946126872148152, 0.9948228812307749], \"yaxis\": \"y9\"}, {\"hovertemplate\": \"variable=failure_rate<br>simulation=0<br>run=4<br>timestep=%{x}<br>value=%{y}<extra></extra>\", \"legendgroup\": \"failure_rate\", \"line\": {\"color\": \"rgb(76,114,176)\", \"dash\": \"solid\"}, \"mode\": \"lines\", \"name\": \"failure_rate\", \"showlegend\": false, \"type\": \"scattergl\", \"x\": [0, 1, 2, 3, 4, 5, 6, 7, 8, 9, 10, 11, 12, 13, 14, 15, 16, 17, 18, 19, 20, 21, 22, 23, 24, 25, 26, 27, 28, 29, 30, 31, 32, 33, 34, 35, 36, 37, 38, 39, 40, 41, 42, 43, 44, 45, 46, 47, 48, 49, 50, 51, 52, 53, 54, 55, 56, 57, 58, 59, 60, 61, 62, 63, 64, 65, 66, 67, 68, 69, 70, 71, 72, 73, 74, 75, 76, 77, 78, 79, 80, 81, 82, 83, 84, 85, 86, 87, 88, 89, 90, 91, 92, 93, 94, 95, 96, 97, 98, 99, 100], \"xaxis\": \"x10\", \"y\": [0.0, 0.0, 0.0, 0.0002060795528898021, 0.0007058110337347613, 0.0016970869502498957, 0.0033602715099380026, 0.005881885209563946, 0.009452086258692025, 0.014261266400456359, 0.020495746851379552, 0.028332625017707887, 0.03793390465992795, 0.049440136235042065, 0.06296389119713501, 0.078583481202396, 0.09633739496547912, 0.11621994624827485, 0.13817859351179365, 0.16211329918354048, 0.18787814791425533, 0.2152852529601722, 0.24411077162173403, 0.27410265360611796, 0.3049895890687038, 0.3364905284147557, 0.3683241252302026, 0.4002175055537694, 0.4319138779131777, 0.46317864786944574, 0.493803863956013, 0.5236109764375061, 0.5524520192797243, 0.5802094193372921, 0.6067946923489111, 0.6321463059070875, 0.6562269818341832, 0.6790206826533036, 0.7005294873292232, 0.7207705172387521, 0.739773029767699, 0.7575757575757576, 0.774224538371666, 0.7897702536926939, 0.80426707550184, 0.817771005686304, 0.8303386847845277, 0.8420264414434521, 0.8528895522282616, 0.8629816816156936, 0.8723544735944806, 0.8810572687224669, 0.889136923339313, 0.8966377106149743, 0.9036012860311673, 0.9100667026230015, 0.9160704637821804, 0.92164660361135, 0.9268267867169591, 0.9316404209476039, 0.9361147779482135, 0.9402751175343897, 0.9441448128241572, 0.9477454738242218, 0.9510970677806763, 0.9542180350936047, 0.9571253999821383, 0.9598348753893312, 0.9623609618502847, 0.9647170402253428, 0.9669154583338477, 0.9689676116219613, 0.9708840180678702, 0.9726743875753856, 0.9743476861374529, 0.9759121950683806, 0.9773755656108598, 0.978744869223618, 0.9800266438498323, 0.981226936456793, 0.9823513421250012, 0.9834050399508297, 0.9843928260118313, 0.9853191436282679, 0.98618811113889, 0.9870035473937021, 0.9877689951516284, 0.9884877425567987, 0.9891628428536768, 0.9897971324885478, 0.9903932477329481, 0.9909536399535108, 0.9914805896423565, 0.9919762193125956, 0.992442505354667, 0.9928812889410976, 0.9932942860597759, 0.9936830967489656, 0.99404921360098, 0.9943940295956661, 0.9947188453195788], \"yaxis\": \"y10\"}, {\"hovertemplate\": \"variable=failure_rate<br>simulation=0<br>run=5<br>timestep=%{x}<br>value=%{y}<extra></extra>\", \"legendgroup\": \"failure_rate\", \"line\": {\"color\": \"rgb(76,114,176)\", \"dash\": \"solid\"}, \"mode\": \"lines\", \"name\": \"failure_rate\", \"showlegend\": false, \"type\": \"scattergl\", \"x\": [0, 1, 2, 3, 4, 5, 6, 7, 8, 9, 10, 11, 12, 13, 14, 15, 16, 17, 18, 19, 20, 21, 22, 23, 24, 25, 26, 27, 28, 29, 30, 31, 32, 33, 34, 35, 36, 37, 38, 39, 40, 41, 42, 43, 44, 45, 46, 47, 48, 49, 50, 51, 52, 53, 54, 55, 56, 57, 58, 59, 60, 61, 62, 63, 64, 65, 66, 67, 68, 69, 70, 71, 72, 73, 74, 75, 76, 77, 78, 79, 80, 81, 82, 83, 84, 85, 86, 87, 88, 89, 90, 91, 92, 93, 94, 95, 96, 97, 98, 99, 100], \"xaxis\": \"x11\", \"y\": [0.0, 0.0, 0.0, 2.0820363764859356e-06, 1.0755867378272286e-05, 3.4692101527822796e-05, 8.644383463121546e-05, 0.00018295682418846424, 0.0003459733440968075, 0.0006024531893871845, 0.0009850053089211417, 0.0015323204695029916, 0.002289591597058407, 0.0033089039541606496, 0.004649572095904574, 0.006378394663794114, 0.00856979169587185, 0.011305782554470905, 0.01467575628292517, 0.018775980898694682, 0.0237087947567755, 0.029581422866439867, 0.0365043653195518, 0.044589315305496424, 0.05394658199584504, 0.06468201999552814, 0.07689350249903881, 0.09066701907897758, 0.10607252898509383, 0.12315975297262045, 0.14195413521723002, 0.16245324455230098, 0.18462390318740185, 0.20840032399737868, 0.23368349942944372, 0.2603420149279982, 0.2882143613819165, 0.317112703575505, 0.3468279384630306, 0.377135764114618, 0.4078033927429951, 0.43859649122807015, 0.4692859261625533, 0.4996539269486746, 0.5294993527391924, 0.5586418451778745, 0.5869247549224613, 0.6142168322751442, 0.6404127599872319, 0.6654326724361458, 0.689220847080334, 0.7117437722419929, 0.7329877933622058, 0.7529565228968145, 0.7716681723360015, 0.789152933367658, 0.8054505029733341, 0.8206078171353576, 0.8346770316390969, 0.8477137670370489, 0.859775618354179, 0.8709209182302027, 0.8812077343098487, 0.8906930770817629, 0.8994322922961346, 0.9074786118856214, 0.9148828383950968, 0.9216931398235845, 0.927954934133473, 0.9337108452201077, 0.939000714671754, 0.9438616560624733, 0.9483281407346464, 0.9524321060057951, 0.9562030784635576, 0.9596683064976961, 0.962852897473997, 0.9657799560029541, 0.968470720619939, 0.9709446968973199, 0.9732197855759129, 0.975312404754648, 0.9772376055325908, 0.9790091807733475, 0.9806397668729102, 0.9821409385705262, 0.9835232969585979, 0.9847965509305464, 0.9859695923621591, 0.9870505653579702, 0.9880469299144536, 0.988965520360013, 0.989812598930991, 0.9905939048356077, 0.9913146991457547, 0.9919798058414316, 0.9925936493154397, 0.9931602886276297, 0.9936834487792113, 0.9941665492588447, 0.9946127300938263], \"yaxis\": \"y11\"}, {\"hovertemplate\": \"variable=failure_rate<br>simulation=0<br>run=6<br>timestep=%{x}<br>value=%{y}<extra></extra>\", \"legendgroup\": \"failure_rate\", \"line\": {\"color\": \"rgb(76,114,176)\", \"dash\": \"solid\"}, \"mode\": \"lines\", \"name\": \"failure_rate\", \"showlegend\": false, \"type\": \"scattergl\", \"x\": [0, 1, 2, 3, 4, 5, 6, 7, 8, 9, 10, 11, 12, 13, 14, 15, 16, 17, 18, 19, 20, 21, 22, 23, 24, 25, 26, 27, 28, 29, 30, 31, 32, 33, 34, 35, 36, 37, 38, 39, 40, 41, 42, 43, 44, 45, 46, 47, 48, 49, 50, 51, 52, 53, 54, 55, 56, 57, 58, 59, 60, 61, 62, 63, 64, 65, 66, 67, 68, 69, 70, 71, 72, 73, 74, 75, 76, 77, 78, 79, 80, 81, 82, 83, 84, 85, 86, 87, 88, 89, 90, 91, 92, 93, 94, 95, 96, 97, 98, 99, 100], \"xaxis\": \"x12\", \"y\": [0.0, 0.0, 0.0, 2.103071381397608e-08, 1.637966696406927e-07, 7.08026133626926e-07, 2.2166952866042364e-06, 5.6594618934000845e-06, 1.2552441302358176e-05, 2.5116717385691302e-05, 4.6457467305457736e-05, 8.076569105750152e-05, 0.00013354462072921313, 0.00021186292257918058, 0.0003246367737404298, 0.00048294276352144554, 0.0007003632968878783, 0.00099336571395134, 0.0013817156208335301, 0.0018889238766558322, 0.00254272520598819, 0.0033755843980489116, 0.004425223392066353, 0.005735159102578907, 0.007355237479429439, 0.009342143910536858, 0.011759863585582404, 0.014680057842265917, 0.01818231392889222, 0.022354216330464624, 0.02729117836150749, 0.033095963994859916, 0.03987782313758452, 0.04775116049542761, 0.05683366093916695, 0.06724380539494472, 0.07909773332778312, 0.09250544316806791, 0.10756637192681684, 0.12436445945376838, 0.14296287848999145, 0.16339869281045752, 0.18567778279246666, 0.20977043807956577, 0.23560804642944078, 0.26308129302778704, 0.29204021637455435, 0.3222963436684519, 0.35362695870889893, 0.38578135732427676, 0.4184887459768333, 0.4514672686230248, 0.48443353235382597, 0.5171119620105372, 0.5492433529229896, 0.5805921001624252, 0.6109517417697335, 0.6401486354515968, 0.668043765998294, 0.6945328317906792, 0.7195448689644929, 0.7430397358080939, 0.7650048003322408, 0.7854511586417511, 0.804409671401422, 0.8219270512150502, 0.8380621745739895, 0.8528827352965719, 0.8664623066564691, 0.8788778390060032, 0.8902075891997557, 0.9005294568827384, 0.9099196894137809, 0.9184519102567852, 0.9261964234949854, 0.9332197482733948, 0.9395843402609957, 0.9453484617171639, 0.9505661667616426, 0.9552873735095095, 0.9595579995359549, 0.9634201415023332, 0.9669122836193216, 0.970069522922781, 0.9729238021113655, 0.9755041429841413, 0.977836875375599, 0.9799458579725209, 0.9818526885692356, 0.9835769022277496, 0.9851361565043968, 0.9865464034261223, 0.9878220482822887, 0.9889760955712161, 0.9900202826286568, 0.9909652015876718, 0.9918204103917064, 0.9925945336176517, 0.9932953538732251, 0.9939298945208918, 0.994504494454745], \"yaxis\": \"y12\"}, {\"hovertemplate\": \"variable=failure_rate<br>simulation=1<br>run=1<br>timestep=%{x}<br>value=%{y}<extra></extra>\", \"legendgroup\": \"failure_rate\", \"line\": {\"color\": \"rgb(76,114,176)\", \"dash\": \"solid\"}, \"mode\": \"lines\", \"name\": \"failure_rate\", \"showlegend\": false, \"type\": \"scattergl\", \"x\": [0, 1, 2, 3, 4, 5, 6, 7, 8, 9, 10, 11, 12, 13, 14, 15, 16, 17, 18, 19, 20, 21, 22, 23, 24, 25, 26, 27, 28, 29, 30, 31, 32, 33, 34, 35, 36, 37, 38, 39, 40, 41, 42, 43, 44, 45, 46, 47, 48, 49, 50, 51, 52, 53, 54, 55, 56, 57, 58, 59, 60, 61, 62, 63, 64, 65, 66, 67, 68, 69, 70, 71, 72, 73, 74, 75, 76, 77, 78, 79, 80, 81, 82, 83, 84, 85, 86, 87, 88, 89, 90, 91, 92, 93, 94, 95, 96, 97, 98, 99, 100], \"xaxis\": \"x\", \"y\": [0.0, 0.0, 0.0, 2.103071381397608e-08, 1.637966696406927e-07, 7.08026133626926e-07, 2.2166952866042364e-06, 5.6594618934000845e-06, 1.2552441302358176e-05, 2.5116717385691302e-05, 4.6457467305457736e-05, 8.076569105750152e-05, 0.00013354462072921313, 0.00021186292257918058, 0.0003246367737404298, 0.00048294276352144554, 0.0007003632968878783, 0.00099336571395134, 0.0013817156208335301, 0.0018889238766558322, 0.00254272520598819, 0.0033755843980489116, 0.004425223392066353, 0.005735159102578907, 0.007355237479429439, 0.009342143910536858, 0.011759863585582404, 0.014680057842265917, 0.01818231392889222, 0.022354216330464624, 0.02729117836150749, 0.033095963994859916, 0.03987782313758452, 0.04775116049542761, 0.05683366093916695, 0.06724380539494472, 0.07909773332778312, 0.09250544316806791, 0.10756637192681684, 0.12436445945376838, 0.14296287848999145, 0.16339869281045752, 0.18567778279246666, 0.20977043807956577, 0.23560804642944078, 0.26308129302778704, 0.29204021637455435, 0.3222963436684519, 0.35362695870889893, 0.38578135732427676, 0.4184887459768333, 0.4514672686230248, 0.48443353235382597, 0.5171119620105372, 0.5492433529229896, 0.5805921001624252, 0.6109517417697335, 0.6401486354515968, 0.668043765998294, 0.6945328317906792, 0.7195448689644929, 0.7430397358080939, 0.7650048003322408, 0.7854511586417511, 0.804409671401422, 0.8219270512150502, 0.8380621745739895, 0.8528827352965719, 0.8664623066564691, 0.8788778390060032, 0.8902075891997557, 0.9005294568827384, 0.9099196894137809, 0.9184519102567852, 0.9261964234949854, 0.9332197482733948, 0.9395843402609957, 0.9453484617171639, 0.9505661667616426, 0.9552873735095095, 0.9595579995359549, 0.9634201415023332, 0.9669122836193216, 0.970069522922781, 0.9729238021113655, 0.9755041429841413, 0.977836875375599, 0.9799458579725209, 0.9818526885692356, 0.9835769022277496, 0.9851361565043968, 0.9865464034261223, 0.9878220482822887, 0.9889760955712161, 0.9900202826286568, 0.9909652015876718, 0.9918204103917064, 0.9925945336176517, 0.9932953538732251, 0.9939298945208918, 0.994504494454745], \"yaxis\": \"y\"}, {\"hovertemplate\": \"variable=failure_rate<br>simulation=1<br>run=2<br>timestep=%{x}<br>value=%{y}<extra></extra>\", \"legendgroup\": \"failure_rate\", \"line\": {\"color\": \"rgb(76,114,176)\", \"dash\": \"solid\"}, \"mode\": \"lines\", \"name\": \"failure_rate\", \"showlegend\": false, \"type\": \"scattergl\", \"x\": [0, 1, 2, 3, 4, 5, 6, 7, 8, 9, 10, 11, 12, 13, 14, 15, 16, 17, 18, 19, 20, 21, 22, 23, 24, 25, 26, 27, 28, 29, 30, 31, 32, 33, 34, 35, 36, 37, 38, 39, 40, 41, 42, 43, 44, 45, 46, 47, 48, 49, 50, 51, 52, 53, 54, 55, 56, 57, 58, 59, 60, 61, 62, 63, 64, 65, 66, 67, 68, 69, 70, 71, 72, 73, 74, 75, 76, 77, 78, 79, 80, 81, 82, 83, 84, 85, 86, 87, 88, 89, 90, 91, 92, 93, 94, 95, 96, 97, 98, 99, 100], \"xaxis\": \"x2\", \"y\": [0.0, 0.0, 0.0, 2.1243145708888313e-10, 2.4943659298702106e-09, 1.4449522953013055e-08, 5.6838463445109965e-08, 1.750358638910063e-07, 4.55275399339919e-07, 1.0465550818475143e-06, 2.189192230034209e-06, 4.251151121386709e-06, 7.773415922985179e-06, 1.3525847984418143e-05, 2.2575151105027365e-05, 3.63667717054162e-05, 5.682278310221179e-05, 8.645804354268883e-05, 0.00012851717414876009, 0.0001871351712697001, 0.0002675247408943813, 0.0003761937096649805, 0.0005211961111206338, 0.0007124207431521853, 0.0009619211095437362, 0.0012842906483980043, 0.0016970869502498955, 0.002221308195125432, 0.0028819241815465847, 0.003708462941767168, 0.004735651861211987, 0.006004109232125083, 0.007561078018181269, 0.009461187999753443, 0.011767225098853685, 0.014550877244912195, 0.017893414387990497, 0.02188624607489788, 0.02663128349711777, 0.03224101461235844, 0.038838181937184676, 0.04655493482309125, 0.05553131441623496, 0.0659129242145759, 0.07784764752826684, 0.09148130147557143, 0.10695217180990436, 0.1243844590670822, 0.14388078623304046, 0.1655140676758344, 0.18931920666388694, 0.21528525296017217, 0.24334878217487937, 0.2733893187769981, 0.30522758076158096, 0.33862715369710583, 0.37329990518814427, 0.40891505658542704, 0.44511139430909635, 0.4815117041278437, 0.5177382246546093, 0.5534277981696646, 0.5882454692375474, 0.6218955249534732, 0.6541293310821763, 0.6847497234719332, 0.713612092536791, 0.7406225959934326, 0.7657341227888663, 0.7889407065170813, 0.8102710666468793, 0.8297818684878717, 0.8475511682389197, 0.8636723740486116, 0.878248927037958, 0.8913897992286786, 0.9032058231376799, 0.913806810422681, 0.9232993814124001, 0.9317854092678328, 0.9393609772911496, 0.9461157513489541, 0.9521326780841303, 0.9574879309654505, 0.9622510384462153, 0.9664851403910099, 0.9702473297920671, 0.9735890462945892, 0.9765564960811077, 0.9791910792733982, 0.9815298113241786, 0.9836057290557954, 0.9854482752351451, 0.9870836580217819, 0.9885351834416325, 0.9898235603538543, 0.9909671783039365, 0.9919823592831889, 0.9928835848166511, 0.9936837000363166, 0.9943940965098654], \"yaxis\": \"y2\"}, {\"hovertemplate\": \"variable=failure_rate<br>simulation=1<br>run=3<br>timestep=%{x}<br>value=%{y}<extra></extra>\", \"legendgroup\": \"failure_rate\", \"line\": {\"color\": \"rgb(76,114,176)\", \"dash\": \"solid\"}, \"mode\": \"lines\", \"name\": \"failure_rate\", \"showlegend\": false, \"type\": \"scattergl\", \"x\": [0, 1, 2, 3, 4, 5, 6, 7, 8, 9, 10, 11, 12, 13, 14, 15, 16, 17, 18, 19, 20, 21, 22, 23, 24, 25, 26, 27, 28, 29, 30, 31, 32, 33, 34, 35, 36, 37, 38, 39, 40, 41, 42, 43, 44, 45, 46, 47, 48, 49, 50, 51, 52, 53, 54, 55, 56, 57, 58, 59, 60, 61, 62, 63, 64, 65, 66, 67, 68, 69, 70, 71, 72, 73, 74, 75, 76, 77, 78, 79, 80, 81, 82, 83, 84, 85, 86, 87, 88, 89, 90, 91, 92, 93, 94, 95, 96, 97, 98, 99, 100], \"xaxis\": \"x3\", \"y\": [0.0, 0.0, 0.0, 2.145772294278328e-12, 3.798526806087294e-11, 2.948882277049138e-10, 1.4573965793047409e-09, 5.41348124477356e-09, 1.6512586495779658e-08, 4.3606505478730924e-08, 1.0315587000528365e-07, 2.2374569697729365e-07, 4.5242434475100917e-07, 8.633629313350653e-07, 1.5694284983969666e-06, 2.7373759483566172e-06, 4.607493266667936e-06, 7.5186842674236955e-06, 1.1940145846012177e-05, 1.851099554076499e-05, 2.8089433398744354e-05, 4.181328320199431e-05, 6.117405561427686e-05, 8.81070132275685e-05, 0.00012510009790368804, 0.0001753250064660214, 0.00024279417245427266, 0.0003325479276202394, 0.0004508766716164769, 0.0006055834606969135, 0.0008062930166355858, 0.001064813723948328, 0.0013955596785657689, 0.0018160402029136508, 0.002347424348125142, 0.0030151876193761705, 0.0038498472863449946, 0.0048877909097986595, 0.006172199774508127, 0.007754064314679567, 0.009693281785207205, 0.0120598166907863, 0.014934891060066858, 0.018412153725413292, 0.022598754587448703, 0.02761622091001177, 0.03360099806747308, 0.040704477919402404, 0.049092296787508385, 0.05894264685127101, 0.0704433177155483, 0.08378718056137407, 0.09916586075766104, 0.11676143333365736, 0.1367361355587527, 0.15922033190024573, 0.18429928469349824, 0.21199965249832628, 0.2422770024600229, 0.2750059004132688, 0.30997423448513856, 0.34688324531719505, 0.385354233025384, 0.4249421177883705, 0.4651550677711041, 0.5054784682243755, 0.5454008052445988, 0.584438748120574, 0.622158903584967, 0.6581943259052835, 0.6922547378461288, 0.7241303423361335, 0.7536898955986343, 0.7808742487697778, 0.8056868091199727, 0.8281823572176124, 0.8484554580282236, 0.8666294085863265, 0.8828463475817894, 0.8972588652171871, 0.9100232229488335, 0.9212941303487242, 0.9312209253830928, 0.9399449532737314, 0.947597924244225, 0.9543010393026511, 0.9601646956037383, 0.9652886114201684, 0.9697622403691003, 0.9736653723061556, 0.9770688426812689, 0.9800352925843485, 0.9826199382240361, 0.9848713215359561, 0.9868320235090694, 0.9885393291851784, 0.990025838632898, 0.9913200219688948, 0.9924467190702435, 0.993427586296429, 0.994281493558453], \"yaxis\": \"y3\"}, {\"hovertemplate\": \"variable=failure_rate<br>simulation=1<br>run=4<br>timestep=%{x}<br>value=%{y}<extra></extra>\", \"legendgroup\": \"failure_rate\", \"line\": {\"color\": \"rgb(76,114,176)\", \"dash\": \"solid\"}, \"mode\": \"lines\", \"name\": \"failure_rate\", \"showlegend\": false, \"type\": \"scattergl\", \"x\": [0, 1, 2, 3, 4, 5, 6, 7, 8, 9, 10, 11, 12, 13, 14, 15, 16, 17, 18, 19, 20, 21, 22, 23, 24, 25, 26, 27, 28, 29, 30, 31, 32, 33, 34, 35, 36, 37, 38, 39, 40, 41, 42, 43, 44, 45, 46, 47, 48, 49, 50, 51, 52, 53, 54, 55, 56, 57, 58, 59, 60, 61, 62, 63, 64, 65, 66, 67, 68, 69, 70, 71, 72, 73, 74, 75, 76, 77, 78, 79, 80, 81, 82, 83, 84, 85, 86, 87, 88, 89, 90, 91, 92, 93, 94, 95, 96, 97, 98, 99, 100], \"xaxis\": \"x4\", \"y\": [0.0, 0.0, 0.0, 2.167446761901905e-14, 5.784558588166576e-13, 6.018127097757106e-12, 3.736914311216112e-11, 1.6742725587132914e-10, 5.989021104139391e-10, 1.8169378042095007e-09, 4.860748279083935e-09, 1.1776091810767963e-08, 2.6331586840127856e-08, 5.510831675443028e-08, 1.0910481429713481e-07, 2.0603957143187424e-07, 3.735821168493189e-07, 6.53803120233535e-07, 1.1092058901612235e-06, 1.8307883387197404e-06, 2.948688688117429e-06, 4.646093038802935e-06, 7.177232063921657e-06, 1.0890471782075052e-05, 1.6257714482500206e-05, 2.391157604751554e-05, 3.469210152782279e-05, 4.9705129081040743e-05, 7.039482129203737e-05, 9.863336119158081e-05, 0.00013683136724798448, 0.0001880732266579365, 0.0002562822883609366, 0.0003464217037740603, 0.0004647376585537951, 0.0006190528013492919, 0.0008191188347702746, 0.0010770384641525551, 0.0014077681531765509, 0.0018297143306164367, 0.0023654366996835006, 0.0030424729219909945, 0.0038942988878038656, 0.004961437618445717, 0.006292726978503298, 0.007946750986445341, 0.009993430512010668, 0.012515755132222892, 0.01561161715110784, 0.019395679255472198, 0.02400116684688229, 0.029581422866439864, 0.03631099592550995, 0.044385952770434854, 0.054023018131145434, 0.06545705913139617, 0.07893636607204704, 0.09471516501390236, 0.11304286895080551, 0.13414977891721594, 0.15822932628567593, 0.18541752360922367, 0.21577103795814065, 0.24924611974657987, 0.28568132826907394, 0.3247873424008163, 0.3661468775644441, 0.40922669482965557, 0.45340194082509067, 0.49799091762923103, 0.5422963789831401, 0.5856481521306309, 0.6274416825387767, 0.6671680393540308, 0.7044326930306352, 0.7389624529950257, 0.7706017940774889, 0.7993010387413785, 0.8250993779238476, 0.848105601084767, 0.8684788801143136, 0.886411246342688, 0.9021127016886777, 0.9157993268211858, 0.9276843352838671, 0.9379717688269013, 0.9468524060229419, 0.9545014258734487, 0.9610773954378535, 0.9667222079164688, 0.9715616658844667, 0.9757064716443624, 0.9792534466071742, 0.9822868516337259, 0.9848797200467084, 0.9870951454585815, 0.988987489074364, 0.9906034872599822, 0.9919832513480757, 0.9931611591122655, 0.9941666420767017], \"yaxis\": \"y4\"}, {\"hovertemplate\": \"variable=failure_rate<br>simulation=1<br>run=5<br>timestep=%{x}<br>value=%{y}<extra></extra>\", \"legendgroup\": \"failure_rate\", \"line\": {\"color\": \"rgb(76,114,176)\", \"dash\": \"solid\"}, \"mode\": \"lines\", \"name\": \"failure_rate\", \"showlegend\": false, \"type\": \"scattergl\", \"x\": [0, 1, 2, 3, 4, 5, 6, 7, 8, 9, 10, 11, 12, 13, 14, 15, 16, 17, 18, 19, 20, 21, 22, 23, 24, 25, 26, 27, 28, 29, 30, 31, 32, 33, 34, 35, 36, 37, 38, 39, 40, 41, 42, 43, 44, 45, 46, 47, 48, 49, 50, 51, 52, 53, 54, 55, 56, 57, 58, 59, 60, 61, 62, 63, 64, 65, 66, 67, 68, 69, 70, 71, 72, 73, 74, 75, 76, 77, 78, 79, 80, 81, 82, 83, 84, 85, 86, 87, 88, 89, 90, 91, 92, 93, 94, 95, 96, 97, 98, 99, 100], \"xaxis\": \"x5\", \"y\": [0.0, 0.0, 0.0, 2.1893401635373245e-16, 8.80897246929422e-15, 1.2281892036311393e-13, 9.581831567569685e-13, 5.178162553561672e-12, 2.1721838214079246e-11, 7.570574197388378e-11, 2.290404958867932e-10, 6.197943127445025e-10, 1.532526256213711e-09, 3.51755231473472e-09, 7.584827432379248e-09, 1.5508357793784552e-08, 3.029045230516164e-08, 5.6852479175824514e-08, 1.0304108800824355e-07, 1.8106727726525452e-07, 3.095316736666486e-07, 5.162346918442446e-07, 8.42026973202164e-07, 1.3460262134151031e-06, 2.112614250985975e-06, 3.2607367981958694e-06, 4.956161880835677e-06, 7.427517216039952e-06, 1.0987127726424045e-05, 1.6057919693451575e-05, 2.3207956620148377e-05, 3.3194534236356875e-05, 4.7020200594940195e-05, 6.600359625842139e-05, 9.186864573690628e-05, 0.00012685639344718443, 0.00017386468652173145, 0.0002366219855788009, 0.00031990285673812565, 0.00042979418663985125, 0.000574022886294807, 0.0007623578202665203, 0.0010071009102554387, 0.0013236847847792124, 0.001731396903107948, 0.0022542526259154375, 0.002922041984699874, 0.003771576505891905, 0.004848162732757496, 0.006207327092739617, 0.007916811067796299, 0.010058844238796957, 0.012732682948111935, 0.016057370445534097, 0.020174625946817862, 0.025251699849559696, 0.03148393519313111, 0.0390966474829756, 0.04834577638397478, 0.05951658187641858, 0.07291947677190126, 0.08888195081138361, 0.107735520192557, 0.129796829647135, 0.15534255704718433, 0.18457871904804632, 0.21760636630284488, 0.2543873441712971, 0.2947154106955602, 0.3381989634596857, 0.38426127501874396, 0.43216203428600813, 0.48104025034908104, 0.5299740313867698, 0.578048783443702, 0.624423358720027, 0.6683843473167252, 0.7093817650294512, 0.747043705163417, 0.7811716719954859, 0.8117212061066139, 0.8387736212249043, 0.8625043984404225, 0.8831525768968503, 0.9009939357355617, 0.9163193243026266, 0.9294183995289517, 0.9405683270710166, 0.9500266448976897, 0.9580273799274985, 0.9647795545022985, 0.9704673436596036, 0.9752512943555712, 0.9792701633391359, 0.9826430562460163, 0.985471651630626, 0.9878423706638647, 0.9898284093217634, 0.9914915891505055, 0.9928840090813235, 0.9940494977026901], \"yaxis\": \"y5\"}, {\"hovertemplate\": \"variable=failure_rate<br>simulation=1<br>run=6<br>timestep=%{x}<br>value=%{y}<extra></extra>\", \"legendgroup\": \"failure_rate\", \"line\": {\"color\": \"rgb(76,114,176)\", \"dash\": \"solid\"}, \"mode\": \"lines\", \"name\": \"failure_rate\", \"showlegend\": false, \"type\": \"scattergl\", \"x\": [0, 1, 2, 3, 4, 5, 6, 7, 8, 9, 10, 11, 12, 13, 14, 15, 16, 17, 18, 19, 20, 21, 22, 23, 24, 25, 26, 27, 28, 29, 30, 31, 32, 33, 34, 35, 36, 37, 38, 39, 40, 41, 42, 43, 44, 45, 46, 47, 48, 49, 50, 51, 52, 53, 54, 55, 56, 57, 58, 59, 60, 61, 62, 63, 64, 65, 66, 67, 68, 69, 70, 71, 72, 73, 74, 75, 76, 77, 78, 79, 80, 81, 82, 83, 84, 85, 86, 87, 88, 89, 90, 91, 92, 93, 94, 95, 96, 97, 98, 99, 100], \"xaxis\": \"x6\", \"y\": [0.0, 0.0, 0.0, 2.211454710643763e-18, 1.3414678887250197e-16, 2.5065085788393616e-15, 2.4568798891227256e-14, 1.6014935732745332e-13, 7.878386917188487e-13, 3.1544059158073473e-12, 1.079248410173313e-11, 3.2620753321496283e-11, 8.919464996128149e-11, 2.2452461657349685e-10, 5.272874722824766e-10, 1.1672957646595287e-09, 2.455982687698406e-09, 4.943694097997201e-09, 9.572123824424052e-09, 1.7907755618384528e-08, 3.249228413792089e-08, 5.735943652574365e-08, 9.878536078031117e-08, 1.663629866744217e-07, 2.745210004861695e-07, 4.4464717919357163e-07, 7.080261336269258e-07, 1.1098659061043754e-06, 1.7147699382156864e-06, 2.61411509384116e-06, 3.9359281459237206e-06, 5.858019121652866e-06, 8.625338381257918e-06, 1.257278535559568e-05, 1.8155022783734577e-05, 2.5985256032880748e-05, 3.68854407762928e-05, 5.195100581009589e-05, 7.26339473068886e-05, 0.00010084909748417805, 0.00013910953115625402, 0.00019069849043074975, 0.00025988692917798577, 0.00035220785806285715, 0.00047480116388421816, 0.0006368455380875085, 0.0008500976233264788, 0.0011295624951873794, 0.001494324114029503, 0.001968569302779459, 0.0025828438861095412, 0.0033755843980489107, 0.004394972414801331, 0.005701159757093924, 0.007368909417330791, 0.009490685886315417, 0.012180204868179341, 0.015576409538976857, 0.019847769618262137, 0.025196689425972297, 0.03186364922824889, 0.04013047907167039, 0.050321870944771176, 0.06280388453544575, 0.07797783614604092, 0.09626767204145359, 0.11809887815953006, 0.1438674019676329, 0.1738982313444924, 0.20839539677880062, 0.24738819529746492, 0.29068186419792297, 0.3378236477115205, 0.38809566593467965, 0.44054288341059017, 0.49403758991374824, 0.5473727632248263, 0.5993686355760859, 0.6489730140264688, 0.6953380197467358, 0.737862909594708, 0.7762015395169206, 0.8102405531792016, 0.840058524942774, 0.8658768280949183, 0.8880109965989696, 0.9068282618557203, 0.9227139532507261, 0.9360471865121004, 0.9471848805287214, 0.9564525091502463, 0.9641398744206396, 0.9705003570155204, 0.9757523915654664, 0.9800822256126901, 0.9836472979348401, 0.9865797947212605, 0.9889901091072083, 0.9909700481004778, 0.9925957110378271, 0.9939300152210954], \"yaxis\": \"y6\"}],                        {\"annotations\": [{\"font\": {}, \"showarrow\": false, \"text\": \"run=1\", \"x\": 0.07333333333333333, \"xanchor\": \"center\", \"xref\": \"paper\", \"y\": 1.0, \"yanchor\": \"bottom\", \"yref\": \"paper\"}, {\"font\": {}, \"showarrow\": false, \"text\": \"run=2\", \"x\": 0.24, \"xanchor\": \"center\", \"xref\": \"paper\", \"y\": 1.0, \"yanchor\": \"bottom\", \"yref\": \"paper\"}, {\"font\": {}, \"showarrow\": false, \"text\": \"run=3\", \"x\": 0.4066666666666666, \"xanchor\": \"center\", \"xref\": \"paper\", \"y\": 1.0, \"yanchor\": \"bottom\", \"yref\": \"paper\"}, {\"font\": {}, \"showarrow\": false, \"text\": \"run=4\", \"x\": 0.5733333333333334, \"xanchor\": \"center\", \"xref\": \"paper\", \"y\": 1.0, \"yanchor\": \"bottom\", \"yref\": \"paper\"}, {\"font\": {}, \"showarrow\": false, \"text\": \"run=5\", \"x\": 0.74, \"xanchor\": \"center\", \"xref\": \"paper\", \"y\": 1.0, \"yanchor\": \"bottom\", \"yref\": \"paper\"}, {\"font\": {}, \"showarrow\": false, \"text\": \"run=6\", \"x\": 0.9066666666666667, \"xanchor\": \"center\", \"xref\": \"paper\", \"y\": 1.0, \"yanchor\": \"bottom\", \"yref\": \"paper\"}, {\"font\": {}, \"showarrow\": false, \"text\": \"simulation=1\", \"textangle\": 90, \"x\": 0.98, \"xanchor\": \"left\", \"xref\": \"paper\", \"y\": 0.2425, \"yanchor\": \"middle\", \"yref\": \"paper\"}, {\"font\": {}, \"showarrow\": false, \"text\": \"simulation=0\", \"textangle\": 90, \"x\": 0.98, \"xanchor\": \"left\", \"xref\": \"paper\", \"y\": 0.7575000000000001, \"yanchor\": \"middle\", \"yref\": \"paper\"}], \"height\": 800, \"legend\": {\"title\": {\"text\": \"variable\"}, \"tracegroupgap\": 0}, \"margin\": {\"t\": 60}, \"template\": {\"data\": {\"bar\": [{\"error_x\": {\"color\": \"rgb(36,36,36)\"}, \"error_y\": {\"color\": \"rgb(36,36,36)\"}, \"marker\": {\"line\": {\"color\": \"rgb(234,234,242)\", \"width\": 0.5}}, \"type\": \"bar\"}], \"barpolar\": [{\"marker\": {\"line\": {\"color\": \"rgb(234,234,242)\", \"width\": 0.5}}, \"type\": \"barpolar\"}], \"carpet\": [{\"aaxis\": {\"endlinecolor\": \"rgb(36,36,36)\", \"gridcolor\": \"white\", \"linecolor\": \"white\", \"minorgridcolor\": \"white\", \"startlinecolor\": \"rgb(36,36,36)\"}, \"baxis\": {\"endlinecolor\": \"rgb(36,36,36)\", \"gridcolor\": \"white\", \"linecolor\": \"white\", \"minorgridcolor\": \"white\", \"startlinecolor\": \"rgb(36,36,36)\"}, \"type\": \"carpet\"}], \"choropleth\": [{\"colorbar\": {\"outlinewidth\": 0, \"tickcolor\": \"rgb(36,36,36)\", \"ticklen\": 8, \"ticks\": \"outside\", \"tickwidth\": 2}, \"type\": \"choropleth\"}], \"contour\": [{\"colorbar\": {\"outlinewidth\": 0, \"tickcolor\": \"rgb(36,36,36)\", \"ticklen\": 8, \"ticks\": \"outside\", \"tickwidth\": 2}, \"colorscale\": [[0.0, \"rgb(2,4,25)\"], [0.06274509803921569, \"rgb(24,15,41)\"], [0.12549019607843137, \"rgb(47,23,57)\"], [0.18823529411764706, \"rgb(71,28,72)\"], [0.25098039215686274, \"rgb(97,30,82)\"], [0.3137254901960784, \"rgb(123,30,89)\"], [0.3764705882352941, \"rgb(150,27,91)\"], [0.4392156862745098, \"rgb(177,22,88)\"], [0.5019607843137255, \"rgb(203,26,79)\"], [0.5647058823529412, \"rgb(223,47,67)\"], [0.6274509803921569, \"rgb(236,76,61)\"], [0.6901960784313725, \"rgb(242,107,73)\"], [0.7529411764705882, \"rgb(244,135,95)\"], [0.8156862745098039, \"rgb(245,162,122)\"], [0.8784313725490196, \"rgb(246,188,153)\"], [0.9411764705882353, \"rgb(247,212,187)\"], [1.0, \"rgb(250,234,220)\"]], \"type\": \"contour\"}], \"contourcarpet\": [{\"colorbar\": {\"outlinewidth\": 0, \"tickcolor\": \"rgb(36,36,36)\", \"ticklen\": 8, \"ticks\": \"outside\", \"tickwidth\": 2}, \"type\": \"contourcarpet\"}], \"heatmap\": [{\"colorbar\": {\"outlinewidth\": 0, \"tickcolor\": \"rgb(36,36,36)\", \"ticklen\": 8, \"ticks\": \"outside\", \"tickwidth\": 2}, \"colorscale\": [[0.0, \"rgb(2,4,25)\"], [0.06274509803921569, \"rgb(24,15,41)\"], [0.12549019607843137, \"rgb(47,23,57)\"], [0.18823529411764706, \"rgb(71,28,72)\"], [0.25098039215686274, \"rgb(97,30,82)\"], [0.3137254901960784, \"rgb(123,30,89)\"], [0.3764705882352941, \"rgb(150,27,91)\"], [0.4392156862745098, \"rgb(177,22,88)\"], [0.5019607843137255, \"rgb(203,26,79)\"], [0.5647058823529412, \"rgb(223,47,67)\"], [0.6274509803921569, \"rgb(236,76,61)\"], [0.6901960784313725, \"rgb(242,107,73)\"], [0.7529411764705882, \"rgb(244,135,95)\"], [0.8156862745098039, \"rgb(245,162,122)\"], [0.8784313725490196, \"rgb(246,188,153)\"], [0.9411764705882353, \"rgb(247,212,187)\"], [1.0, \"rgb(250,234,220)\"]], \"type\": \"heatmap\"}], \"heatmapgl\": [{\"colorbar\": {\"outlinewidth\": 0, \"tickcolor\": \"rgb(36,36,36)\", \"ticklen\": 8, \"ticks\": \"outside\", \"tickwidth\": 2}, \"colorscale\": [[0.0, \"rgb(2,4,25)\"], [0.06274509803921569, \"rgb(24,15,41)\"], [0.12549019607843137, \"rgb(47,23,57)\"], [0.18823529411764706, \"rgb(71,28,72)\"], [0.25098039215686274, \"rgb(97,30,82)\"], [0.3137254901960784, \"rgb(123,30,89)\"], [0.3764705882352941, \"rgb(150,27,91)\"], [0.4392156862745098, \"rgb(177,22,88)\"], [0.5019607843137255, \"rgb(203,26,79)\"], [0.5647058823529412, \"rgb(223,47,67)\"], [0.6274509803921569, \"rgb(236,76,61)\"], [0.6901960784313725, \"rgb(242,107,73)\"], [0.7529411764705882, \"rgb(244,135,95)\"], [0.8156862745098039, \"rgb(245,162,122)\"], [0.8784313725490196, \"rgb(246,188,153)\"], [0.9411764705882353, \"rgb(247,212,187)\"], [1.0, \"rgb(250,234,220)\"]], \"type\": \"heatmapgl\"}], \"histogram\": [{\"marker\": {\"colorbar\": {\"outlinewidth\": 0, \"tickcolor\": \"rgb(36,36,36)\", \"ticklen\": 8, \"ticks\": \"outside\", \"tickwidth\": 2}}, \"type\": \"histogram\"}], \"histogram2d\": [{\"colorbar\": {\"outlinewidth\": 0, \"tickcolor\": \"rgb(36,36,36)\", \"ticklen\": 8, \"ticks\": \"outside\", \"tickwidth\": 2}, \"colorscale\": [[0.0, \"rgb(2,4,25)\"], [0.06274509803921569, \"rgb(24,15,41)\"], [0.12549019607843137, \"rgb(47,23,57)\"], [0.18823529411764706, \"rgb(71,28,72)\"], [0.25098039215686274, \"rgb(97,30,82)\"], [0.3137254901960784, \"rgb(123,30,89)\"], [0.3764705882352941, \"rgb(150,27,91)\"], [0.4392156862745098, \"rgb(177,22,88)\"], [0.5019607843137255, \"rgb(203,26,79)\"], [0.5647058823529412, \"rgb(223,47,67)\"], [0.6274509803921569, \"rgb(236,76,61)\"], [0.6901960784313725, \"rgb(242,107,73)\"], [0.7529411764705882, \"rgb(244,135,95)\"], [0.8156862745098039, \"rgb(245,162,122)\"], [0.8784313725490196, \"rgb(246,188,153)\"], [0.9411764705882353, \"rgb(247,212,187)\"], [1.0, \"rgb(250,234,220)\"]], \"type\": \"histogram2d\"}], \"histogram2dcontour\": [{\"colorbar\": {\"outlinewidth\": 0, \"tickcolor\": \"rgb(36,36,36)\", \"ticklen\": 8, \"ticks\": \"outside\", \"tickwidth\": 2}, \"colorscale\": [[0.0, \"rgb(2,4,25)\"], [0.06274509803921569, \"rgb(24,15,41)\"], [0.12549019607843137, \"rgb(47,23,57)\"], [0.18823529411764706, \"rgb(71,28,72)\"], [0.25098039215686274, \"rgb(97,30,82)\"], [0.3137254901960784, \"rgb(123,30,89)\"], [0.3764705882352941, \"rgb(150,27,91)\"], [0.4392156862745098, \"rgb(177,22,88)\"], [0.5019607843137255, \"rgb(203,26,79)\"], [0.5647058823529412, \"rgb(223,47,67)\"], [0.6274509803921569, \"rgb(236,76,61)\"], [0.6901960784313725, \"rgb(242,107,73)\"], [0.7529411764705882, \"rgb(244,135,95)\"], [0.8156862745098039, \"rgb(245,162,122)\"], [0.8784313725490196, \"rgb(246,188,153)\"], [0.9411764705882353, \"rgb(247,212,187)\"], [1.0, \"rgb(250,234,220)\"]], \"type\": \"histogram2dcontour\"}], \"mesh3d\": [{\"colorbar\": {\"outlinewidth\": 0, \"tickcolor\": \"rgb(36,36,36)\", \"ticklen\": 8, \"ticks\": \"outside\", \"tickwidth\": 2}, \"type\": \"mesh3d\"}], \"parcoords\": [{\"line\": {\"colorbar\": {\"outlinewidth\": 0, \"tickcolor\": \"rgb(36,36,36)\", \"ticklen\": 8, \"ticks\": \"outside\", \"tickwidth\": 2}}, \"type\": \"parcoords\"}], \"pie\": [{\"automargin\": true, \"type\": \"pie\"}], \"scatter\": [{\"marker\": {\"colorbar\": {\"outlinewidth\": 0, \"tickcolor\": \"rgb(36,36,36)\", \"ticklen\": 8, \"ticks\": \"outside\", \"tickwidth\": 2}}, \"type\": \"scatter\"}], \"scatter3d\": [{\"line\": {\"colorbar\": {\"outlinewidth\": 0, \"tickcolor\": \"rgb(36,36,36)\", \"ticklen\": 8, \"ticks\": \"outside\", \"tickwidth\": 2}}, \"marker\": {\"colorbar\": {\"outlinewidth\": 0, \"tickcolor\": \"rgb(36,36,36)\", \"ticklen\": 8, \"ticks\": \"outside\", \"tickwidth\": 2}}, \"type\": \"scatter3d\"}], \"scattercarpet\": [{\"marker\": {\"colorbar\": {\"outlinewidth\": 0, \"tickcolor\": \"rgb(36,36,36)\", \"ticklen\": 8, \"ticks\": \"outside\", \"tickwidth\": 2}}, \"type\": \"scattercarpet\"}], \"scattergeo\": [{\"marker\": {\"colorbar\": {\"outlinewidth\": 0, \"tickcolor\": \"rgb(36,36,36)\", \"ticklen\": 8, \"ticks\": \"outside\", \"tickwidth\": 2}}, \"type\": \"scattergeo\"}], \"scattergl\": [{\"marker\": {\"colorbar\": {\"outlinewidth\": 0, \"tickcolor\": \"rgb(36,36,36)\", \"ticklen\": 8, \"ticks\": \"outside\", \"tickwidth\": 2}}, \"type\": \"scattergl\"}], \"scattermapbox\": [{\"marker\": {\"colorbar\": {\"outlinewidth\": 0, \"tickcolor\": \"rgb(36,36,36)\", \"ticklen\": 8, \"ticks\": \"outside\", \"tickwidth\": 2}}, \"type\": \"scattermapbox\"}], \"scatterpolar\": [{\"marker\": {\"colorbar\": {\"outlinewidth\": 0, \"tickcolor\": \"rgb(36,36,36)\", \"ticklen\": 8, \"ticks\": \"outside\", \"tickwidth\": 2}}, \"type\": \"scatterpolar\"}], \"scatterpolargl\": [{\"marker\": {\"colorbar\": {\"outlinewidth\": 0, \"tickcolor\": \"rgb(36,36,36)\", \"ticklen\": 8, \"ticks\": \"outside\", \"tickwidth\": 2}}, \"type\": \"scatterpolargl\"}], \"scatterternary\": [{\"marker\": {\"colorbar\": {\"outlinewidth\": 0, \"tickcolor\": \"rgb(36,36,36)\", \"ticklen\": 8, \"ticks\": \"outside\", \"tickwidth\": 2}}, \"type\": \"scatterternary\"}], \"surface\": [{\"colorbar\": {\"outlinewidth\": 0, \"tickcolor\": \"rgb(36,36,36)\", \"ticklen\": 8, \"ticks\": \"outside\", \"tickwidth\": 2}, \"colorscale\": [[0.0, \"rgb(2,4,25)\"], [0.06274509803921569, \"rgb(24,15,41)\"], [0.12549019607843137, \"rgb(47,23,57)\"], [0.18823529411764706, \"rgb(71,28,72)\"], [0.25098039215686274, \"rgb(97,30,82)\"], [0.3137254901960784, \"rgb(123,30,89)\"], [0.3764705882352941, \"rgb(150,27,91)\"], [0.4392156862745098, \"rgb(177,22,88)\"], [0.5019607843137255, \"rgb(203,26,79)\"], [0.5647058823529412, \"rgb(223,47,67)\"], [0.6274509803921569, \"rgb(236,76,61)\"], [0.6901960784313725, \"rgb(242,107,73)\"], [0.7529411764705882, \"rgb(244,135,95)\"], [0.8156862745098039, \"rgb(245,162,122)\"], [0.8784313725490196, \"rgb(246,188,153)\"], [0.9411764705882353, \"rgb(247,212,187)\"], [1.0, \"rgb(250,234,220)\"]], \"type\": \"surface\"}], \"table\": [{\"cells\": {\"fill\": {\"color\": \"rgb(231,231,240)\"}, \"line\": {\"color\": \"white\"}}, \"header\": {\"fill\": {\"color\": \"rgb(183,183,191)\"}, \"line\": {\"color\": \"white\"}}, \"type\": \"table\"}]}, \"layout\": {\"annotationdefaults\": {\"arrowcolor\": \"rgb(67,103,167)\"}, \"coloraxis\": {\"colorbar\": {\"outlinewidth\": 0, \"tickcolor\": \"rgb(36,36,36)\", \"ticklen\": 8, \"ticks\": \"outside\", \"tickwidth\": 2}}, \"colorscale\": {\"sequential\": [[0.0, \"rgb(2,4,25)\"], [0.06274509803921569, \"rgb(24,15,41)\"], [0.12549019607843137, \"rgb(47,23,57)\"], [0.18823529411764706, \"rgb(71,28,72)\"], [0.25098039215686274, \"rgb(97,30,82)\"], [0.3137254901960784, \"rgb(123,30,89)\"], [0.3764705882352941, \"rgb(150,27,91)\"], [0.4392156862745098, \"rgb(177,22,88)\"], [0.5019607843137255, \"rgb(203,26,79)\"], [0.5647058823529412, \"rgb(223,47,67)\"], [0.6274509803921569, \"rgb(236,76,61)\"], [0.6901960784313725, \"rgb(242,107,73)\"], [0.7529411764705882, \"rgb(244,135,95)\"], [0.8156862745098039, \"rgb(245,162,122)\"], [0.8784313725490196, \"rgb(246,188,153)\"], [0.9411764705882353, \"rgb(247,212,187)\"], [1.0, \"rgb(250,234,220)\"]], \"sequentialminus\": [[0.0, \"rgb(2,4,25)\"], [0.06274509803921569, \"rgb(24,15,41)\"], [0.12549019607843137, \"rgb(47,23,57)\"], [0.18823529411764706, \"rgb(71,28,72)\"], [0.25098039215686274, \"rgb(97,30,82)\"], [0.3137254901960784, \"rgb(123,30,89)\"], [0.3764705882352941, \"rgb(150,27,91)\"], [0.4392156862745098, \"rgb(177,22,88)\"], [0.5019607843137255, \"rgb(203,26,79)\"], [0.5647058823529412, \"rgb(223,47,67)\"], [0.6274509803921569, \"rgb(236,76,61)\"], [0.6901960784313725, \"rgb(242,107,73)\"], [0.7529411764705882, \"rgb(244,135,95)\"], [0.8156862745098039, \"rgb(245,162,122)\"], [0.8784313725490196, \"rgb(246,188,153)\"], [0.9411764705882353, \"rgb(247,212,187)\"], [1.0, \"rgb(250,234,220)\"]]}, \"colorway\": [\"rgb(76,114,176)\", \"rgb(221,132,82)\", \"rgb(85,168,104)\", \"rgb(196,78,82)\", \"rgb(129,114,179)\", \"rgb(147,120,96)\", \"rgb(218,139,195)\", \"rgb(140,140,140)\", \"rgb(204,185,116)\", \"rgb(100,181,205)\"], \"font\": {\"color\": \"rgb(36,36,36)\"}, \"geo\": {\"bgcolor\": \"white\", \"lakecolor\": \"white\", \"landcolor\": \"rgb(234,234,242)\", \"showlakes\": true, \"showland\": true, \"subunitcolor\": \"white\"}, \"hoverlabel\": {\"align\": \"left\"}, \"hovermode\": \"closest\", \"paper_bgcolor\": \"white\", \"plot_bgcolor\": \"rgb(234,234,242)\", \"polar\": {\"angularaxis\": {\"gridcolor\": \"white\", \"linecolor\": \"white\", \"showgrid\": true, \"ticks\": \"\"}, \"bgcolor\": \"rgb(234,234,242)\", \"radialaxis\": {\"gridcolor\": \"white\", \"linecolor\": \"white\", \"showgrid\": true, \"ticks\": \"\"}}, \"scene\": {\"xaxis\": {\"backgroundcolor\": \"rgb(234,234,242)\", \"gridcolor\": \"white\", \"gridwidth\": 2, \"linecolor\": \"white\", \"showbackground\": true, \"showgrid\": true, \"ticks\": \"\", \"zerolinecolor\": \"white\"}, \"yaxis\": {\"backgroundcolor\": \"rgb(234,234,242)\", \"gridcolor\": \"white\", \"gridwidth\": 2, \"linecolor\": \"white\", \"showbackground\": true, \"showgrid\": true, \"ticks\": \"\", \"zerolinecolor\": \"white\"}, \"zaxis\": {\"backgroundcolor\": \"rgb(234,234,242)\", \"gridcolor\": \"white\", \"gridwidth\": 2, \"linecolor\": \"white\", \"showbackground\": true, \"showgrid\": true, \"ticks\": \"\", \"zerolinecolor\": \"white\"}}, \"shapedefaults\": {\"fillcolor\": \"rgb(67,103,167)\", \"line\": {\"width\": 0}, \"opacity\": 0.5}, \"ternary\": {\"aaxis\": {\"gridcolor\": \"white\", \"linecolor\": \"white\", \"showgrid\": true, \"ticks\": \"\"}, \"baxis\": {\"gridcolor\": \"white\", \"linecolor\": \"white\", \"showgrid\": true, \"ticks\": \"\"}, \"bgcolor\": \"rgb(234,234,242)\", \"caxis\": {\"gridcolor\": \"white\", \"linecolor\": \"white\", \"showgrid\": true, \"ticks\": \"\"}}, \"xaxis\": {\"automargin\": true, \"gridcolor\": \"white\", \"linecolor\": \"white\", \"showgrid\": true, \"ticks\": \"\", \"title\": {\"standoff\": 15}, \"zerolinecolor\": \"white\"}, \"yaxis\": {\"automargin\": true, \"gridcolor\": \"white\", \"linecolor\": \"white\", \"showgrid\": true, \"ticks\": \"\", \"title\": {\"standoff\": 15}, \"zerolinecolor\": \"white\"}}}, \"xaxis\": {\"anchor\": \"y\", \"domain\": [0.0, 0.14666666666666667], \"title\": {\"text\": \"timestep\"}}, \"xaxis10\": {\"anchor\": \"y10\", \"domain\": [0.5, 0.6466666666666667], \"matches\": \"x\", \"showticklabels\": false}, \"xaxis11\": {\"anchor\": \"y11\", \"domain\": [0.6666666666666666, 0.8133333333333332], \"matches\": \"x\", \"showticklabels\": false}, \"xaxis12\": {\"anchor\": \"y12\", \"domain\": [0.8333333333333334, 0.98], \"matches\": \"x\", \"showticklabels\": false}, \"xaxis2\": {\"anchor\": \"y2\", \"domain\": [0.16666666666666666, 0.31333333333333335], \"matches\": \"x\", \"title\": {\"text\": \"timestep\"}}, \"xaxis3\": {\"anchor\": \"y3\", \"domain\": [0.3333333333333333, 0.48], \"matches\": \"x\", \"title\": {\"text\": \"timestep\"}}, \"xaxis4\": {\"anchor\": \"y4\", \"domain\": [0.5, 0.6466666666666667], \"matches\": \"x\", \"title\": {\"text\": \"timestep\"}}, \"xaxis5\": {\"anchor\": \"y5\", \"domain\": [0.6666666666666666, 0.8133333333333332], \"matches\": \"x\", \"title\": {\"text\": \"timestep\"}}, \"xaxis6\": {\"anchor\": \"y6\", \"domain\": [0.8333333333333334, 0.98], \"matches\": \"x\", \"title\": {\"text\": \"timestep\"}}, \"xaxis7\": {\"anchor\": \"y7\", \"domain\": [0.0, 0.14666666666666667], \"matches\": \"x\", \"showticklabels\": false}, \"xaxis8\": {\"anchor\": \"y8\", \"domain\": [0.16666666666666666, 0.31333333333333335], \"matches\": \"x\", \"showticklabels\": false}, \"xaxis9\": {\"anchor\": \"y9\", \"domain\": [0.3333333333333333, 0.48], \"matches\": \"x\", \"showticklabels\": false}, \"yaxis\": {\"anchor\": \"x\", \"domain\": [0.0, 0.485], \"title\": {\"text\": \"value\"}}, \"yaxis10\": {\"anchor\": \"x10\", \"domain\": [0.515, 1.0], \"matches\": \"y\", \"showticklabels\": false}, \"yaxis11\": {\"anchor\": \"x11\", \"domain\": [0.515, 1.0], \"matches\": \"y\", \"showticklabels\": false}, \"yaxis12\": {\"anchor\": \"x12\", \"domain\": [0.515, 1.0], \"matches\": \"y\", \"showticklabels\": false}, \"yaxis2\": {\"anchor\": \"x2\", \"domain\": [0.0, 0.485], \"matches\": \"y\", \"showticklabels\": false}, \"yaxis3\": {\"anchor\": \"x3\", \"domain\": [0.0, 0.485], \"matches\": \"y\", \"showticklabels\": false}, \"yaxis4\": {\"anchor\": \"x4\", \"domain\": [0.0, 0.485], \"matches\": \"y\", \"showticklabels\": false}, \"yaxis5\": {\"anchor\": \"x5\", \"domain\": [0.0, 0.485], \"matches\": \"y\", \"showticklabels\": false}, \"yaxis6\": {\"anchor\": \"x6\", \"domain\": [0.0, 0.485], \"matches\": \"y\", \"showticklabels\": false}, \"yaxis7\": {\"anchor\": \"x7\", \"domain\": [0.515, 1.0], \"matches\": \"y\", \"title\": {\"text\": \"value\"}}, \"yaxis8\": {\"anchor\": \"x8\", \"domain\": [0.515, 1.0], \"matches\": \"y\", \"showticklabels\": false}, \"yaxis9\": {\"anchor\": \"x9\", \"domain\": [0.515, 1.0], \"matches\": \"y\", \"showticklabels\": false}},                        {\"responsive\": true}                    ).then(function(){\n",
       "                            \n",
       "var gd = document.getElementById('595dc82c-5d4a-4350-b08b-f2a20602b771');\n",
       "var x = new MutationObserver(function (mutations, observer) {{\n",
       "        var display = window.getComputedStyle(gd).display;\n",
       "        if (!display || display === 'none') {{\n",
       "            console.log([gd, 'removed!']);\n",
       "            Plotly.purge(gd);\n",
       "            observer.disconnect();\n",
       "        }}\n",
       "}});\n",
       "\n",
       "// Listen for the removal of the full notebook cells\n",
       "var notebookContainer = gd.closest('#notebook-container');\n",
       "if (notebookContainer) {{\n",
       "    x.observe(notebookContainer, {childList: true});\n",
       "}}\n",
       "\n",
       "// Listen for the clearing of the current output cell\n",
       "var outputEl = gd.closest('.output');\n",
       "if (outputEl) {{\n",
       "    x.observe(outputEl, {childList: true});\n",
       "}}\n",
       "\n",
       "                        })                };                });            </script>        </div>"
      ]
     },
     "metadata": {},
     "output_type": "display_data"
    }
   ],
   "source": [
    "# Run this cell\n",
    "\n",
    "fig = px.line(\n",
    "    simulation_result,\n",
    "    x='timestep',\n",
    "    y=['failure_rate'],\n",
    "    facet_row='simulation',\n",
    "    facet_col='run',\n",
    "    height=800,\n",
    "    template='seaborn',\n",
    ")\n",
    "\n",
    "fig.show()"
   ]
  },
  {
   "cell_type": "markdown",
   "metadata": {},
   "source": [
    "<br/><br/><br/>\n",
    "# Well done!\n",
    "<br/><br/><br/><br/>"
   ]
  }
 ],
 "metadata": {
  "kernelspec": {
   "display_name": "Python 3",
   "language": "python",
   "name": "python3"
  },
  "language_info": {
   "codemirror_mode": {
    "name": "ipython",
    "version": 3
   },
   "file_extension": ".py",
   "mimetype": "text/x-python",
   "name": "python",
   "nbconvert_exporter": "python",
   "pygments_lexer": "ipython3",
   "version": "3.8.6"
  }
 },
 "nbformat": 4,
 "nbformat_minor": 4
}
