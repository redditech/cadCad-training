{
 "cells": [
  {
   "cell_type": "markdown",
   "metadata": {},
   "source": [
    "<span style=\"display:block;text-align:center;margin-right:105px\"><img src=\"../../media/logos/logo-vertical.png\" width=\"200\"/></span>"
   ]
  },
  {
   "cell_type": "markdown",
   "metadata": {},
   "source": [
    "# Section 6: Advanced Simulation Methods\n",
    "\n",
    "---"
   ]
  },
  {
   "cell_type": "markdown",
   "metadata": {},
   "source": [
    "## Table of Contents\n",
    "* [cadCAD Simulation Methods](#cadCAD-Simulation-Methods)\n",
    "  1. [Monte Carlo Method](#1.-Monte-Carlo-Method)\n",
    "  2. [Parameter Sweeps](#2.-Parameter-Sweeps)\n",
    "  3. [A/B Testing](#3.-A/B-Testing)\n",
    "* [cadCAD Simulation Methods Overview](#cadCAD-Simulation-Methods-Overview)\n",
    "* [Data Manipulation & Analysis](#Data-Manipulation-&-Analysis)"
   ]
  },
  {
   "cell_type": "markdown",
   "metadata": {},
   "source": [
    "---"
   ]
  },
  {
   "cell_type": "markdown",
   "metadata": {},
   "source": [
    "\\begin{align}\n",
    "\\large population_t &\\large= population_{t-1} + {\\Delta population} \\quad \\textrm{(sheep)} \\tag{1} \\\\\n",
    "\\large food_t &\\large= food_{t-1} + {\\Delta food} \\quad \\textrm{(tons of grass)} \\tag{2}\n",
    "\\end{align}\n",
    "\n",
    "where the rate of change ($\\Delta$) is:\n",
    "\\begin{align}\n",
    "\\large {\\Delta population} &\\large= \\alpha * food_{t-1} - \\epsilon * population_{t-1} \\quad \\textrm{(sheep/month)} \\\\\n",
    "\\large {\\Delta food} &\\large= -\\beta * population_{t-1} + \\gamma \\quad \\textrm{(tons of grass/month)}\n",
    "\\end{align}\n",
    "\n",
    "where:\n",
    "\n",
    "$\n",
    "\\begin{align}\n",
    "\\alpha: \\quad &\\textrm{'reproduction_rate'}\\\\\n",
    "\\epsilon: \\quad &\\textrm{'death_rate'}\\\\\n",
    "\\beta: \\quad &\\textrm{'consumption_rate'}\\\\\n",
    "\\gamma: \\quad &\\textrm{'growth_rate'}\\\\\n",
    "\\end{align}\n",
    "$\n",
    "\n",
    "* A population consumes a food source, and reproduces at a rate proportional to the food source $\\alpha$ (alpha), and dies at a rate proportional to the population size $\\epsilon$ (epsilon).\n",
    "* The food source is consumed at a rate proportional to the population $\\beta$ (beta), and grows at a constant rate $\\gamma$ (gamma)."
   ]
  },
  {
   "cell_type": "markdown",
   "metadata": {},
   "source": [
    "<center>\n",
    "<img src=\"./images/s6-differential-spec-ecosystem-final.png\"\n",
    "     alt=\"Diff spec\"\n",
    "     style=\"width: 60%\" />\n",
    "</center>"
   ]
  },
  {
   "cell_type": "markdown",
   "metadata": {},
   "source": [
    "Import and run the existing ecosystem model code from section 5:"
   ]
  },
  {
   "cell_type": "code",
   "execution_count": null,
   "metadata": {},
   "outputs": [],
   "source": [
    "import math\n",
    "import pandas as pd\n",
    "import plotly\n",
    "\n",
    "pd.options.plotting.backend = \"plotly\"\n",
    "\n",
    "from cadCAD.configuration.utils import config_sim\n",
    "\n",
    "from cadCAD.engine import ExecutionMode, ExecutionContext\n",
    "from cadCAD.engine import Executor"
   ]
  },
  {
   "cell_type": "code",
   "execution_count": null,
   "metadata": {},
   "outputs": [],
   "source": [
    "from cadCAD.configuration import Experiment\n",
    "\n",
    "from cadCAD import configs\n",
    "del configs[:] # Clear any prior configs\n",
    "\n",
    "experiment = Experiment()"
   ]
  },
  {
   "cell_type": "markdown",
   "metadata": {},
   "source": [
    "# cadCAD Simulation Methods\n",
    "\n",
    "1. [Monte Carlo Method](#1.-Monte-Carlo-Method)\n",
    "2. [Parameter Sweeps](#2.-Parameter-Sweeps)\n",
    "3. [A/B testing](#3.-A/B-Testing)"
   ]
  },
  {
   "cell_type": "markdown",
   "metadata": {},
   "source": [
    "## 1. Monte Carlo Method\n",
    "\n",
    "> Monte Carlo methods, or Monte Carlo experiments, are a broad class of computational algorithms that rely on repeated random sampling to obtain numerical results. The underlying concept is to use randomness to solve problems that might be deterministic in principle.\n",
    "\n",
    "Source: https://en.wikipedia.org/wiki/Monte_Carlo_method"
   ]
  },
  {
   "cell_type": "markdown",
   "metadata": {},
   "source": [
    "### Non-determinism\n",
    "\n",
    "> In computer science, a nondeterministic algorithm is an algorithm that, even for the same input, can exhibit different behaviors on different runs, as opposed to a deterministic algorithm.\n",
    "\n",
    "Source: https://en.wikipedia.org/wiki/Nondeterministic_algorithm"
   ]
  },
  {
   "cell_type": "markdown",
   "metadata": {},
   "source": [
    "\\begin{align}\n",
    "\\large {\\Delta food} &\\large= -\\beta * population_{t-1} + \\gamma * rand() \\quad \\textrm{(tons of grass/month)} \\\\\n",
    "\\end{align}\n",
    "\n",
    "\n",
    "* Addition of a random food growth rate, using `rand()`."
   ]
  },
  {
   "cell_type": "code",
   "execution_count": null,
   "metadata": {},
   "outputs": [],
   "source": [
    "from numpy import random"
   ]
  },
  {
   "cell_type": "code",
   "execution_count": null,
   "metadata": {},
   "outputs": [],
   "source": [
    "random.rand()"
   ]
  },
  {
   "cell_type": "code",
   "execution_count": null,
   "metadata": {},
   "outputs": [],
   "source": [
    "# Setting a seed so that we can reproduce the experiment\n",
    "random.seed(1234)"
   ]
  },
  {
   "cell_type": "code",
   "execution_count": null,
   "metadata": {},
   "outputs": [],
   "source": [
    "# With a given seed, generates a random number from a given set\n",
    "[\n",
    "    random.rand(),\n",
    "    random.rand()\n",
    "]"
   ]
  },
  {
   "cell_type": "code",
   "execution_count": null,
   "metadata": {},
   "outputs": [],
   "source": [
    "random.seed(1234)\n",
    "[\n",
    "    random.rand(),\n",
    "    random.rand()\n",
    "]"
   ]
  },
  {
   "cell_type": "code",
   "execution_count": null,
   "metadata": {},
   "outputs": [],
   "source": [
    "random.seed(None)"
   ]
  },
  {
   "cell_type": "code",
   "execution_count": null,
   "metadata": {},
   "outputs": [],
   "source": [
    "seeds = [\n",
    "    random.RandomState(1),\n",
    "    random.RandomState(2),\n",
    "    random.RandomState(3),\n",
    "]"
   ]
  },
  {
   "cell_type": "code",
   "execution_count": null,
   "metadata": {},
   "outputs": [],
   "source": [
    "[\n",
    "    seeds[0].rand(),\n",
    "    seeds[1].rand(),\n",
    "    seeds[2].rand(),\n",
    "]"
   ]
  },
  {
   "cell_type": "code",
   "execution_count": null,
   "metadata": {},
   "outputs": [],
   "source": [
    "MONTE_CARLO_RUNS = 3\n",
    "\n",
    "seeds = [random.RandomState(i) for i in range(MONTE_CARLO_RUNS)]\n",
    "seeds"
   ]
  },
  {
   "cell_type": "code",
   "execution_count": null,
   "metadata": {},
   "outputs": [],
   "source": [
    "initial_state = {\n",
    "    'population': 50, # number of sheep\n",
    "    'food': 1000 # tons of grass\n",
    "}\n",
    "\n",
    "system_params = {\n",
    "    'reproduction_rate': [0.3],\n",
    "    'death_rate': [0.03],\n",
    "    'consumption_rate': [0.03],\n",
    "    'growth_rate': [30.0],\n",
    "}"
   ]
  },
  {
   "cell_type": "code",
   "execution_count": null,
   "metadata": {},
   "outputs": [],
   "source": [
    "def s_population(params, substep, state_history, previous_state, policy_input):\n",
    "    population = previous_state['population'] + policy_input['delta_population'] \n",
    "    return 'population', max(math.ceil(population), 0)\n",
    "\n",
    "def s_food(params, substep, state_history, previous_state, policy_input):\n",
    "    food = previous_state['food'] + policy_input['delta_food']\n",
    "    return 'food', max(food, 0)"
   ]
  },
  {
   "cell_type": "code",
   "execution_count": null,
   "metadata": {},
   "outputs": [],
   "source": [
    "def p_reproduction(params, substep, state_history, previous_state):\n",
    "    population_reproduction = params['reproduction_rate'] * previous_state['food']\n",
    "    return {'delta_population': population_reproduction}\n",
    "\n",
    "def p_death(params, substep, state_history, previous_state):\n",
    "    population_death = params['death_rate'] * previous_state['population']\n",
    "    return {'delta_population': -population_death}\n",
    "\n",
    "def p_growth(params, substep, state_history, previous_state):\n",
    "    run = previous_state['run']\n",
    "    food_growth = params['growth_rate'] * seeds[run - 1].rand()\n",
    "    return {'delta_food': food_growth}\n",
    "\n",
    "def p_consumption(params, substep, state_history, previous_state):\n",
    "    food_consumption = params['consumption_rate'] * previous_state['population']\n",
    "    return {'delta_food': -food_consumption}"
   ]
  },
  {
   "cell_type": "code",
   "execution_count": null,
   "metadata": {},
   "outputs": [],
   "source": [
    "partial_state_update_blocks = [\n",
    "    {\n",
    "        'policies': {\n",
    "            'reproduction': p_reproduction,\n",
    "            'death': p_death,\n",
    "            'consumption': p_consumption,\n",
    "            'growth': p_growth\n",
    "        },\n",
    "        'variables': {\n",
    "            'population': s_population,\n",
    "            'food': s_food\n",
    "        }\n",
    "    }\n",
    "]"
   ]
  },
  {
   "cell_type": "code",
   "execution_count": null,
   "metadata": {},
   "outputs": [],
   "source": [
    "SIMULATION_TIMESTEPS = 500"
   ]
  },
  {
   "cell_type": "code",
   "execution_count": null,
   "metadata": {},
   "outputs": [],
   "source": [
    "sim_config = config_sim({\n",
    "    'N': MONTE_CARLO_RUNS,\n",
    "    'T': range(SIMULATION_TIMESTEPS),\n",
    "    'M': system_params\n",
    "})\n",
    "\n",
    "experiment.append_configs(\n",
    "    initial_state = initial_state,\n",
    "    partial_state_update_blocks = partial_state_update_blocks,\n",
    "    sim_configs = sim_config,\n",
    ")"
   ]
  },
  {
   "cell_type": "code",
   "execution_count": null,
   "metadata": {},
   "outputs": [],
   "source": [
    "exec_mode = ExecutionMode()\n",
    "exec_context = ExecutionContext()\n",
    "\n",
    "simulation = Executor(exec_context=exec_context, configs=configs)\n",
    "raw_result, tensor_field, sessions = simulation.execute()"
   ]
  },
  {
   "cell_type": "code",
   "execution_count": null,
   "metadata": {},
   "outputs": [],
   "source": [
    "simulation_result = pd.DataFrame(raw_result)\n",
    "simulation_result"
   ]
  },
  {
   "cell_type": "code",
   "execution_count": null,
   "metadata": {},
   "outputs": [],
   "source": [
    "df = simulation_result.copy()\n",
    "df = df[df.simulation == 0]\n",
    "df"
   ]
  },
  {
   "cell_type": "code",
   "execution_count": null,
   "metadata": {},
   "outputs": [],
   "source": [
    "df[df.run == 1].head()"
   ]
  },
  {
   "cell_type": "code",
   "execution_count": null,
   "metadata": {},
   "outputs": [],
   "source": [
    "df[df.run == 2].head()"
   ]
  },
  {
   "cell_type": "code",
   "execution_count": null,
   "metadata": {},
   "outputs": [],
   "source": [
    "df[df.run == 3].head()"
   ]
  },
  {
   "cell_type": "markdown",
   "metadata": {},
   "source": [
    "### Simulation Analysis"
   ]
  },
  {
   "cell_type": "code",
   "execution_count": null,
   "metadata": {},
   "outputs": [],
   "source": [
    "import plotly.express as px\n",
    "\n",
    "px.line(df, x='timestep', y=['population', 'food'], facet_row='run', height=800, width=1000)"
   ]
  },
  {
   "cell_type": "markdown",
   "metadata": {},
   "source": [
    "## 2. Parameter Sweeps"
   ]
  },
  {
   "cell_type": "code",
   "execution_count": null,
   "metadata": {},
   "outputs": [],
   "source": [
    "dictionary = {\n",
    "    'reproduction_rate': [0.1, 0.2],\n",
    "    'death_rate': [0.01, 0.02]\n",
    "}\n",
    "dictionary['reproduction_rate'][0]"
   ]
  },
  {
   "cell_type": "code",
   "execution_count": null,
   "metadata": {},
   "outputs": [],
   "source": [
    "nested_dictionary = {\n",
    "    'population': [\n",
    "        {'reproduction_rate': 0.1, 'death_rate': 0.01},\n",
    "        {'reproduction_rate': 0.2, 'death_rate': 0.02},\n",
    "    ]\n",
    "}\n",
    "nested_dictionary['population'][0]['reproduction_rate']"
   ]
  },
  {
   "cell_type": "code",
   "execution_count": null,
   "metadata": {},
   "outputs": [],
   "source": [
    "initial_state = {\n",
    "    'population': 50, # number of sheep\n",
    "    'food': 1000 # tons of grass\n",
    "}\n",
    "\n",
    "system_params = {\n",
    "    'population': [\n",
    "        {'reproduction_rate': 0.1, 'death_rate': 0.01},\n",
    "        {'reproduction_rate': 0.2, 'death_rate': 0.02},\n",
    "        {'reproduction_rate': 0.3, 'death_rate': 0.03}\n",
    "    ],\n",
    "    'food': [\n",
    "        {'consumption_rate': 0.01, 'growth_rate': 10.0},\n",
    "        {'consumption_rate': 0.02, 'growth_rate': 20.0},\n",
    "        {'consumption_rate': 0.03, 'growth_rate': 30.0}\n",
    "    ]\n",
    "}"
   ]
  },
  {
   "cell_type": "code",
   "execution_count": null,
   "metadata": {},
   "outputs": [],
   "source": [
    "{\n",
    "    'population': system_params['population'][0],\n",
    "    'food': system_params['food'][0]\n",
    "}"
   ]
  },
  {
   "cell_type": "code",
   "execution_count": null,
   "metadata": {},
   "outputs": [],
   "source": [
    "{\n",
    "    'population': system_params['population'][1],\n",
    "    'food': system_params['food'][1]\n",
    "}"
   ]
  },
  {
   "cell_type": "code",
   "execution_count": null,
   "metadata": {},
   "outputs": [],
   "source": [
    "def s_population(params, substep, state_history, previous_state, policy_input):\n",
    "    population = previous_state['population'] + policy_input['delta_population'] \n",
    "    return 'population', max(math.ceil(population), 0)\n",
    "\n",
    "def s_food(params, substep, state_history, previous_state, policy_input):\n",
    "    food = previous_state['food'] + policy_input['delta_food']\n",
    "    return 'food', max(food, 0)"
   ]
  },
  {
   "cell_type": "code",
   "execution_count": null,
   "metadata": {},
   "outputs": [],
   "source": [
    "def p_reproduction(params, substep, state_history, previous_state):\n",
    "    population_reproduction = params['population']['reproduction_rate'] * previous_state['food']\n",
    "    return {'delta_population': population_reproduction}\n",
    "\n",
    "def p_death(params, substep, state_history, previous_state):\n",
    "    population_death = params['population']['death_rate'] * previous_state['population']\n",
    "    return {'delta_population': -population_death}\n",
    "\n",
    "def p_consumption(params, substep, state_history, previous_state):\n",
    "    food_consumption = params['food']['consumption_rate'] * previous_state['population']\n",
    "    return {'delta_food': -food_consumption}\n",
    "    \n",
    "def p_growth(params, substep, state_history, previous_state):\n",
    "    food_growth = params['food']['growth_rate']\n",
    "    return {'delta_food': food_growth}"
   ]
  },
  {
   "cell_type": "code",
   "execution_count": null,
   "metadata": {},
   "outputs": [],
   "source": [
    "partial_state_update_blocks = [\n",
    "    {\n",
    "        'policies': {\n",
    "            'reproduction': p_reproduction,\n",
    "            'death': p_death,\n",
    "            'consumption': p_consumption,\n",
    "            'growth': p_growth\n",
    "        },\n",
    "        'variables': {\n",
    "            'population': s_population,\n",
    "            'food': s_food\n",
    "        }\n",
    "    }\n",
    "]"
   ]
  },
  {
   "cell_type": "code",
   "execution_count": null,
   "metadata": {},
   "outputs": [],
   "source": [
    "MONTE_CARLO_RUNS = 1\n",
    "SIMULATION_TIMESTEPS = 500\n",
    "\n",
    "sim_config = config_sim({\n",
    "    'N': MONTE_CARLO_RUNS,\n",
    "    'T': range(SIMULATION_TIMESTEPS),\n",
    "    'M': system_params\n",
    "})"
   ]
  },
  {
   "cell_type": "code",
   "execution_count": null,
   "metadata": {},
   "outputs": [],
   "source": [
    "from pprint import pprint\n",
    "\n",
    "print('system_params')\n",
    "pprint(system_params)\n",
    "print(' ')\n",
    "print('sim_config')\n",
    "pprint(sim_config)"
   ]
  },
  {
   "cell_type": "code",
   "execution_count": null,
   "metadata": {},
   "outputs": [],
   "source": [
    "experiment.append_configs(\n",
    "    initial_state = initial_state,\n",
    "    partial_state_update_blocks = partial_state_update_blocks,\n",
    "    sim_configs = sim_config\n",
    ")"
   ]
  },
  {
   "cell_type": "code",
   "execution_count": null,
   "metadata": {},
   "outputs": [],
   "source": [
    "exec_mode = ExecutionMode()\n",
    "exec_context = ExecutionContext()\n",
    "\n",
    "simulation = Executor(exec_context=exec_context, configs=configs)\n",
    "raw_result, tensor_field, sessions = simulation.execute()"
   ]
  },
  {
   "cell_type": "code",
   "execution_count": null,
   "metadata": {},
   "outputs": [],
   "source": [
    "simulation_result = pd.DataFrame(raw_result)\n",
    "simulation_result"
   ]
  },
  {
   "cell_type": "code",
   "execution_count": null,
   "metadata": {},
   "outputs": [],
   "source": [
    "df = simulation_result.copy()\n",
    "df = df[df.simulation == 1]\n",
    "df"
   ]
  },
  {
   "cell_type": "markdown",
   "metadata": {},
   "source": [
    "### Simulation Analysis"
   ]
  },
  {
   "cell_type": "code",
   "execution_count": null,
   "metadata": {},
   "outputs": [],
   "source": [
    "import plotly.express as px\n",
    "\n",
    "px.line(df, x='timestep', y=['population', 'food'], facet_row='subset', height=800, width=1000)"
   ]
  },
  {
   "cell_type": "markdown",
   "metadata": {},
   "source": [
    "## 3. A/B Testing"
   ]
  },
  {
   "cell_type": "code",
   "execution_count": null,
   "metadata": {},
   "outputs": [],
   "source": [
    "df = simulation_result.copy()\n",
    "df"
   ]
  },
  {
   "cell_type": "code",
   "execution_count": null,
   "metadata": {},
   "outputs": [],
   "source": [
    "import plotly.express as px\n",
    "\n",
    "fig = px.line(\n",
    "    df,\n",
    "    x='timestep',\n",
    "    y=['population', 'food'],\n",
    "    facet_row='simulation',\n",
    "    facet_col='run',\n",
    "    height=800,\n",
    "    template='seaborn'\n",
    ")\n",
    "\n",
    "fig.update_layout(\n",
    "    margin=dict(l=20, r=20, t=20, b=20),\n",
    ")\n",
    "\n",
    "fig.show()"
   ]
  },
  {
   "cell_type": "markdown",
   "metadata": {},
   "source": [
    "# cadCAD Simulation Methods Overview"
   ]
  },
  {
   "cell_type": "markdown",
   "metadata": {},
   "source": [
    "<center>\n",
    "<img src=\"./images/cadcad-simulation-methods.png\"\n",
    "     alt=\"Simulation methods\"\n",
    "     style=\"width: 600px;\" />\n",
    "</center>"
   ]
  },
  {
   "cell_type": "markdown",
   "metadata": {},
   "source": [
    "# Data Manipulation & Analysis"
   ]
  },
  {
   "cell_type": "code",
   "execution_count": null,
   "metadata": {},
   "outputs": [],
   "source": [
    "df = simulation_result.copy()\n",
    "df"
   ]
  },
  {
   "cell_type": "code",
   "execution_count": null,
   "metadata": {},
   "outputs": [],
   "source": [
    "df = df.query(\"simulation == 1 and run == 2\")\n",
    "df"
   ]
  },
  {
   "cell_type": "code",
   "execution_count": null,
   "metadata": {},
   "outputs": [],
   "source": [
    "fig = px.scatter(\n",
    "    df[df.timestep >= 80],\n",
    "    x='population',\n",
    "    y='food',\n",
    "    color='timestep'\n",
    ")\n",
    "fig.show()"
   ]
  },
  {
   "cell_type": "markdown",
   "metadata": {},
   "source": [
    "<br/><br/><br/>\n",
    "# Well done!\n",
    "You're now well on your way to being a cadCAD system modeller!\n",
    "<br/><br/><br/><br/>"
   ]
  }
 ],
 "metadata": {
  "kernelspec": {
   "display_name": "Python 3",
   "language": "python",
   "name": "python3"
  },
  "language_info": {
   "codemirror_mode": {
    "name": "ipython",
    "version": 3
   },
   "file_extension": ".py",
   "mimetype": "text/x-python",
   "name": "python",
   "nbconvert_exporter": "python",
   "pygments_lexer": "ipython3",
   "version": "3.8.6"
  }
 },
 "nbformat": 4,
 "nbformat_minor": 4
}
