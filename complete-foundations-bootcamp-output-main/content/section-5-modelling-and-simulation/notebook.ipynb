{
 "cells": [
  {
   "cell_type": "markdown",
   "metadata": {},
   "source": [
    "<span style=\"display:block;text-align:center;margin-right:105px\"><img src=\"../../media/logos/logo-vertical.png\" width=\"200\"/></span>\n",
    "\n",
    "# Section 5: Modelling & Simulation\n",
    "\n",
    "---"
   ]
  },
  {
   "cell_type": "markdown",
   "metadata": {},
   "source": [
    "# Table of Contents\n",
    "\n",
    "* [System Requirements (Part 1)](#System-Requirements)\n",
    "  * [Model Introduction](#Model-Introduction)\n",
    "  * [Requirements Analysis](#Requirements-Analysis) <!-- [Toy Model Introduction](#Toy-Model-Introduction:-An-Ecosystem-Model) [Some Context: Lotka & Volterra](#Some-Context:-Lotka-&-Volterra)-->\n",
    "  * [Visual System Mapping: Entity Relationship Diagram](#Visual-System-Mapping:-Entity-Relationship-Diagram)\n",
    "  * [Visual System Mapping: Stock & Flow Diagram](#Visual-System-Mapping:-Stock-&-Flow-Diagram)\n",
    "  * [Mathematical Specification](#Mathematical-Specification)\n",
    "* [System Design (Part 2)](#System-Design)\n",
    "  * [Differential Specification](#Differential-Specification)\n",
    "  * [cadCAD Standard Notebook Layout](#cadCAD-Standard-Notebook-Layout)\n",
    "    0. [Dependencies](#0.-Dependencies)\n",
    "    1. [State Variables](#1.-State-Variables)\n",
    "    2. [System Parameters](#2.-System-Parameters)\n",
    "    3. [Policy Functions](#3.-Policy-Functions)\n",
    "    4. [State Update Functions](#4.-State-Update-Functions)\n",
    "    5. [Partial State Update Blocks](#5.-Partial-State-Update-Blocks)\n",
    "    6. [Configuration](#6.-Configuration)\n",
    "    7. [Execution](#7.-Execution)\n",
    "    8. [Simulation Output Preparation](#8.-Simulation-Output-Preparation)\n",
    "    9. [Simulation Analysis](#9.-Simulation-Analysis)\n",
    "* [System Validation (Part 3)](#System-Validation)\n",
    "    * [Policy Functions](#Policy-Functions)\n",
    "    * [Model Improvements](#Model-Improvements)\n",
    "      * [Differential Specification Updates](#Differential-Specification-Updates)\n",
    "      * [Mathematical Specification Updates](#Mathematical-Specification-Updates)\n",
    "    * [Model Limitations](#Model-Limitations)\n",
    "\n",
    "<!--\n",
    "* [Toy Model Introduction](#Toy-Model-Introduction:-An-Ecosystem-Model)\n",
    "  * [Some Context: Lotka & Volterra](#Some-Context:-Lotka-&-Volterra)\n",
    "  * [Visual System Mapping: Entity Relationship Diagram](#Visual-System-Mapping:-Entity-Relationship-Diagram)\n",
    "  * [Requirements Analysis](#Requirements-Analysis)\n",
    "  * [Mathematical Specification](#Mathematical-Specification)\n",
    "  * [Visual System Mapping: Stock & Flow Diagram](#Visual-System-Mapping:-Stock-&-Flow-Diagram)\n",
    "  * [Differential Specification](#Differential-Specification)\n",
    "* [cadCAD Standard Notebook Layout](#cadCAD-Standard-Notebook-Layout)\n",
    "    0. [Dependencies](#0.-Dependencies)\n",
    "    1. [State Variables](#1.-State-Variables)\n",
    "    2. [System Parameters](#2.-System-Parameters)\n",
    "    3. [Policy Functions](#3.-Policy-Functions)\n",
    "    4. [State Update Functions](#4.-State-Update-Functions)\n",
    "    5. [Partial State Update Blocks](#5.-Partial-State-Update-Blocks)\n",
    "    6. [Configuration](#6.-Configuration)\n",
    "    7. [Execution](#7.-Execution)\n",
    "    8. [Simulation Output Preparation](#8.-Simulation-Output-Preparation)\n",
    "    9. [Simulation Analysis](#9.-Simulation-Analysis)\n",
    "-->"
   ]
  },
  {
   "cell_type": "markdown",
   "metadata": {},
   "source": [
    "---"
   ]
  },
  {
   "cell_type": "markdown",
   "metadata": {},
   "source": [
    "# System Requirements"
   ]
  },
  {
   "cell_type": "markdown",
   "metadata": {},
   "source": [
    "<center><img src=\"images/edp-phase-1.png\" alt=\"Engineering Design Process, phase 1 - System requirements\" width=\"60%\"/>"
   ]
  },
  {
   "cell_type": "markdown",
   "metadata": {
    "slideshow": {
     "slide_type": "subslide"
    }
   },
   "source": [
    "## Model Introduction\n",
    "\n",
    "> Ecosystem: a biological community of interacting organisms and their physical environment.\n",
    "\n",
    "<center>\n",
    "<img src=\"./images/ecosystem.png\"\n",
    "     alt=\"Ecosystem\"\n",
    "     style=\"width: 200px;\" />\n",
    "</center>"
   ]
  },
  {
   "cell_type": "markdown",
   "metadata": {},
   "source": [
    "<center>\n",
    "<img src=\"./images/lotka-volterra.png\"\n",
    "     alt=\"Lotka-Volterra\"\n",
    "     style=\"width: 60%;\" />\n",
    "</center>"
   ]
  },
  {
   "cell_type": "markdown",
   "metadata": {},
   "source": [
    "## Requirements Analysis"
   ]
  },
  {
   "cell_type": "markdown",
   "metadata": {},
   "source": [
    "[Link to Simulation Analysis](#9.-Simulation-Analysis)"
   ]
  },
  {
   "cell_type": "markdown",
   "metadata": {},
   "source": [
    "Illustrative real-world model applications:\n",
    "* Forecast animal food consumption, to determine the sustainability of a farming operation, and to plan for worst-case scenarios.\n",
    "* Given a food supply of a number of standard crops, of varying cost, how do we optimize economic performance of the farming operation?\n",
    "* Given the ecological impact of a certain crop on the fertility of the soil, how do we balance the economic performance and ecological sustainability of the farming operation?"
   ]
  },
  {
   "cell_type": "markdown",
   "metadata": {},
   "source": [
    "### Questions\n",
    "\n",
    "1. How long will our model ecosystem be able to sustain itself for?\n",
    "2. What population size can our model ecosystem support?\n",
    "\n",
    "### Assumptions\n",
    "\n",
    "1. The population will increase over time.\n",
    "2. The food supply will decrease over time.\n",
    "3. There is some relationship between the population and food supply.\n",
    "\n",
    "### Constraints / Scope\n",
    "\n",
    "* The intention of this toy model is to allow us to learn about cadCAD, the modelling process, simulation configuration, and the engineering design process!"
   ]
  },
  {
   "cell_type": "markdown",
   "metadata": {},
   "source": [
    "## Visual System Mapping: Entity Relationship Diagram\n",
    "<!-- https://en.wikipedia.org/wiki/Entity%E2%80%93relationship_model -->"
   ]
  },
  {
   "cell_type": "markdown",
   "metadata": {},
   "source": [
    "<center>\n",
    "<img src=\"./images/s5-entity-relationship-diagram.png\"\n",
    "     alt=\"Entity relationship diagram\"\n",
    "     style=\"width: 60%;\" />\n",
    "</center>"
   ]
  },
  {
   "cell_type": "markdown",
   "metadata": {},
   "source": [
    "## Visual System Mapping: Stock & Flow Diagram"
   ]
  },
  {
   "cell_type": "markdown",
   "metadata": {},
   "source": [
    "<center>\n",
    "<img src=\"./images/s5-stock-and-flow-ecosystem.png\"\n",
    "     alt=\"Stock and flow\"\n",
    "     style=\"width: 60%;\" />\n",
    "</center>"
   ]
  },
  {
   "cell_type": "markdown",
   "metadata": {},
   "source": [
    "## Mathematical Specification\n",
    "\n",
    "> ...differential equations play a prominent role in many disciplines including engineering, physics, economics, and biology."
   ]
  },
  {
   "cell_type": "markdown",
   "metadata": {},
   "source": [
    "### Differential Equations\n",
    "* A population consumes a food source, and reproduces at a rate proportional to the food source.\n",
    "* The food source is consumed at a rate proportional to the population.\n",
    "\n",
    "\\begin{align}\n",
    "\\large population_t &\\large= population_{t-1} + {\\Delta population} \\quad \\textrm{(sheep)} \\tag{1} \\\\\n",
    "\\large food_t &\\large= food_{t-1} + {\\Delta food} \\quad \\textrm{(tons of grass)} \\tag{2} \\\\\n",
    "\\end{align}\n",
    "\n",
    "where the rate of change ($\\Delta$) is:\n",
    "\\begin{align}\n",
    "\\large {\\Delta population} &\\large= \\alpha * food_{t-1} \\quad \\textrm{(sheep/month)}  \\\\\n",
    "\\large {\\Delta food} &\\large= -\\beta * population_{t-1} \\quad \\textrm{(tons of grass/month)}\n",
    "\\end{align}"
   ]
  },
  {
   "cell_type": "markdown",
   "metadata": {},
   "source": [
    "# System Design"
   ]
  },
  {
   "cell_type": "markdown",
   "metadata": {},
   "source": [
    "<center><img src=\"images/edp-phase-2.png\" alt=\"Engineering Design Process, phase 1 - System design\" width=\"60%\"/>"
   ]
  },
  {
   "cell_type": "markdown",
   "metadata": {},
   "source": [
    "## Differential Specification"
   ]
  },
  {
   "cell_type": "markdown",
   "metadata": {
    "slideshow": {
     "slide_type": "slide"
    }
   },
   "source": [
    "<center>\n",
    "<img src=\"./images/s5-differential-spec-ecosystem.png\"\n",
    "     alt=\"Differential spec\"\n",
    "     style=\"width: 60%;\" />\n",
    "</center>"
   ]
  },
  {
   "cell_type": "markdown",
   "metadata": {},
   "source": [
    "## cadCAD Standard Notebook Layout"
   ]
  },
  {
   "cell_type": "markdown",
   "metadata": {},
   "source": [
    "<center>\n",
    "<img src=\"./images/cadcad-flow.png\"\n",
    "     alt=\"cadCAD flow\"\n",
    "     style=\"width: 25%;\" />\n",
    "</center>"
   ]
  },
  {
   "cell_type": "markdown",
   "metadata": {},
   "source": [
    "# 0. Dependencies"
   ]
  },
  {
   "cell_type": "code",
   "execution_count": null,
   "metadata": {},
   "outputs": [],
   "source": [
    "# Standard libraries: https://docs.python.org/3/library/\n",
    "import math\n",
    "\n",
    "# Analysis and plotting modules\n",
    "import pandas as pd\n",
    "# import plotly"
   ]
  },
  {
   "cell_type": "code",
   "execution_count": null,
   "metadata": {},
   "outputs": [],
   "source": [
    "# cadCAD configuration modules\n",
    "from cadCAD.configuration.utils import config_sim\n",
    "from cadCAD.configuration import Experiment\n",
    "\n",
    "# cadCAD simulation engine modules\n",
    "from cadCAD.engine import ExecutionMode, ExecutionContext\n",
    "from cadCAD.engine import Executor"
   ]
  },
  {
   "cell_type": "markdown",
   "metadata": {},
   "source": [
    "# 1. State Variables"
   ]
  },
  {
   "cell_type": "markdown",
   "metadata": {},
   "source": [
    "> A state variable is one of the set of variables that are used to describe the mathematical \"state\" of a dynamical system. ([Wikipedia](https://en.wikipedia.org/wiki/State_variable))"
   ]
  },
  {
   "cell_type": "code",
   "execution_count": null,
   "metadata": {},
   "outputs": [],
   "source": [
    "initial_state = {\n",
    "    'population': 50, # number of sheep\n",
    "    'food': 1000 # tons of grass\n",
    "}\n",
    "initial_state"
   ]
  },
  {
   "cell_type": "markdown",
   "metadata": {},
   "source": [
    "## **Time** as a system state"
   ]
  },
  {
   "cell_type": "markdown",
   "metadata": {},
   "source": [
    "<center>\n",
    "<img src=\"./images/discrete-time.svg\"\n",
    "     alt=\"Discrete time\"\n",
    "     style=\"width: 200px;\" />\n",
    "</center>\n",
    "\n",
    "* 1 **timestep** == 1 month"
   ]
  },
  {
   "cell_type": "markdown",
   "metadata": {},
   "source": [
    "# 2. System Parameters\n",
    "\n",
    "> System parameterization is the process of choosing variables that impact the behaviour of the model. These parameters allow us to perform simulation techniques like parameter sweeps, Monte Carlo simulations, A/B tests, and see how the system behaves under a different model parameter set."
   ]
  },
  {
   "cell_type": "markdown",
   "metadata": {},
   "source": [
    "[Link to Simulation Analysis](#9.-Simulation-Analysis)"
   ]
  },
  {
   "cell_type": "code",
   "execution_count": null,
   "metadata": {},
   "outputs": [],
   "source": [
    "system_params = {\n",
    "    'reproduction_rate': [0.01], # sheep per month\n",
    "    'consumption_rate': [0.1], # tons of grass per month\n",
    "}\n",
    "system_params"
   ]
  },
  {
   "cell_type": "markdown",
   "metadata": {},
   "source": [
    "# 3. Policy Functions\n",
    "\n",
    "> A Policy Function computes one or more signals to be passed to State Update Functions. They describe the logic  and behaviour of a system component  or mechanism.\n",
    "\n",
    "We'll cover this in the next section!"
   ]
  },
  {
   "cell_type": "markdown",
   "metadata": {},
   "source": [
    "# 4. State Update Functions"
   ]
  },
  {
   "cell_type": "markdown",
   "metadata": {},
   "source": [
    "> We create State Update Functions to design the way our model state changes over time. These will usually represent the system differential specification."
   ]
  },
  {
   "cell_type": "markdown",
   "metadata": {},
   "source": [
    "```python\n",
    "def state_update_function(params, substep, state_history, previous_state, policy_input):\n",
    "    variable_value = 0\n",
    "    return 'variable_name', variable_value\n",
    "```\n",
    "\n",
    "* `params` is a Python dictionary containing the **system parameters** <!-- for consistency with the previous definition -->\n",
    "* `substep` is an integer value representing a step within a single `timestep`\n",
    "* `state_history` is a Python list of all previous states\n",
    "* `previous_state` is a Python dictionary that defines what the state of the system was at the **previous timestep** or **substep**\n",
    "* `policy_input` is a Python dictionary of signals or actions from **policy functions**"
   ]
  },
  {
   "cell_type": "code",
   "execution_count": null,
   "metadata": {},
   "outputs": [],
   "source": [
    "def new_population(current_population, alpha, food_supply):\n",
    "    \"\"\"\n",
    "    The population state after one timestep, according to the differential equation (1):\n",
    "    current_population + alpha * food_supply\n",
    "    \"\"\"\n",
    "    return math.ceil(current_population + alpha * food_supply)"
   ]
  },
  {
   "cell_type": "code",
   "execution_count": null,
   "metadata": {},
   "outputs": [],
   "source": [
    "math.ceil(5.5)"
   ]
  },
  {
   "cell_type": "code",
   "execution_count": null,
   "metadata": {},
   "outputs": [],
   "source": [
    "# Relevant state variables\n",
    "current_population = initial_state['population']\n",
    "food_supply = initial_state['food']\n",
    "\n",
    "# Relevant parameters\n",
    "reproduction_rate = system_params['reproduction_rate'][0] # \"alpha\" in our differential equation\n",
    "\n",
    "new_population(current_population, reproduction_rate, food_supply)"
   ]
  },
  {
   "cell_type": "code",
   "execution_count": null,
   "metadata": {},
   "outputs": [],
   "source": [
    "def s_population(params, substep, state_history, previous_state, policy_input):\n",
    "    \"\"\"\n",
    "    Update the population state according to the differential equation (1):\n",
    "    current_population + alpha * food_supply\n",
    "    \"\"\"\n",
    "    population = previous_state['population']\n",
    "    alpha = params['reproduction_rate']\n",
    "    food_supply = previous_state['food']\n",
    "    \n",
    "    return 'population', max(new_population(population, alpha, food_supply), 0)"
   ]
  },
  {
   "cell_type": "code",
   "execution_count": null,
   "metadata": {},
   "outputs": [],
   "source": [
    "population = 60\n",
    "print(\"A tuple!\")\n",
    "'population', max(math.ceil(population), 0)"
   ]
  },
  {
   "cell_type": "code",
   "execution_count": null,
   "metadata": {},
   "outputs": [],
   "source": [
    "next_state = {\n",
    "    # current_population + alpha * food_supply\n",
    "    'population': math.ceil(50 + 0.01 * 1000),\n",
    "    'food': 1000\n",
    "}\n",
    "next_state"
   ]
  },
  {
   "cell_type": "code",
   "execution_count": null,
   "metadata": {},
   "outputs": [],
   "source": [
    "def s_food(params, substep, state_history, previous_state, policy_input):\n",
    "    \"\"\"\n",
    "    Update the food supply state according to the differential equation (2):\n",
    "    food supply - beta * population\n",
    "    \"\"\"\n",
    "    food = previous_state['food'] - params['consumption_rate'] * previous_state['population']\n",
    "    return 'food', max(food, 0)"
   ]
  },
  {
   "cell_type": "code",
   "execution_count": null,
   "metadata": {},
   "outputs": [],
   "source": [
    "max(-10, 0)"
   ]
  },
  {
   "cell_type": "markdown",
   "metadata": {},
   "source": [
    "# 5. Partial State Update Blocks\n",
    "## Tying it all together\n",
    "\n",
    "> A series of Partial State Update Blocks is a structure for composing State Update Functions and Policy Functions in series or parallel, as a representation of the system model. "
   ]
  },
  {
   "cell_type": "markdown",
   "metadata": {},
   "source": [
    "<center>\n",
    "<img src=\"./images/basic-psub.png\"\n",
    "     alt=\"Policy functions\"\n",
    "     style=\"width: 60%;\" />\n",
    "</center>"
   ]
  },
  {
   "cell_type": "markdown",
   "metadata": {},
   "source": [
    "**Updates run in series**"
   ]
  },
  {
   "cell_type": "code",
   "execution_count": null,
   "metadata": {},
   "outputs": [],
   "source": [
    "partial_state_update_blocks = [\n",
    "    # Run first\n",
    "    {\n",
    "        'policies': {}, # Ignore for now\n",
    "        # State variables\n",
    "        'variables': {\n",
    "            'population': s_population\n",
    "        }\n",
    "    },\n",
    "    # Run second\n",
    "    {\n",
    "        'policies': {}, # Ignore for now\n",
    "        # State variables\n",
    "        'variables': {\n",
    "            'food': s_food\n",
    "        }\n",
    "    }\n",
    "]"
   ]
  },
  {
   "cell_type": "markdown",
   "metadata": {},
   "source": [
    "**Updates run in parallel**"
   ]
  },
  {
   "cell_type": "code",
   "execution_count": null,
   "metadata": {},
   "outputs": [],
   "source": [
    "partial_state_update_blocks = [\n",
    "    {\n",
    "        'policies': {}, # Ignore for now\n",
    "        # State variables\n",
    "        'variables': {\n",
    "            # Updated in parallel\n",
    "            'population': s_population,\n",
    "            'food': s_food\n",
    "        }\n",
    "    }\n",
    "]"
   ]
  },
  {
   "cell_type": "markdown",
   "metadata": {},
   "source": [
    "# 6. Configuration"
   ]
  },
  {
   "cell_type": "markdown",
   "metadata": {},
   "source": [
    "> The configuration stage is about tying all the previous model components together and choosing how the simulation should run."
   ]
  },
  {
   "cell_type": "markdown",
   "metadata": {},
   "source": [
    "<center>\n",
    "<img src=\"./images/cadcad-flow.png\"\n",
    "     alt=\"cadCAD flow\"\n",
    "     style=\"width: 25%;\" />\n",
    "</center>"
   ]
  },
  {
   "cell_type": "markdown",
   "metadata": {},
   "source": [
    "Configuration parameters:\n",
    "* `'N': 1` - the number of times we'll run the simulation (you'll see them called \"Monte Carlo runs\" later in the course, when we look at tools to analyze system models)\n",
    "* `'T': range(400)` - the number of timesteps the simulation will run for\n",
    "* `'M': system_params` - the parameters of the system"
   ]
  },
  {
   "cell_type": "code",
   "execution_count": null,
   "metadata": {},
   "outputs": [],
   "source": [
    "sim_config = config_sim({\n",
    "    \"N\": 1,\n",
    "    \"T\": range(400),\n",
    "    \"M\": system_params\n",
    "})"
   ]
  },
  {
   "cell_type": "code",
   "execution_count": null,
   "metadata": {},
   "outputs": [],
   "source": [
    "range(400)"
   ]
  },
  {
   "cell_type": "code",
   "execution_count": null,
   "metadata": {},
   "outputs": [],
   "source": [
    "list(range(400))[0:10]"
   ]
  },
  {
   "cell_type": "code",
   "execution_count": null,
   "metadata": {},
   "outputs": [],
   "source": [
    "from cadCAD import configs\n",
    "del configs[:] # Clear any prior configs"
   ]
  },
  {
   "cell_type": "code",
   "execution_count": null,
   "metadata": {},
   "outputs": [],
   "source": [
    "experiment = Experiment()\n",
    "experiment.append_configs(\n",
    "    initial_state = initial_state,\n",
    "    partial_state_update_blocks = partial_state_update_blocks,\n",
    "    sim_configs = sim_config\n",
    ")\n",
    "configs[-1].__dict__"
   ]
  },
  {
   "cell_type": "markdown",
   "metadata": {},
   "source": [
    "# 7. Execution\n",
    "\n",
    "> The Execution Engine takes a model and configuration, and computes the simulation output."
   ]
  },
  {
   "cell_type": "markdown",
   "metadata": {},
   "source": [
    "## Configuring the cadCAD simulation execution"
   ]
  },
  {
   "cell_type": "code",
   "execution_count": null,
   "metadata": {},
   "outputs": [],
   "source": [
    "exec_context = ExecutionContext()"
   ]
  },
  {
   "cell_type": "code",
   "execution_count": null,
   "metadata": {},
   "outputs": [],
   "source": [
    "simulation = Executor(exec_context=exec_context, configs=configs)"
   ]
  },
  {
   "cell_type": "markdown",
   "metadata": {},
   "source": [
    "## Time to simulate our ecosystem model!"
   ]
  },
  {
   "cell_type": "code",
   "execution_count": null,
   "metadata": {},
   "outputs": [],
   "source": [
    "raw_result, tensor_field, sessions = simulation.execute()"
   ]
  },
  {
   "cell_type": "markdown",
   "metadata": {},
   "source": [
    "# 8. Simulation Output Preparation\n",
    "> The simulation results are returned as a list of Python dictionaries, which we then convert to a Pandas dataframe. At this stage of the process you'll manipulate and analyze your results to answer questions about your model."
   ]
  },
  {
   "cell_type": "code",
   "execution_count": null,
   "metadata": {},
   "outputs": [],
   "source": [
    "simulation_result = pd.DataFrame(raw_result)"
   ]
  },
  {
   "cell_type": "code",
   "execution_count": null,
   "metadata": {},
   "outputs": [],
   "source": [
    "raw_result[:5]"
   ]
  },
  {
   "cell_type": "code",
   "execution_count": null,
   "metadata": {},
   "outputs": [],
   "source": [
    "simulation_result.head()"
   ]
  },
  {
   "cell_type": "markdown",
   "metadata": {},
   "source": [
    "# 9. Simulation Analysis"
   ]
  },
  {
   "cell_type": "markdown",
   "metadata": {},
   "source": [
    "[Link to System Requirements](#Requirements-Analysis)"
   ]
  },
  {
   "cell_type": "code",
   "execution_count": null,
   "metadata": {},
   "outputs": [],
   "source": [
    "pd.options.plotting.backend = \"plotly\""
   ]
  },
  {
   "cell_type": "markdown",
   "metadata": {},
   "source": [
    "After plotting the results, let's go and update the parameters, and then select `Cell` and `Run All Above`:\n",
    "\n",
    "[Link to System Parameters](#2.-System-Parameters)"
   ]
  },
  {
   "cell_type": "code",
   "execution_count": null,
   "metadata": {},
   "outputs": [],
   "source": [
    "simulation_result.plot(\n",
    "    kind='line',\n",
    "    x='timestep',\n",
    "    y=['population','food']\n",
    ")"
   ]
  },
  {
   "cell_type": "code",
   "execution_count": null,
   "metadata": {},
   "outputs": [],
   "source": [
    "pd.set_option('display.max_rows', len(simulation_result))\n",
    "display(simulation_result)\n",
    "pd.reset_option('display.max_rows')"
   ]
  },
  {
   "cell_type": "code",
   "execution_count": null,
   "metadata": {},
   "outputs": [],
   "source": [
    "# https://pandas.pydata.org/pandas-docs/stable/user_guide/indexing.html\n",
    "simulation_result.query('food == 0').head()"
   ]
  },
  {
   "cell_type": "markdown",
   "metadata": {},
   "source": [
    "# System Validation"
   ]
  },
  {
   "cell_type": "markdown",
   "metadata": {},
   "source": [
    "<center><img src=\"images/edp-phase-3.png\" alt=\"Engineering Design Process, phase 1 - validation\" width=\"60%\"/>"
   ]
  },
  {
   "cell_type": "markdown",
   "metadata": {},
   "source": [
    "## Policy Functions"
   ]
  },
  {
   "cell_type": "markdown",
   "metadata": {},
   "source": [
    "An illustrative example:\n",
    "\n",
    "```python\n",
    "condition = True\n",
    "\n",
    "def policy_function(params, substep, state_history, previous_state):\n",
    "    '''\n",
    "    This logic belongs in the policy function,\n",
    "    but could also have been placed directly in the state update function.\n",
    "    '''\n",
    "    signal_value = 1 if condition else 0\n",
    "    return {'signal_name': signal_value}\n",
    "```\n",
    "\n",
    "```python\n",
    "def state_update_function(params, substep, state_history, previous_state, policy_input):\n",
    "    state_value = policy_input['signal_name']\n",
    "    return 'state_name', state_value\n",
    "```"
   ]
  },
  {
   "cell_type": "markdown",
   "metadata": {},
   "source": [
    "<center>\n",
    "<img src=\"./images/basic-psub.png\"\n",
    "     alt=\"Policy functions\"\n",
    "     style=\"width: 60%;\" />\n",
    "</center>"
   ]
  },
  {
   "cell_type": "markdown",
   "metadata": {},
   "source": [
    "<center>\n",
    "<img src=\"./images/policy-explainer.png\"\n",
    "     alt=\"Policy functions\"\n",
    "     style=\"width: 60%;\" />\n",
    "</center>"
   ]
  },
  {
   "cell_type": "markdown",
   "metadata": {},
   "source": [
    "### Policy Aggregation"
   ]
  },
  {
   "cell_type": "markdown",
   "metadata": {},
   "source": [
    "<center>\n",
    "<img src=\"./images/policy-aggregation-explainer.png\"\n",
    "     alt=\"Policy functions\"\n",
    "     style=\"width: 60%;\" />\n",
    "</center>"
   ]
  },
  {
   "cell_type": "markdown",
   "metadata": {},
   "source": [
    "## Model Improvements"
   ]
  },
  {
   "cell_type": "markdown",
   "metadata": {},
   "source": [
    "### Differential Specification Updates"
   ]
  },
  {
   "cell_type": "markdown",
   "metadata": {
    "slideshow": {
     "slide_type": "slide"
    }
   },
   "source": [
    "<center>\n",
    "<img src=\"./images/s5-differential-spec-ecosystem-policy-refactor.png\"\n",
    "     alt=\"Differential spec\"\n",
    "     style=\"width: 60%;\" />\n",
    "</center>"
   ]
  },
  {
   "cell_type": "markdown",
   "metadata": {},
   "source": [
    "State update functions `s_population()` and `s_food()` from the last part:"
   ]
  },
  {
   "cell_type": "code",
   "execution_count": null,
   "metadata": {},
   "outputs": [],
   "source": [
    "def s_population(params, substep, state_history, previous_state, policy_input):\n",
    "    population = previous_state['population'] + params['reproduction_rate'] * previous_state['food']\n",
    "    return 'population', max(math.ceil(population), 0)\n",
    "\n",
    "def s_food(params, substep, state_history, previous_state, policy_input):\n",
    "    food = previous_state['food'] - params['consumption_rate'] * previous_state['population']\n",
    "    return 'food', max(food, 0)"
   ]
  },
  {
   "cell_type": "markdown",
   "metadata": {},
   "source": [
    "Adapting to use **policy functions** to drive the process, and **state update functions** to update the state according to the **differential specification**:"
   ]
  },
  {
   "cell_type": "code",
   "execution_count": null,
   "metadata": {},
   "outputs": [],
   "source": [
    "def p_reproduction(params, substep, state_history, previous_state):\n",
    "    population_reproduction = params['reproduction_rate'] * previous_state['food']\n",
    "    return {'delta_population': population_reproduction}\n",
    "\n",
    "def p_consumption(params, substep, state_history, previous_state):\n",
    "    food_consumption = params['consumption_rate'] * previous_state['population']\n",
    "    return {'delta_food': -food_consumption}"
   ]
  },
  {
   "cell_type": "code",
   "execution_count": null,
   "metadata": {},
   "outputs": [],
   "source": [
    "def s_population(params, substep, state_history, previous_state, policy_input):\n",
    "    population = previous_state['population'] + policy_input['delta_population'] \n",
    "    return 'population', max(math.ceil(population), 0)\n",
    "\n",
    "def s_food(params, substep, state_history, previous_state, policy_input):\n",
    "    food = previous_state['food'] + policy_input['delta_food'] \n",
    "    return 'food', max(food, 0)"
   ]
  },
  {
   "cell_type": "markdown",
   "metadata": {},
   "source": [
    "### Mathematical Specification Updates"
   ]
  },
  {
   "cell_type": "markdown",
   "metadata": {},
   "source": [
    "\\begin{align}\n",
    "\\large population_t &\\large= population_{t-1} + {\\Delta population} \\quad \\textrm{(sheep)} \\tag{1} \\\\\n",
    "\\large food_t &\\large= food_{t-1} + {\\Delta food} \\quad \\textrm{(tons of grass)} \\tag{2}\n",
    "\\end{align}\n",
    "\n",
    "where the rate of change ($\\Delta$) is:\n",
    "\\begin{align}\n",
    "\\large {\\Delta population} &\\large= \\alpha * food_{t-1} \\quad \\textrm{(sheep/month)} \\\\\n",
    "\\large {\\Delta food} &\\large= -\\beta * population_{t-1} + \\gamma \\quad \\textrm{(tons of grass/month)}\n",
    "\\end{align}\n",
    "\n",
    "where:\n",
    "\n",
    "$\n",
    "\\begin{align}\n",
    "\\alpha: \\quad &\\textrm{'reproduction_rate'}\\\\\n",
    "\\beta: \\quad &\\textrm{'consumption_rate'}\\\\\n",
    "\\gamma: \\quad &\\textrm{'growth_rate'}\n",
    "\\end{align}\n",
    "$\n",
    "\n",
    "* A population consumes a food source, and reproduces at a rate proportional to the food source $\\alpha$ (alpha).\n",
    "* The food source is consumed at a rate proportional to the population $\\beta$ (beta), and grows at a constant rate $\\gamma$ (gamma)."
   ]
  },
  {
   "cell_type": "markdown",
   "metadata": {},
   "source": [
    "<center>\n",
    "<img src=\"./images/s6-differential-spec-ecosystem-with-gamma.png\"\n",
    "     alt=\"Diff spec\"\n",
    "     style=\"width: 60%\" />\n",
    "</center>"
   ]
  },
  {
   "cell_type": "code",
   "execution_count": null,
   "metadata": {},
   "outputs": [],
   "source": [
    "initial_state = {\n",
    "    'population': 50, # number of sheep\n",
    "    'food': 1000 # tons of grass\n",
    "}\n",
    "\n",
    "system_params = {\n",
    "    'reproduction_rate': [0.01], # number of sheep / month\n",
    "    'consumption_rate': [0.01], # tons of grass / month\n",
    "    'growth_rate': [10.0], # tons of grass / month\n",
    "}"
   ]
  },
  {
   "cell_type": "code",
   "execution_count": null,
   "metadata": {},
   "outputs": [],
   "source": [
    "from collections import Counter"
   ]
  },
  {
   "cell_type": "code",
   "execution_count": null,
   "metadata": {},
   "outputs": [],
   "source": [
    "A = Counter({'delta_food': 5, 'delta_population': 10})\n",
    "B = Counter({'delta_food': 5})\n",
    "A + B"
   ]
  },
  {
   "cell_type": "code",
   "execution_count": null,
   "metadata": {},
   "outputs": [],
   "source": [
    "A = Counter({'delta_food': 5, 'delta_population': 10})\n",
    "B = Counter({'delta_food': -2})\n",
    "A + B"
   ]
  },
  {
   "cell_type": "code",
   "execution_count": null,
   "metadata": {},
   "outputs": [],
   "source": [
    "def p_growth(params, substep, state_history, previous_state):\n",
    "    delta_food = params['growth_rate']\n",
    "    return {'delta_food': delta_food}"
   ]
  },
  {
   "cell_type": "code",
   "execution_count": null,
   "metadata": {},
   "outputs": [],
   "source": [
    "partial_state_update_blocks = [\n",
    "    {\n",
    "        'policies': {\n",
    "            'reproduction': p_reproduction,\n",
    "            'consumption': p_consumption, # Signal: `delta_food`\n",
    "            'growth': p_growth # Signal: `delta_food`\n",
    "        },\n",
    "        'variables': {\n",
    "            'population': s_population,\n",
    "            'food': s_food # Receives policy_input of (consumption + growth) as `delta_food`\n",
    "        }\n",
    "    }\n",
    "]"
   ]
  },
  {
   "cell_type": "code",
   "execution_count": null,
   "metadata": {},
   "outputs": [],
   "source": [
    "del configs[:]\n",
    "\n",
    "sim_config = config_sim({\n",
    "    'N': 1,\n",
    "    'T': range(400),\n",
    "    'M': system_params\n",
    "})\n",
    "\n",
    "experiment.append_configs(\n",
    "    initial_state = initial_state,\n",
    "    partial_state_update_blocks = partial_state_update_blocks,\n",
    "    sim_configs = sim_config\n",
    ")"
   ]
  },
  {
   "cell_type": "code",
   "execution_count": null,
   "metadata": {},
   "outputs": [],
   "source": [
    "exec_context = ExecutionContext()\n",
    "\n",
    "simulation = Executor(exec_context=exec_context, configs=configs)\n",
    "raw_result, tensor_field, sessions = simulation.execute()"
   ]
  },
  {
   "cell_type": "code",
   "execution_count": null,
   "metadata": {},
   "outputs": [],
   "source": [
    "simulation_result = pd.DataFrame(raw_result)\n",
    "simulation_result"
   ]
  },
  {
   "cell_type": "code",
   "execution_count": null,
   "metadata": {},
   "outputs": [],
   "source": [
    "df = simulation_result.copy()\n",
    "df = df[df.simulation == 0]\n",
    "df"
   ]
  },
  {
   "cell_type": "code",
   "execution_count": null,
   "metadata": {},
   "outputs": [],
   "source": [
    "df.plot(kind='line', x='timestep', y=['population','food'])"
   ]
  },
  {
   "cell_type": "code",
   "execution_count": null,
   "metadata": {},
   "outputs": [],
   "source": [
    "df = df[['population', 'food']]\n",
    "df.head()"
   ]
  },
  {
   "cell_type": "code",
   "execution_count": null,
   "metadata": {},
   "outputs": [],
   "source": [
    "df.pct_change()"
   ]
  },
  {
   "cell_type": "code",
   "execution_count": null,
   "metadata": {},
   "outputs": [],
   "source": [
    "diff = df.diff()\n",
    "diff"
   ]
  },
  {
   "cell_type": "code",
   "execution_count": null,
   "metadata": {},
   "outputs": [],
   "source": [
    "diff = diff.query('food <= 0')\n",
    "diff"
   ]
  },
  {
   "cell_type": "code",
   "execution_count": null,
   "metadata": {},
   "outputs": [],
   "source": [
    "df.iloc[75]"
   ]
  },
  {
   "cell_type": "markdown",
   "metadata": {},
   "source": [
    "## Model Limitations"
   ]
  },
  {
   "cell_type": "markdown",
   "metadata": {},
   "source": [
    "1. The population never dies.\n",
    "2. The system reaches a steady state of no population or food supply change."
   ]
  },
  {
   "cell_type": "markdown",
   "metadata": {},
   "source": [
    "#### Addition of a population death rate, \"epsilon\" / $\\epsilon$, that's dependent on the population size:\n",
    "<br>\n",
    "\n",
    "\\begin{align}\n",
    "\\large population_t &\\large= population_{t-1} + {\\Delta population} \\quad \\textrm{(sheep)} \\tag{1} \\\\\n",
    "\\large food_t &\\large= food_{t-1} + {\\Delta food} \\quad \\textrm{(tons of grass)} \\tag{2}\n",
    "\\end{align}\n",
    "\n",
    "where the rate of change ($\\Delta$) is:\n",
    "\\begin{align}\n",
    "\\large {\\Delta population} &\\large= \\alpha * food_{t-1} - \\epsilon * population_{t-1} \\quad \\textrm{(sheep/month)} \\\\\n",
    "\\large {\\Delta food} &\\large= -\\beta * population_{t-1} + \\gamma \\quad \\textrm{(tons of grass/month)}\n",
    "\\end{align}\n",
    "\n",
    "where:\n",
    "\n",
    "$\n",
    "\\begin{align}\n",
    "\\alpha: \\quad &\\textrm{'reproduction_rate'}\\\\\n",
    "\\epsilon: \\quad &\\textrm{'death_rate'}\\\\\n",
    "\\beta: \\quad &\\textrm{'consumption_rate'}\\\\\n",
    "\\gamma: \\quad &\\textrm{'growth_rate'}\\\\\n",
    "\\end{align}\n",
    "$\n",
    "\n",
    "* A population consumes a food source, and reproduces at a rate proportional to the food source $\\alpha$ (alpha), and dies at a rate proportional to the population size $\\epsilon$ (epsilon).\n",
    "* The food source is consumed at a rate proportional to the population $\\beta$ (beta), and grows at a constant rate $\\gamma$ (gamma)."
   ]
  },
  {
   "cell_type": "markdown",
   "metadata": {},
   "source": [
    "<center>\n",
    "<img src=\"./images/s6-differential-spec-ecosystem-final.png\"\n",
    "     alt=\"Diff spec\"\n",
    "     style=\"width: 60%\" />\n",
    "</center>"
   ]
  },
  {
   "cell_type": "code",
   "execution_count": null,
   "metadata": {},
   "outputs": [],
   "source": [
    "def p_death(params, substep, state_history, previous_state):\n",
    "    population_death = params['death_rate'] * previous_state['population']\n",
    "    return {'delta_population': -population_death}"
   ]
  },
  {
   "cell_type": "code",
   "execution_count": null,
   "metadata": {},
   "outputs": [],
   "source": [
    "initial_state = {\n",
    "    'population': 50, # number of sheep\n",
    "    'food': 1000 # tons of grass\n",
    "}\n",
    "\n",
    "system_params = {\n",
    "    'reproduction_rate': [0.01],\n",
    "    'death_rate': [0.01],\n",
    "    'consumption_rate': [0.01],\n",
    "    'growth_rate': [10.0],\n",
    "}"
   ]
  },
  {
   "cell_type": "code",
   "execution_count": null,
   "metadata": {},
   "outputs": [],
   "source": [
    "partial_state_update_blocks = [\n",
    "    {\n",
    "        'policies': {\n",
    "            'reproduction': p_reproduction,\n",
    "            'death': p_death,\n",
    "            'consumption': p_consumption,\n",
    "            'growth': p_growth\n",
    "        },\n",
    "        'variables': {\n",
    "            'population': s_population,\n",
    "            'food': s_food\n",
    "        }\n",
    "    }\n",
    "]"
   ]
  },
  {
   "cell_type": "code",
   "execution_count": null,
   "metadata": {},
   "outputs": [],
   "source": [
    "sim_config = config_sim({\n",
    "    'N': 1,\n",
    "    'T': range(1000),\n",
    "    'M': system_params\n",
    "})\n",
    "\n",
    "experiment.append_configs(\n",
    "    initial_state = initial_state,\n",
    "    partial_state_update_blocks = partial_state_update_blocks,\n",
    "    sim_configs = sim_config\n",
    ")"
   ]
  },
  {
   "cell_type": "code",
   "execution_count": null,
   "metadata": {},
   "outputs": [],
   "source": [
    "exec_context = ExecutionContext()\n",
    "\n",
    "simulation = Executor(exec_context=exec_context, configs=configs)\n",
    "raw_result, tensor_field, sessions = simulation.execute()"
   ]
  },
  {
   "cell_type": "code",
   "execution_count": null,
   "metadata": {},
   "outputs": [],
   "source": [
    "simulation_result = pd.DataFrame(raw_result)"
   ]
  },
  {
   "cell_type": "code",
   "execution_count": null,
   "metadata": {},
   "outputs": [],
   "source": [
    "df = simulation_result.copy()\n",
    "df = df[df.simulation == 1]\n",
    "df"
   ]
  },
  {
   "cell_type": "code",
   "execution_count": null,
   "metadata": {},
   "outputs": [],
   "source": [
    "df.plot(kind='line', x='timestep', y=['population','food'])"
   ]
  },
  {
   "cell_type": "markdown",
   "metadata": {},
   "source": [
    "<br/><br/><br/>\n",
    "# Well done!\n",
    "<br/><br/><br/><br/>"
   ]
  }
 ],
 "metadata": {
  "kernelspec": {
   "display_name": "Python 3",
   "language": "python",
   "name": "python3"
  },
  "language_info": {
   "codemirror_mode": {
    "name": "ipython",
    "version": 3
   },
   "file_extension": ".py",
   "mimetype": "text/x-python",
   "name": "python",
   "nbconvert_exporter": "python",
   "pygments_lexer": "ipython3",
   "version": "3.8.6"
  }
 },
 "nbformat": 4,
 "nbformat_minor": 4
}
